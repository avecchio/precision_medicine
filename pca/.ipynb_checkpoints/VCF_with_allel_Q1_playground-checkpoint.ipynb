{
 "cells": [
  {
   "cell_type": "code",
   "execution_count": 1,
   "metadata": {
    "collapsed": false,
    "jupyter": {
     "outputs_hidden": false
    }
   },
   "outputs": [
    {
     "name": "stdout",
     "output_type": "stream",
     "text": [
      "1.3.6\n"
     ]
    }
   ],
   "source": [
    "# import scikit-allel\n",
    "import allel\n",
    "# check which version is installed\n",
    "print(allel.__version__)"
   ]
  },
  {
   "cell_type": "code",
   "execution_count": 2,
   "metadata": {
    "collapsed": false,
    "jupyter": {
     "outputs_hidden": false
    }
   },
   "outputs": [],
   "source": [
    "callset = allel.read_vcf('sel4.chr22.phase3_shapegenotypes.vcf.gz.recode.vcf.gz')"
   ]
  },
  {
   "cell_type": "code",
   "execution_count": 3,
   "metadata": {
    "collapsed": false,
    "jupyter": {
     "outputs_hidden": false
    }
   },
   "outputs": [
    {
     "data": {
      "text/plain": [
       "['calldata/GT',\n",
       " 'samples',\n",
       " 'variants/ALT',\n",
       " 'variants/CHROM',\n",
       " 'variants/FILTER_PASS',\n",
       " 'variants/ID',\n",
       " 'variants/POS',\n",
       " 'variants/QUAL',\n",
       " 'variants/REF']"
      ]
     },
     "execution_count": 3,
     "metadata": {},
     "output_type": "execute_result"
    }
   ],
   "source": [
    "sorted(callset.keys())"
   ]
  },
  {
   "cell_type": "code",
   "execution_count": 4,
   "metadata": {
    "collapsed": false,
    "jupyter": {
     "outputs_hidden": false
    }
   },
   "outputs": [
    {
     "data": {
      "text/plain": [
       "array(['HG00096', 'HG00097', 'HG00099', 'HG00100', 'HG00171', 'HG00173',\n",
       "       'HG00174', 'HG00176', 'HG00403', 'HG00404', 'HG00406', 'HG00407',\n",
       "       'HG00551', 'HG00553', 'HG00554', 'HG00637', 'HG00759', 'HG00766',\n",
       "       'HG00844', 'HG00851', 'HG01112', 'HG01113', 'HG01119', 'HG01121',\n",
       "       'HG01500', 'HG01501', 'HG01503', 'HG01504', 'HG01565', 'HG01566',\n",
       "       'HG01571', 'HG01572', 'HG01583', 'HG01586', 'HG01589', 'HG01593',\n",
       "       'HG01595', 'HG01596', 'HG01597', 'HG01598', 'HG01879', 'HG01880',\n",
       "       'HG01882', 'HG01883', 'HG02461', 'HG02462', 'HG02464', 'HG02465',\n",
       "       'HG02922', 'HG02923', 'HG02938', 'HG02941', 'HG03006', 'HG03007',\n",
       "       'HG03009', 'HG03012', 'HG03052', 'HG03054', 'HG03055', 'HG03057',\n",
       "       'HG03642', 'HG03643', 'HG03644', 'HG03645', 'HG03713', 'HG03714',\n",
       "       'HG03716', 'HG03717', 'NA06984', 'NA06985', 'NA06986', 'NA06989',\n",
       "       'NA18486', 'NA18488', 'NA18489', 'NA18498', 'NA18525', 'NA18526',\n",
       "       'NA18528', 'NA18530', 'NA18939', 'NA18940', 'NA18941', 'NA18942',\n",
       "       'NA19017', 'NA19019', 'NA19020', 'NA19023', 'NA19625', 'NA19648',\n",
       "       'NA19649', 'NA19651', 'NA19652', 'NA19700', 'NA19701', 'NA19703',\n",
       "       'NA20502', 'NA20503', 'NA20504', 'NA20505', 'NA20845', 'NA20846',\n",
       "       'NA20847', 'NA20849'], dtype=object)"
      ]
     },
     "execution_count": 4,
     "metadata": {},
     "output_type": "execute_result"
    }
   ],
   "source": [
    "callset['samples']"
   ]
  },
  {
   "cell_type": "code",
   "execution_count": 5,
   "metadata": {
    "collapsed": false,
    "jupyter": {
     "outputs_hidden": false
    }
   },
   "outputs": [
    {
     "data": {
      "text/plain": [
       "array([16050075, 16050115, 16050213, ..., 51244163, 51244205, 51244237],\n",
       "      dtype=int32)"
      ]
     },
     "execution_count": 5,
     "metadata": {},
     "output_type": "execute_result"
    }
   ],
   "source": [
    "callset['variants/POS']"
   ]
  },
  {
   "cell_type": "code",
   "execution_count": 6,
   "metadata": {
    "collapsed": false,
    "jupyter": {
     "outputs_hidden": false
    }
   },
   "outputs": [
    {
     "data": {
      "text/html": [
       "<div class=\"allel allel-DisplayAs2D\"><span>&lt;GenotypeArray shape=(1103547, 104, 2) dtype=int8&gt;</span><table><thead><tr><th></th><th style=\"text-align: center\">0</th><th style=\"text-align: center\">1</th><th style=\"text-align: center\">2</th><th style=\"text-align: center\">3</th><th style=\"text-align: center\">4</th><th style=\"text-align: center\">...</th><th style=\"text-align: center\">99</th><th style=\"text-align: center\">100</th><th style=\"text-align: center\">101</th><th style=\"text-align: center\">102</th><th style=\"text-align: center\">103</th></tr></thead><tbody><tr><th style=\"text-align: center; background-color: white; border-right: 1px solid black; \">0</th><td style=\"text-align: center\">0/0</td><td style=\"text-align: center\">0/0</td><td style=\"text-align: center\">0/0</td><td style=\"text-align: center\">0/0</td><td style=\"text-align: center\">0/0</td><td style=\"text-align: center\">...</td><td style=\"text-align: center\">0/0</td><td style=\"text-align: center\">0/0</td><td style=\"text-align: center\">0/0</td><td style=\"text-align: center\">0/0</td><td style=\"text-align: center\">0/0</td></tr><tr><th style=\"text-align: center; background-color: white; border-right: 1px solid black; \">1</th><td style=\"text-align: center\">0/0</td><td style=\"text-align: center\">0/0</td><td style=\"text-align: center\">0/0</td><td style=\"text-align: center\">0/0</td><td style=\"text-align: center\">0/0</td><td style=\"text-align: center\">...</td><td style=\"text-align: center\">0/0</td><td style=\"text-align: center\">0/0</td><td style=\"text-align: center\">0/0</td><td style=\"text-align: center\">0/0</td><td style=\"text-align: center\">0/0</td></tr><tr><th style=\"text-align: center; background-color: white; border-right: 1px solid black; \">2</th><td style=\"text-align: center\">0/0</td><td style=\"text-align: center\">0/0</td><td style=\"text-align: center\">0/0</td><td style=\"text-align: center\">0/0</td><td style=\"text-align: center\">0/0</td><td style=\"text-align: center\">...</td><td style=\"text-align: center\">0/0</td><td style=\"text-align: center\">0/0</td><td style=\"text-align: center\">0/0</td><td style=\"text-align: center\">0/0</td><td style=\"text-align: center\">0/0</td></tr><tr><th style=\"text-align: center; background-color: white; border-right: 1px solid black; \">...</th><td style=\"text-align: center\" colspan=\"12\">...</td></tr><tr><th style=\"text-align: center; background-color: white; border-right: 1px solid black; \">1103544</th><td style=\"text-align: center\">0/0</td><td style=\"text-align: center\">0/0</td><td style=\"text-align: center\">0/0</td><td style=\"text-align: center\">0/0</td><td style=\"text-align: center\">0/0</td><td style=\"text-align: center\">...</td><td style=\"text-align: center\">0/0</td><td style=\"text-align: center\">0/0</td><td style=\"text-align: center\">0/0</td><td style=\"text-align: center\">0/0</td><td style=\"text-align: center\">0/0</td></tr><tr><th style=\"text-align: center; background-color: white; border-right: 1px solid black; \">1103545</th><td style=\"text-align: center\">0/0</td><td style=\"text-align: center\">0/0</td><td style=\"text-align: center\">0/0</td><td style=\"text-align: center\">0/0</td><td style=\"text-align: center\">0/0</td><td style=\"text-align: center\">...</td><td style=\"text-align: center\">0/0</td><td style=\"text-align: center\">0/0</td><td style=\"text-align: center\">0/0</td><td style=\"text-align: center\">0/0</td><td style=\"text-align: center\">0/0</td></tr><tr><th style=\"text-align: center; background-color: white; border-right: 1px solid black; \">1103546</th><td style=\"text-align: center\">0/0</td><td style=\"text-align: center\">0/0</td><td style=\"text-align: center\">0/0</td><td style=\"text-align: center\">0/0</td><td style=\"text-align: center\">0/0</td><td style=\"text-align: center\">...</td><td style=\"text-align: center\">0/0</td><td style=\"text-align: center\">0/0</td><td style=\"text-align: center\">0/0</td><td style=\"text-align: center\">0/0</td><td style=\"text-align: center\">0/0</td></tr></tbody></table></div>"
      ],
      "text/plain": [
       "<GenotypeArray shape=(1103547, 104, 2) dtype=int8>\n",
       "0/0 0/0 0/0 0/0 0/0 ... 0/0 0/0 0/0 0/0 0/0\n",
       "0/0 0/0 0/0 0/0 0/0 ... 0/0 0/0 0/0 0/0 0/0\n",
       "0/0 0/0 0/0 0/0 0/0 ... 0/0 0/0 0/0 0/0 0/0\n",
       "...\n",
       "0/0 0/0 0/0 0/0 0/0 ... 0/0 0/0 0/0 0/0 0/0\n",
       "0/0 0/0 0/0 0/0 0/0 ... 0/0 0/0 0/0 0/0 0/0\n",
       "0/0 0/0 0/0 0/0 0/0 ... 0/0 0/0 0/0 0/0 0/0"
      ]
     },
     "execution_count": 6,
     "metadata": {},
     "output_type": "execute_result"
    }
   ],
   "source": [
    "gt = allel.GenotypeArray(callset['calldata/GT'])\n",
    "gt"
   ]
  },
  {
   "cell_type": "code",
   "execution_count": 7,
   "metadata": {
    "collapsed": false,
    "jupyter": {
     "outputs_hidden": false
    }
   },
   "outputs": [
    {
     "data": {
      "text/html": [
       "<div class=\"allel allel-DisplayAs2D\"><span>&lt;AlleleCountsArray shape=(1103547, 9) dtype=int32&gt;</span><table><thead><tr><th></th><th style=\"text-align: center\">0</th><th style=\"text-align: center\">1</th><th style=\"text-align: center\">2</th><th style=\"text-align: center\">3</th><th style=\"text-align: center\">4</th><th style=\"text-align: center\">5</th><th style=\"text-align: center\">6</th><th style=\"text-align: center\">7</th><th style=\"text-align: center\">8</th></tr></thead><tbody><tr><th style=\"text-align: center; background-color: white; border-right: 1px solid black; \">0</th><td style=\"text-align: center\">208</td><td style=\"text-align: center\">  0</td><td style=\"text-align: center\">  0</td><td style=\"text-align: center\">  0</td><td style=\"text-align: center\">  0</td><td style=\"text-align: center\">  0</td><td style=\"text-align: center\">  0</td><td style=\"text-align: center\">  0</td><td style=\"text-align: center\">  0</td></tr><tr><th style=\"text-align: center; background-color: white; border-right: 1px solid black; \">1</th><td style=\"text-align: center\">207</td><td style=\"text-align: center\">  1</td><td style=\"text-align: center\">  0</td><td style=\"text-align: center\">  0</td><td style=\"text-align: center\">  0</td><td style=\"text-align: center\">  0</td><td style=\"text-align: center\">  0</td><td style=\"text-align: center\">  0</td><td style=\"text-align: center\">  0</td></tr><tr><th style=\"text-align: center; background-color: white; border-right: 1px solid black; \">2</th><td style=\"text-align: center\">207</td><td style=\"text-align: center\">  1</td><td style=\"text-align: center\">  0</td><td style=\"text-align: center\">  0</td><td style=\"text-align: center\">  0</td><td style=\"text-align: center\">  0</td><td style=\"text-align: center\">  0</td><td style=\"text-align: center\">  0</td><td style=\"text-align: center\">  0</td></tr><tr><th style=\"text-align: center; background-color: white; border-right: 1px solid black; \">...</th><td style=\"text-align: center\" colspan=\"10\">...</td></tr><tr><th style=\"text-align: center; background-color: white; border-right: 1px solid black; \">1103544</th><td style=\"text-align: center\">205</td><td style=\"text-align: center\">  3</td><td style=\"text-align: center\">  0</td><td style=\"text-align: center\">  0</td><td style=\"text-align: center\">  0</td><td style=\"text-align: center\">  0</td><td style=\"text-align: center\">  0</td><td style=\"text-align: center\">  0</td><td style=\"text-align: center\">  0</td></tr><tr><th style=\"text-align: center; background-color: white; border-right: 1px solid black; \">1103545</th><td style=\"text-align: center\">208</td><td style=\"text-align: center\">  0</td><td style=\"text-align: center\">  0</td><td style=\"text-align: center\">  0</td><td style=\"text-align: center\">  0</td><td style=\"text-align: center\">  0</td><td style=\"text-align: center\">  0</td><td style=\"text-align: center\">  0</td><td style=\"text-align: center\">  0</td></tr><tr><th style=\"text-align: center; background-color: white; border-right: 1px solid black; \">1103546</th><td style=\"text-align: center\">207</td><td style=\"text-align: center\">  1</td><td style=\"text-align: center\">  0</td><td style=\"text-align: center\">  0</td><td style=\"text-align: center\">  0</td><td style=\"text-align: center\">  0</td><td style=\"text-align: center\">  0</td><td style=\"text-align: center\">  0</td><td style=\"text-align: center\">  0</td></tr></tbody></table></div>"
      ],
      "text/plain": [
       "<AlleleCountsArray shape=(1103547, 9) dtype=int32>\n",
       "208   0   0   0   0   0   0   0   0\n",
       "207   1   0   0   0   0   0   0   0\n",
       "207   1   0   0   0   0   0   0   0\n",
       "...\n",
       "205   3   0   0   0   0   0   0   0\n",
       "208   0   0   0   0   0   0   0   0\n",
       "207   1   0   0   0   0   0   0   0"
      ]
     },
     "execution_count": 7,
     "metadata": {},
     "output_type": "execute_result"
    }
   ],
   "source": [
    "ac = gt.count_alleles()\n",
    "ac"
   ]
  },
  {
   "cell_type": "code",
   "execution_count": 8,
   "metadata": {
    "collapsed": false,
    "jupyter": {
     "outputs_hidden": false
    }
   },
   "outputs": [
    {
     "name": "stdout",
     "output_type": "stream",
     "text": [
      "scikit-allel 1.3.6\n"
     ]
    }
   ],
   "source": [
    "import random\n",
    "random.seed(42)\n",
    "import time\n",
    "import numpy as np\n",
    "np.random.seed(42)\n",
    "import h5py\n",
    "import matplotlib.pyplot as plt\n",
    "%matplotlib inline\n",
    "import seaborn as sns\n",
    "sns.set_style('white')\n",
    "sns.set_style('ticks')\n",
    "#import bcolz => package not necessary and could not be installed\n",
    "import pandas\n",
    "import allel; print('scikit-allel', allel.__version__)\n",
    "# %reload_ext memory_profiler"
   ]
  },
  {
   "cell_type": "code",
   "execution_count": 9,
   "metadata": {
    "collapsed": false,
    "jupyter": {
     "outputs_hidden": false
    }
   },
   "outputs": [
    {
     "data": {
      "text/html": [
       "<div class=\"allel allel-DisplayAs2D\"><span>&lt;GenotypeArray shape=(1103547, 104, 2) dtype=int8&gt;</span><table><thead><tr><th></th><th style=\"text-align: center\">0</th><th style=\"text-align: center\">1</th><th style=\"text-align: center\">2</th><th style=\"text-align: center\">3</th><th style=\"text-align: center\">4</th><th style=\"text-align: center\">...</th><th style=\"text-align: center\">99</th><th style=\"text-align: center\">100</th><th style=\"text-align: center\">101</th><th style=\"text-align: center\">102</th><th style=\"text-align: center\">103</th></tr></thead><tbody><tr><th style=\"text-align: center; background-color: white; border-right: 1px solid black; \">0</th><td style=\"text-align: center\">0/0</td><td style=\"text-align: center\">0/0</td><td style=\"text-align: center\">0/0</td><td style=\"text-align: center\">0/0</td><td style=\"text-align: center\">0/0</td><td style=\"text-align: center\">...</td><td style=\"text-align: center\">0/0</td><td style=\"text-align: center\">0/0</td><td style=\"text-align: center\">0/0</td><td style=\"text-align: center\">0/0</td><td style=\"text-align: center\">0/0</td></tr><tr><th style=\"text-align: center; background-color: white; border-right: 1px solid black; \">1</th><td style=\"text-align: center\">0/0</td><td style=\"text-align: center\">0/0</td><td style=\"text-align: center\">0/0</td><td style=\"text-align: center\">0/0</td><td style=\"text-align: center\">0/0</td><td style=\"text-align: center\">...</td><td style=\"text-align: center\">0/0</td><td style=\"text-align: center\">0/0</td><td style=\"text-align: center\">0/0</td><td style=\"text-align: center\">0/0</td><td style=\"text-align: center\">0/0</td></tr><tr><th style=\"text-align: center; background-color: white; border-right: 1px solid black; \">2</th><td style=\"text-align: center\">0/0</td><td style=\"text-align: center\">0/0</td><td style=\"text-align: center\">0/0</td><td style=\"text-align: center\">0/0</td><td style=\"text-align: center\">0/0</td><td style=\"text-align: center\">...</td><td style=\"text-align: center\">0/0</td><td style=\"text-align: center\">0/0</td><td style=\"text-align: center\">0/0</td><td style=\"text-align: center\">0/0</td><td style=\"text-align: center\">0/0</td></tr><tr><th style=\"text-align: center; background-color: white; border-right: 1px solid black; \">...</th><td style=\"text-align: center\" colspan=\"12\">...</td></tr><tr><th style=\"text-align: center; background-color: white; border-right: 1px solid black; \">1103544</th><td style=\"text-align: center\">0/0</td><td style=\"text-align: center\">0/0</td><td style=\"text-align: center\">0/0</td><td style=\"text-align: center\">0/0</td><td style=\"text-align: center\">0/0</td><td style=\"text-align: center\">...</td><td style=\"text-align: center\">0/0</td><td style=\"text-align: center\">0/0</td><td style=\"text-align: center\">0/0</td><td style=\"text-align: center\">0/0</td><td style=\"text-align: center\">0/0</td></tr><tr><th style=\"text-align: center; background-color: white; border-right: 1px solid black; \">1103545</th><td style=\"text-align: center\">0/0</td><td style=\"text-align: center\">0/0</td><td style=\"text-align: center\">0/0</td><td style=\"text-align: center\">0/0</td><td style=\"text-align: center\">0/0</td><td style=\"text-align: center\">...</td><td style=\"text-align: center\">0/0</td><td style=\"text-align: center\">0/0</td><td style=\"text-align: center\">0/0</td><td style=\"text-align: center\">0/0</td><td style=\"text-align: center\">0/0</td></tr><tr><th style=\"text-align: center; background-color: white; border-right: 1px solid black; \">1103546</th><td style=\"text-align: center\">0/0</td><td style=\"text-align: center\">0/0</td><td style=\"text-align: center\">0/0</td><td style=\"text-align: center\">0/0</td><td style=\"text-align: center\">0/0</td><td style=\"text-align: center\">...</td><td style=\"text-align: center\">0/0</td><td style=\"text-align: center\">0/0</td><td style=\"text-align: center\">0/0</td><td style=\"text-align: center\">0/0</td><td style=\"text-align: center\">0/0</td></tr></tbody></table></div>"
      ],
      "text/plain": [
       "<GenotypeArray shape=(1103547, 104, 2) dtype=int8>\n",
       "0/0 0/0 0/0 0/0 0/0 ... 0/0 0/0 0/0 0/0 0/0\n",
       "0/0 0/0 0/0 0/0 0/0 ... 0/0 0/0 0/0 0/0 0/0\n",
       "0/0 0/0 0/0 0/0 0/0 ... 0/0 0/0 0/0 0/0 0/0\n",
       "...\n",
       "0/0 0/0 0/0 0/0 0/0 ... 0/0 0/0 0/0 0/0 0/0\n",
       "0/0 0/0 0/0 0/0 0/0 ... 0/0 0/0 0/0 0/0 0/0\n",
       "0/0 0/0 0/0 0/0 0/0 ... 0/0 0/0 0/0 0/0 0/0"
      ]
     },
     "execution_count": 9,
     "metadata": {},
     "output_type": "execute_result"
    }
   ],
   "source": [
    "gt"
   ]
  },
  {
   "cell_type": "code",
   "execution_count": 10,
   "metadata": {},
   "outputs": [],
   "source": [
    "ac = gt.count_alleles()[:]"
   ]
  },
  {
   "cell_type": "code",
   "execution_count": 11,
   "metadata": {
    "collapsed": false,
    "jupyter": {
     "outputs_hidden": false
    }
   },
   "outputs": [
    {
     "data": {
      "text/html": [
       "<div class=\"allel allel-DisplayAs2D\"><span>&lt;AlleleCountsArray shape=(1103547, 9) dtype=int32&gt;</span><table><thead><tr><th></th><th style=\"text-align: center\">0</th><th style=\"text-align: center\">1</th><th style=\"text-align: center\">2</th><th style=\"text-align: center\">3</th><th style=\"text-align: center\">4</th><th style=\"text-align: center\">5</th><th style=\"text-align: center\">6</th><th style=\"text-align: center\">7</th><th style=\"text-align: center\">8</th></tr></thead><tbody><tr><th style=\"text-align: center; background-color: white; border-right: 1px solid black; \">0</th><td style=\"text-align: center\">208</td><td style=\"text-align: center\">  0</td><td style=\"text-align: center\">  0</td><td style=\"text-align: center\">  0</td><td style=\"text-align: center\">  0</td><td style=\"text-align: center\">  0</td><td style=\"text-align: center\">  0</td><td style=\"text-align: center\">  0</td><td style=\"text-align: center\">  0</td></tr><tr><th style=\"text-align: center; background-color: white; border-right: 1px solid black; \">1</th><td style=\"text-align: center\">207</td><td style=\"text-align: center\">  1</td><td style=\"text-align: center\">  0</td><td style=\"text-align: center\">  0</td><td style=\"text-align: center\">  0</td><td style=\"text-align: center\">  0</td><td style=\"text-align: center\">  0</td><td style=\"text-align: center\">  0</td><td style=\"text-align: center\">  0</td></tr><tr><th style=\"text-align: center; background-color: white; border-right: 1px solid black; \">2</th><td style=\"text-align: center\">207</td><td style=\"text-align: center\">  1</td><td style=\"text-align: center\">  0</td><td style=\"text-align: center\">  0</td><td style=\"text-align: center\">  0</td><td style=\"text-align: center\">  0</td><td style=\"text-align: center\">  0</td><td style=\"text-align: center\">  0</td><td style=\"text-align: center\">  0</td></tr><tr><th style=\"text-align: center; background-color: white; border-right: 1px solid black; \">...</th><td style=\"text-align: center\" colspan=\"10\">...</td></tr><tr><th style=\"text-align: center; background-color: white; border-right: 1px solid black; \">1103544</th><td style=\"text-align: center\">205</td><td style=\"text-align: center\">  3</td><td style=\"text-align: center\">  0</td><td style=\"text-align: center\">  0</td><td style=\"text-align: center\">  0</td><td style=\"text-align: center\">  0</td><td style=\"text-align: center\">  0</td><td style=\"text-align: center\">  0</td><td style=\"text-align: center\">  0</td></tr><tr><th style=\"text-align: center; background-color: white; border-right: 1px solid black; \">1103545</th><td style=\"text-align: center\">208</td><td style=\"text-align: center\">  0</td><td style=\"text-align: center\">  0</td><td style=\"text-align: center\">  0</td><td style=\"text-align: center\">  0</td><td style=\"text-align: center\">  0</td><td style=\"text-align: center\">  0</td><td style=\"text-align: center\">  0</td><td style=\"text-align: center\">  0</td></tr><tr><th style=\"text-align: center; background-color: white; border-right: 1px solid black; \">1103546</th><td style=\"text-align: center\">207</td><td style=\"text-align: center\">  1</td><td style=\"text-align: center\">  0</td><td style=\"text-align: center\">  0</td><td style=\"text-align: center\">  0</td><td style=\"text-align: center\">  0</td><td style=\"text-align: center\">  0</td><td style=\"text-align: center\">  0</td><td style=\"text-align: center\">  0</td></tr></tbody></table></div>"
      ],
      "text/plain": [
       "<AlleleCountsArray shape=(1103547, 9) dtype=int32>\n",
       "208   0   0   0   0   0   0   0   0\n",
       "207   1   0   0   0   0   0   0   0\n",
       "207   1   0   0   0   0   0   0   0\n",
       "...\n",
       "205   3   0   0   0   0   0   0   0\n",
       "208   0   0   0   0   0   0   0   0\n",
       "207   1   0   0   0   0   0   0   0"
      ]
     },
     "execution_count": 11,
     "metadata": {},
     "output_type": "execute_result"
    }
   ],
   "source": [
    "ac"
   ]
  },
  {
   "cell_type": "code",
   "execution_count": 12,
   "metadata": {
    "collapsed": false,
    "jupyter": {
     "outputs_hidden": false
    }
   },
   "outputs": [
    {
     "data": {
      "text/html": [
       "<div class=\"allel allel-DisplayAs2D\"><span>&lt;GenotypeArray shape=(138928, 104, 2) dtype=int8&gt;</span><table><thead><tr><th></th><th style=\"text-align: center\">0</th><th style=\"text-align: center\">1</th><th style=\"text-align: center\">2</th><th style=\"text-align: center\">3</th><th style=\"text-align: center\">4</th><th style=\"text-align: center\">...</th><th style=\"text-align: center\">99</th><th style=\"text-align: center\">100</th><th style=\"text-align: center\">101</th><th style=\"text-align: center\">102</th><th style=\"text-align: center\">103</th></tr></thead><tbody><tr><th style=\"text-align: center; background-color: white; border-right: 1px solid black; \">0</th><td style=\"text-align: center\">0/0</td><td style=\"text-align: center\">0/0</td><td style=\"text-align: center\">0/0</td><td style=\"text-align: center\">0/0</td><td style=\"text-align: center\">0/0</td><td style=\"text-align: center\">...</td><td style=\"text-align: center\">0/0</td><td style=\"text-align: center\">0/0</td><td style=\"text-align: center\">0/0</td><td style=\"text-align: center\">0/0</td><td style=\"text-align: center\">0/0</td></tr><tr><th style=\"text-align: center; background-color: white; border-right: 1px solid black; \">1</th><td style=\"text-align: center\">0/0</td><td style=\"text-align: center\">1/0</td><td style=\"text-align: center\">1/0</td><td style=\"text-align: center\">0/0</td><td style=\"text-align: center\">0/0</td><td style=\"text-align: center\">...</td><td style=\"text-align: center\">1/0</td><td style=\"text-align: center\">0/1</td><td style=\"text-align: center\">0/0</td><td style=\"text-align: center\">0/0</td><td style=\"text-align: center\">0/0</td></tr><tr><th style=\"text-align: center; background-color: white; border-right: 1px solid black; \">2</th><td style=\"text-align: center\">0/1</td><td style=\"text-align: center\">0/0</td><td style=\"text-align: center\">0/0</td><td style=\"text-align: center\">0/0</td><td style=\"text-align: center\">1/0</td><td style=\"text-align: center\">...</td><td style=\"text-align: center\">0/0</td><td style=\"text-align: center\">0/0</td><td style=\"text-align: center\">0/0</td><td style=\"text-align: center\">0/0</td><td style=\"text-align: center\">0/0</td></tr><tr><th style=\"text-align: center; background-color: white; border-right: 1px solid black; \">...</th><td style=\"text-align: center\" colspan=\"12\">...</td></tr><tr><th style=\"text-align: center; background-color: white; border-right: 1px solid black; \">138925</th><td style=\"text-align: center\">0/0</td><td style=\"text-align: center\">0/0</td><td style=\"text-align: center\">0/0</td><td style=\"text-align: center\">0/0</td><td style=\"text-align: center\">0/0</td><td style=\"text-align: center\">...</td><td style=\"text-align: center\">0/0</td><td style=\"text-align: center\">0/0</td><td style=\"text-align: center\">0/0</td><td style=\"text-align: center\">0/0</td><td style=\"text-align: center\">0/0</td></tr><tr><th style=\"text-align: center; background-color: white; border-right: 1px solid black; \">138926</th><td style=\"text-align: center\">0/0</td><td style=\"text-align: center\">0/0</td><td style=\"text-align: center\">0/0</td><td style=\"text-align: center\">0/0</td><td style=\"text-align: center\">0/0</td><td style=\"text-align: center\">...</td><td style=\"text-align: center\">0/0</td><td style=\"text-align: center\">0/0</td><td style=\"text-align: center\">0/0</td><td style=\"text-align: center\">0/0</td><td style=\"text-align: center\">0/0</td></tr><tr><th style=\"text-align: center; background-color: white; border-right: 1px solid black; \">138927</th><td style=\"text-align: center\">0/0</td><td style=\"text-align: center\">0/0</td><td style=\"text-align: center\">0/0</td><td style=\"text-align: center\">0/0</td><td style=\"text-align: center\">0/0</td><td style=\"text-align: center\">...</td><td style=\"text-align: center\">0/0</td><td style=\"text-align: center\">0/0</td><td style=\"text-align: center\">0/0</td><td style=\"text-align: center\">0/0</td><td style=\"text-align: center\">0/0</td></tr></tbody></table></div>"
      ],
      "text/plain": [
       "<GenotypeArray shape=(138928, 104, 2) dtype=int8>\n",
       "0/0 0/0 0/0 0/0 0/0 ... 0/0 0/0 0/0 0/0 0/0\n",
       "0/0 1/0 1/0 0/0 0/0 ... 1/0 0/1 0/0 0/0 0/0\n",
       "0/1 0/0 0/0 0/0 1/0 ... 0/0 0/0 0/0 0/0 0/0\n",
       "...\n",
       "0/0 0/0 0/0 0/0 0/0 ... 0/0 0/0 0/0 0/0 0/0\n",
       "0/0 0/0 0/0 0/0 0/0 ... 0/0 0/0 0/0 0/0 0/0\n",
       "0/0 0/0 0/0 0/0 0/0 ... 0/0 0/0 0/0 0/0 0/0"
      ]
     },
     "execution_count": 12,
     "metadata": {},
     "output_type": "execute_result"
    }
   ],
   "source": [
    "#flt = (ac.max_allele() == 1) & (ac[:, :2].min(axis=1) > 1) # This is remove singleton\n",
    "flt = (ac.max_allele() == 1) & (ac[:, :2].min(axis=1) > 5) # This is for more strict MAF cutoff\n",
    "\n",
    "\n",
    "gf = gt.compress(flt, axis=0)\n",
    "gf"
   ]
  },
  {
   "cell_type": "code",
   "execution_count": 13,
   "metadata": {
    "collapsed": false,
    "jupyter": {
     "outputs_hidden": false
    }
   },
   "outputs": [
    {
     "data": {
      "text/plain": [
       "array([[0, 0, 0, ..., 0, 0, 0],\n",
       "       [0, 1, 1, ..., 0, 0, 0],\n",
       "       [1, 0, 0, ..., 0, 0, 0],\n",
       "       ...,\n",
       "       [0, 0, 0, ..., 0, 0, 0],\n",
       "       [0, 0, 0, ..., 0, 0, 0],\n",
       "       [0, 0, 0, ..., 0, 0, 0]], dtype=int8)"
      ]
     },
     "execution_count": 13,
     "metadata": {},
     "output_type": "execute_result"
    }
   ],
   "source": [
    "gn = gf.to_n_alt()\n",
    "gn"
   ]
  },
  {
   "cell_type": "code",
   "execution_count": 14,
   "metadata": {
    "collapsed": false,
    "jupyter": {
     "outputs_hidden": false
    }
   },
   "outputs": [
    {
     "data": {
      "text/plain": [
       "array([[0, 0, 0, ..., 0, 0, 0],\n",
       "       [0, 1, 1, ..., 0, 0, 0],\n",
       "       [1, 0, 0, ..., 0, 0, 0],\n",
       "       ...,\n",
       "       [0, 0, 0, ..., 0, 0, 0],\n",
       "       [0, 0, 0, ..., 0, 0, 0],\n",
       "       [0, 0, 0, ..., 0, 0, 0]], dtype=int8)"
      ]
     },
     "execution_count": 14,
     "metadata": {},
     "output_type": "execute_result"
    }
   ],
   "source": [
    "n = 100000  # number of SNPs to choose randomly\n",
    "#n = 10000\n",
    "#n = 1000\n",
    "vidx = np.random.choice(gn.shape[0], n, replace=False)\n",
    "vidx.sort()\n",
    "gnr = gn.take(vidx, axis=0)\n",
    "gnr"
   ]
  },
  {
   "cell_type": "code",
   "execution_count": 15,
   "metadata": {},
   "outputs": [
    {
     "name": "stdout",
     "output_type": "stream",
     "text": [
      "[0.10398681 0.04103689 0.01881643 0.01646264 0.01522988 0.01442962\n",
      " 0.01408953 0.0139335  0.01361687 0.01326421]\n",
      "[0.10398681 0.04103689 0.01881643 0.01646264 0.01522988 0.01442962]\n",
      "[0.10398681 0.04103689 0.01881643 0.01646264]\n",
      "[0.10286263 0.05012378 0.02155673 0.018983   0.01439701 0.0140624\n",
      " 0.01337075 0.01284557 0.01240306 0.01212807]\n"
     ]
    }
   ],
   "source": [
    "coords1, model1 = allel.pca(gnr, n_components=10, scaler='patterson')\n",
    "# viewing what changes when altering different parameters\n",
    "coords2, model2 = allel.pca(gnr, n_components=6, scaler='patterson')\n",
    "coords3, model3 = allel.pca(gnr, n_components=4, scaler='patterson')\n",
    "coords4, model4 = allel.pca(gnr, n_components=10, scaler=None)\n",
    "\n",
    "print(model1.explained_variance_ratio_)\n",
    "print(model2.explained_variance_ratio_)\n",
    "print(model3.explained_variance_ratio_)\n",
    "print(model4.explained_variance_ratio_)"
   ]
  },
  {
   "cell_type": "code",
   "execution_count": 16,
   "metadata": {
    "collapsed": false,
    "jupyter": {
     "outputs_hidden": false
    }
   },
   "outputs": [
    {
     "data": {
      "text/html": [
       "<div>\n",
       "<style scoped>\n",
       "    .dataframe tbody tr th:only-of-type {\n",
       "        vertical-align: middle;\n",
       "    }\n",
       "\n",
       "    .dataframe tbody tr th {\n",
       "        vertical-align: top;\n",
       "    }\n",
       "\n",
       "    .dataframe thead th {\n",
       "        text-align: right;\n",
       "    }\n",
       "</style>\n",
       "<table border=\"1\" class=\"dataframe\">\n",
       "  <thead>\n",
       "    <tr style=\"text-align: right;\">\n",
       "      <th></th>\n",
       "      <th>Population Description</th>\n",
       "      <th>Continental</th>\n",
       "      <th>Sequence Data Available</th>\n",
       "      <th>Alignment Data Available</th>\n",
       "      <th>Variant Data Available</th>\n",
       "    </tr>\n",
       "    <tr>\n",
       "      <th>Population</th>\n",
       "      <th></th>\n",
       "      <th></th>\n",
       "      <th></th>\n",
       "      <th></th>\n",
       "      <th></th>\n",
       "    </tr>\n",
       "  </thead>\n",
       "  <tbody>\n",
       "    <tr>\n",
       "      <th>CHB</th>\n",
       "      <td>Han Chinese in Beijing, China</td>\n",
       "      <td>EAS</td>\n",
       "      <td>1</td>\n",
       "      <td>1</td>\n",
       "      <td>1</td>\n",
       "    </tr>\n",
       "    <tr>\n",
       "      <th>JPT</th>\n",
       "      <td>Japanese in Tokyo, Japan</td>\n",
       "      <td>EAS</td>\n",
       "      <td>1</td>\n",
       "      <td>1</td>\n",
       "      <td>1</td>\n",
       "    </tr>\n",
       "    <tr>\n",
       "      <th>CHS</th>\n",
       "      <td>Southern Han Chinese</td>\n",
       "      <td>EAS</td>\n",
       "      <td>1</td>\n",
       "      <td>1</td>\n",
       "      <td>1</td>\n",
       "    </tr>\n",
       "    <tr>\n",
       "      <th>CDX</th>\n",
       "      <td>Chinese Dai in Xishuangbanna, China</td>\n",
       "      <td>EAS</td>\n",
       "      <td>1</td>\n",
       "      <td>1</td>\n",
       "      <td>1</td>\n",
       "    </tr>\n",
       "    <tr>\n",
       "      <th>KHV</th>\n",
       "      <td>Kinh in Ho Chi Minh City, Vietnam</td>\n",
       "      <td>EAS</td>\n",
       "      <td>1</td>\n",
       "      <td>1</td>\n",
       "      <td>1</td>\n",
       "    </tr>\n",
       "  </tbody>\n",
       "</table>\n",
       "</div>"
      ],
      "text/plain": [
       "                         Population Description Continental  \\\n",
       "Population                                                    \n",
       "CHB               Han Chinese in Beijing, China         EAS   \n",
       "JPT                    Japanese in Tokyo, Japan         EAS   \n",
       "CHS                        Southern Han Chinese         EAS   \n",
       "CDX         Chinese Dai in Xishuangbanna, China         EAS   \n",
       "KHV           Kinh in Ho Chi Minh City, Vietnam         EAS   \n",
       "\n",
       "            Sequence Data Available  Alignment Data Available  \\\n",
       "Population                                                      \n",
       "CHB                               1                         1   \n",
       "JPT                               1                         1   \n",
       "CHS                               1                         1   \n",
       "CDX                               1                         1   \n",
       "KHV                               1                         1   \n",
       "\n",
       "            Variant Data Available  \n",
       "Population                          \n",
       "CHB                              1  \n",
       "JPT                              1  \n",
       "CHS                              1  \n",
       "CDX                              1  \n",
       "KHV                              1  "
      ]
     },
     "execution_count": 16,
     "metadata": {},
     "output_type": "execute_result"
    }
   ],
   "source": [
    "# cont labels\n",
    "df_cont = pandas.read_csv('continental.txt', delimiter='\\t', index_col='Population')\n",
    "df_cont.head()"
   ]
  },
  {
   "cell_type": "code",
   "execution_count": 17,
   "metadata": {
    "collapsed": false,
    "jupyter": {
     "outputs_hidden": false
    }
   },
   "outputs": [],
   "source": [
    "# pop labels\n",
    "df_samples = pandas.read_csv('integrated_call_samples_v2.20130502.ALL.ped.txt', delimiter='\\t', index_col='Individual ID')\n",
    "df_samples = df_samples.join(df_cont, on='Population')\n",
    "# df_samples.tail(10)"
   ]
  },
  {
   "cell_type": "code",
   "execution_count": 18,
   "metadata": {
    "collapsed": false,
    "jupyter": {
     "outputs_hidden": false
    }
   },
   "outputs": [
    {
     "data": {
      "text/html": [
       "<div>\n",
       "<style scoped>\n",
       "    .dataframe tbody tr th:only-of-type {\n",
       "        vertical-align: middle;\n",
       "    }\n",
       "\n",
       "    .dataframe tbody tr th {\n",
       "        vertical-align: top;\n",
       "    }\n",
       "\n",
       "    .dataframe thead th {\n",
       "        text-align: right;\n",
       "    }\n",
       "</style>\n",
       "<table border=\"1\" class=\"dataframe\">\n",
       "  <thead>\n",
       "    <tr style=\"text-align: right;\">\n",
       "      <th></th>\n",
       "      <th>0</th>\n",
       "      <th>1</th>\n",
       "      <th>2</th>\n",
       "      <th>3</th>\n",
       "      <th>4</th>\n",
       "      <th>5</th>\n",
       "      <th>6</th>\n",
       "      <th>7</th>\n",
       "      <th>8</th>\n",
       "      <th>9</th>\n",
       "    </tr>\n",
       "  </thead>\n",
       "  <tbody>\n",
       "    <tr>\n",
       "      <th>HG00096</th>\n",
       "      <td>76.559769</td>\n",
       "      <td>-140.521057</td>\n",
       "      <td>-123.739029</td>\n",
       "      <td>32.451584</td>\n",
       "      <td>-23.098196</td>\n",
       "      <td>67.548317</td>\n",
       "      <td>-85.357094</td>\n",
       "      <td>21.954308</td>\n",
       "      <td>27.783920</td>\n",
       "      <td>-141.856689</td>\n",
       "    </tr>\n",
       "    <tr>\n",
       "      <th>HG00097</th>\n",
       "      <td>87.274139</td>\n",
       "      <td>-101.175034</td>\n",
       "      <td>-57.919899</td>\n",
       "      <td>73.162804</td>\n",
       "      <td>7.760509</td>\n",
       "      <td>-0.923115</td>\n",
       "      <td>12.225320</td>\n",
       "      <td>-20.268375</td>\n",
       "      <td>8.778645</td>\n",
       "      <td>-5.928166</td>\n",
       "    </tr>\n",
       "    <tr>\n",
       "      <th>HG00099</th>\n",
       "      <td>79.480278</td>\n",
       "      <td>-116.878006</td>\n",
       "      <td>-42.410156</td>\n",
       "      <td>40.756699</td>\n",
       "      <td>-15.616699</td>\n",
       "      <td>10.230700</td>\n",
       "      <td>-9.625854</td>\n",
       "      <td>21.560040</td>\n",
       "      <td>16.566420</td>\n",
       "      <td>-33.995422</td>\n",
       "    </tr>\n",
       "    <tr>\n",
       "      <th>HG00100</th>\n",
       "      <td>71.736290</td>\n",
       "      <td>-128.324509</td>\n",
       "      <td>-78.841667</td>\n",
       "      <td>53.266731</td>\n",
       "      <td>2.527298</td>\n",
       "      <td>8.234152</td>\n",
       "      <td>-11.134617</td>\n",
       "      <td>34.687027</td>\n",
       "      <td>-1.629344</td>\n",
       "      <td>-5.595356</td>\n",
       "    </tr>\n",
       "    <tr>\n",
       "      <th>HG00171</th>\n",
       "      <td>99.229027</td>\n",
       "      <td>-84.957230</td>\n",
       "      <td>-52.058243</td>\n",
       "      <td>17.002373</td>\n",
       "      <td>-1.684090</td>\n",
       "      <td>12.146250</td>\n",
       "      <td>-5.655600</td>\n",
       "      <td>-3.932739</td>\n",
       "      <td>-15.883567</td>\n",
       "      <td>10.694732</td>\n",
       "    </tr>\n",
       "    <tr>\n",
       "      <th>...</th>\n",
       "      <td>...</td>\n",
       "      <td>...</td>\n",
       "      <td>...</td>\n",
       "      <td>...</td>\n",
       "      <td>...</td>\n",
       "      <td>...</td>\n",
       "      <td>...</td>\n",
       "      <td>...</td>\n",
       "      <td>...</td>\n",
       "      <td>...</td>\n",
       "    </tr>\n",
       "    <tr>\n",
       "      <th>NA20505</th>\n",
       "      <td>70.770195</td>\n",
       "      <td>-126.925949</td>\n",
       "      <td>-35.268246</td>\n",
       "      <td>2.185009</td>\n",
       "      <td>5.609300</td>\n",
       "      <td>7.642061</td>\n",
       "      <td>-42.121525</td>\n",
       "      <td>5.558222</td>\n",
       "      <td>-11.899026</td>\n",
       "      <td>-7.699831</td>\n",
       "    </tr>\n",
       "    <tr>\n",
       "      <th>NA20845</th>\n",
       "      <td>82.729630</td>\n",
       "      <td>-25.226545</td>\n",
       "      <td>143.389236</td>\n",
       "      <td>-11.389059</td>\n",
       "      <td>13.189641</td>\n",
       "      <td>-18.383562</td>\n",
       "      <td>19.009878</td>\n",
       "      <td>-15.838565</td>\n",
       "      <td>-3.299855</td>\n",
       "      <td>-13.738369</td>\n",
       "    </tr>\n",
       "    <tr>\n",
       "      <th>NA20846</th>\n",
       "      <td>83.244286</td>\n",
       "      <td>-45.164837</td>\n",
       "      <td>87.134293</td>\n",
       "      <td>3.154788</td>\n",
       "      <td>25.535057</td>\n",
       "      <td>10.112788</td>\n",
       "      <td>5.028692</td>\n",
       "      <td>4.134437</td>\n",
       "      <td>-20.027601</td>\n",
       "      <td>-12.775562</td>\n",
       "    </tr>\n",
       "    <tr>\n",
       "      <th>NA20847</th>\n",
       "      <td>84.954720</td>\n",
       "      <td>-33.552994</td>\n",
       "      <td>102.713890</td>\n",
       "      <td>55.534618</td>\n",
       "      <td>11.585643</td>\n",
       "      <td>-29.957800</td>\n",
       "      <td>-13.547303</td>\n",
       "      <td>-16.593668</td>\n",
       "      <td>16.617512</td>\n",
       "      <td>-7.309429</td>\n",
       "    </tr>\n",
       "    <tr>\n",
       "      <th>NA20849</th>\n",
       "      <td>67.245964</td>\n",
       "      <td>-14.947068</td>\n",
       "      <td>106.186256</td>\n",
       "      <td>-3.627657</td>\n",
       "      <td>4.537393</td>\n",
       "      <td>-18.099625</td>\n",
       "      <td>3.870712</td>\n",
       "      <td>-38.223660</td>\n",
       "      <td>24.277681</td>\n",
       "      <td>-24.132689</td>\n",
       "    </tr>\n",
       "  </tbody>\n",
       "</table>\n",
       "<p>104 rows × 10 columns</p>\n",
       "</div>"
      ],
      "text/plain": [
       "                 0           1           2          3          4          5  \\\n",
       "HG00096  76.559769 -140.521057 -123.739029  32.451584 -23.098196  67.548317   \n",
       "HG00097  87.274139 -101.175034  -57.919899  73.162804   7.760509  -0.923115   \n",
       "HG00099  79.480278 -116.878006  -42.410156  40.756699 -15.616699  10.230700   \n",
       "HG00100  71.736290 -128.324509  -78.841667  53.266731   2.527298   8.234152   \n",
       "HG00171  99.229027  -84.957230  -52.058243  17.002373  -1.684090  12.146250   \n",
       "...            ...         ...         ...        ...        ...        ...   \n",
       "NA20505  70.770195 -126.925949  -35.268246   2.185009   5.609300   7.642061   \n",
       "NA20845  82.729630  -25.226545  143.389236 -11.389059  13.189641 -18.383562   \n",
       "NA20846  83.244286  -45.164837   87.134293   3.154788  25.535057  10.112788   \n",
       "NA20847  84.954720  -33.552994  102.713890  55.534618  11.585643 -29.957800   \n",
       "NA20849  67.245964  -14.947068  106.186256  -3.627657   4.537393 -18.099625   \n",
       "\n",
       "                 6          7          8           9  \n",
       "HG00096 -85.357094  21.954308  27.783920 -141.856689  \n",
       "HG00097  12.225320 -20.268375   8.778645   -5.928166  \n",
       "HG00099  -9.625854  21.560040  16.566420  -33.995422  \n",
       "HG00100 -11.134617  34.687027  -1.629344   -5.595356  \n",
       "HG00171  -5.655600  -3.932739 -15.883567   10.694732  \n",
       "...            ...        ...        ...         ...  \n",
       "NA20505 -42.121525   5.558222 -11.899026   -7.699831  \n",
       "NA20845  19.009878 -15.838565  -3.299855  -13.738369  \n",
       "NA20846   5.028692   4.134437 -20.027601  -12.775562  \n",
       "NA20847 -13.547303 -16.593668  16.617512   -7.309429  \n",
       "NA20849   3.870712 -38.223660  24.277681  -24.132689  \n",
       "\n",
       "[104 rows x 10 columns]"
      ]
     },
     "execution_count": 18,
     "metadata": {},
     "output_type": "execute_result"
    }
   ],
   "source": [
    "# mydf = pandas.merge(df_samples, df_samples)\n",
    "df_gnu = pandas.DataFrame(data=coords1, index=callset['samples'])\n",
    "df_gnu"
   ]
  },
  {
   "cell_type": "code",
   "execution_count": 19,
   "metadata": {},
   "outputs": [],
   "source": [
    "pca_samples = df_gnu.join(df_samples)"
   ]
  },
  {
   "cell_type": "code",
   "execution_count": 20,
   "metadata": {
    "collapsed": false,
    "jupyter": {
     "outputs_hidden": false
    }
   },
   "outputs": [],
   "source": [
    "# pops = pandas.merge(df_gnu, df_samples, on=['']) \n",
    "continents = pca_samples.Continental.unique()\n",
    "cont_colours = plt.cm.rainbow(np.linspace(0, 1, len(continents)))"
   ]
  },
  {
   "cell_type": "code",
   "execution_count": 21,
   "metadata": {
    "collapsed": false,
    "jupyter": {
     "outputs_hidden": false
    }
   },
   "outputs": [],
   "source": [
    "populations = pca_samples.Population.unique()\n",
    "pop_colours = plt.cm.rainbow(np.linspace(0, 1, len(populations)))\n"
   ]
  },
  {
   "cell_type": "code",
   "execution_count": 22,
   "metadata": {
    "collapsed": false,
    "jupyter": {
     "outputs_hidden": false
    }
   },
   "outputs": [
    {
     "data": {
      "text/html": [
       "<div>\n",
       "<style scoped>\n",
       "    .dataframe tbody tr th:only-of-type {\n",
       "        vertical-align: middle;\n",
       "    }\n",
       "\n",
       "    .dataframe tbody tr th {\n",
       "        vertical-align: top;\n",
       "    }\n",
       "\n",
       "    .dataframe thead th {\n",
       "        text-align: right;\n",
       "    }\n",
       "</style>\n",
       "<table border=\"1\" class=\"dataframe\">\n",
       "  <thead>\n",
       "    <tr style=\"text-align: right;\">\n",
       "      <th></th>\n",
       "      <th>0</th>\n",
       "      <th>1</th>\n",
       "      <th>2</th>\n",
       "      <th>3</th>\n",
       "      <th>4</th>\n",
       "      <th>5</th>\n",
       "      <th>6</th>\n",
       "      <th>7</th>\n",
       "      <th>8</th>\n",
       "      <th>9</th>\n",
       "      <th>...</th>\n",
       "      <th>Other Comments</th>\n",
       "      <th>phase 3 genotypes</th>\n",
       "      <th>related genotypes</th>\n",
       "      <th>omni genotypes</th>\n",
       "      <th>affy_genotypes</th>\n",
       "      <th>Population Description</th>\n",
       "      <th>Continental</th>\n",
       "      <th>Sequence Data Available</th>\n",
       "      <th>Alignment Data Available</th>\n",
       "      <th>Variant Data Available</th>\n",
       "    </tr>\n",
       "  </thead>\n",
       "  <tbody>\n",
       "    <tr>\n",
       "      <th>HG00096</th>\n",
       "      <td>76.559769</td>\n",
       "      <td>-140.521057</td>\n",
       "      <td>-123.739029</td>\n",
       "      <td>32.451584</td>\n",
       "      <td>-23.098196</td>\n",
       "      <td>67.548317</td>\n",
       "      <td>-85.357094</td>\n",
       "      <td>21.954308</td>\n",
       "      <td>27.783920</td>\n",
       "      <td>-141.856689</td>\n",
       "      <td>...</td>\n",
       "      <td>0</td>\n",
       "      <td>1</td>\n",
       "      <td>0</td>\n",
       "      <td>1</td>\n",
       "      <td>1</td>\n",
       "      <td>British in England and Scotland</td>\n",
       "      <td>EUR</td>\n",
       "      <td>1.0</td>\n",
       "      <td>1.0</td>\n",
       "      <td>1.0</td>\n",
       "    </tr>\n",
       "    <tr>\n",
       "      <th>HG00097</th>\n",
       "      <td>87.274139</td>\n",
       "      <td>-101.175034</td>\n",
       "      <td>-57.919899</td>\n",
       "      <td>73.162804</td>\n",
       "      <td>7.760509</td>\n",
       "      <td>-0.923115</td>\n",
       "      <td>12.225320</td>\n",
       "      <td>-20.268375</td>\n",
       "      <td>8.778645</td>\n",
       "      <td>-5.928166</td>\n",
       "      <td>...</td>\n",
       "      <td>0</td>\n",
       "      <td>1</td>\n",
       "      <td>0</td>\n",
       "      <td>1</td>\n",
       "      <td>1</td>\n",
       "      <td>British in England and Scotland</td>\n",
       "      <td>EUR</td>\n",
       "      <td>1.0</td>\n",
       "      <td>1.0</td>\n",
       "      <td>1.0</td>\n",
       "    </tr>\n",
       "    <tr>\n",
       "      <th>HG00099</th>\n",
       "      <td>79.480278</td>\n",
       "      <td>-116.878006</td>\n",
       "      <td>-42.410156</td>\n",
       "      <td>40.756699</td>\n",
       "      <td>-15.616699</td>\n",
       "      <td>10.230700</td>\n",
       "      <td>-9.625854</td>\n",
       "      <td>21.560040</td>\n",
       "      <td>16.566420</td>\n",
       "      <td>-33.995422</td>\n",
       "      <td>...</td>\n",
       "      <td>0</td>\n",
       "      <td>1</td>\n",
       "      <td>0</td>\n",
       "      <td>1</td>\n",
       "      <td>1</td>\n",
       "      <td>British in England and Scotland</td>\n",
       "      <td>EUR</td>\n",
       "      <td>1.0</td>\n",
       "      <td>1.0</td>\n",
       "      <td>1.0</td>\n",
       "    </tr>\n",
       "    <tr>\n",
       "      <th>HG00100</th>\n",
       "      <td>71.736290</td>\n",
       "      <td>-128.324509</td>\n",
       "      <td>-78.841667</td>\n",
       "      <td>53.266731</td>\n",
       "      <td>2.527298</td>\n",
       "      <td>8.234152</td>\n",
       "      <td>-11.134617</td>\n",
       "      <td>34.687027</td>\n",
       "      <td>-1.629344</td>\n",
       "      <td>-5.595356</td>\n",
       "      <td>...</td>\n",
       "      <td>0</td>\n",
       "      <td>1</td>\n",
       "      <td>0</td>\n",
       "      <td>1</td>\n",
       "      <td>1</td>\n",
       "      <td>British in England and Scotland</td>\n",
       "      <td>EUR</td>\n",
       "      <td>1.0</td>\n",
       "      <td>1.0</td>\n",
       "      <td>1.0</td>\n",
       "    </tr>\n",
       "    <tr>\n",
       "      <th>HG00171</th>\n",
       "      <td>99.229027</td>\n",
       "      <td>-84.957230</td>\n",
       "      <td>-52.058243</td>\n",
       "      <td>17.002373</td>\n",
       "      <td>-1.684090</td>\n",
       "      <td>12.146250</td>\n",
       "      <td>-5.655600</td>\n",
       "      <td>-3.932739</td>\n",
       "      <td>-15.883567</td>\n",
       "      <td>10.694732</td>\n",
       "      <td>...</td>\n",
       "      <td>0</td>\n",
       "      <td>1</td>\n",
       "      <td>0</td>\n",
       "      <td>1</td>\n",
       "      <td>1</td>\n",
       "      <td>Finnish in Finland</td>\n",
       "      <td>EUR</td>\n",
       "      <td>1.0</td>\n",
       "      <td>1.0</td>\n",
       "      <td>1.0</td>\n",
       "    </tr>\n",
       "  </tbody>\n",
       "</table>\n",
       "<p>5 rows × 31 columns</p>\n",
       "</div>"
      ],
      "text/plain": [
       "                 0           1           2          3          4          5  \\\n",
       "HG00096  76.559769 -140.521057 -123.739029  32.451584 -23.098196  67.548317   \n",
       "HG00097  87.274139 -101.175034  -57.919899  73.162804   7.760509  -0.923115   \n",
       "HG00099  79.480278 -116.878006  -42.410156  40.756699 -15.616699  10.230700   \n",
       "HG00100  71.736290 -128.324509  -78.841667  53.266731   2.527298   8.234152   \n",
       "HG00171  99.229027  -84.957230  -52.058243  17.002373  -1.684090  12.146250   \n",
       "\n",
       "                 6          7          8           9  ... Other Comments  \\\n",
       "HG00096 -85.357094  21.954308  27.783920 -141.856689  ...              0   \n",
       "HG00097  12.225320 -20.268375   8.778645   -5.928166  ...              0   \n",
       "HG00099  -9.625854  21.560040  16.566420  -33.995422  ...              0   \n",
       "HG00100 -11.134617  34.687027  -1.629344   -5.595356  ...              0   \n",
       "HG00171  -5.655600  -3.932739 -15.883567   10.694732  ...              0   \n",
       "\n",
       "        phase 3 genotypes related genotypes  omni genotypes  affy_genotypes  \\\n",
       "HG00096                 1                 0               1               1   \n",
       "HG00097                 1                 0               1               1   \n",
       "HG00099                 1                 0               1               1   \n",
       "HG00100                 1                 0               1               1   \n",
       "HG00171                 1                 0               1               1   \n",
       "\n",
       "                  Population Description Continental Sequence Data Available  \\\n",
       "HG00096  British in England and Scotland         EUR                     1.0   \n",
       "HG00097  British in England and Scotland         EUR                     1.0   \n",
       "HG00099  British in England and Scotland         EUR                     1.0   \n",
       "HG00100  British in England and Scotland         EUR                     1.0   \n",
       "HG00171               Finnish in Finland         EUR                     1.0   \n",
       "\n",
       "        Alignment Data Available Variant Data Available  \n",
       "HG00096                      1.0                    1.0  \n",
       "HG00097                      1.0                    1.0  \n",
       "HG00099                      1.0                    1.0  \n",
       "HG00100                      1.0                    1.0  \n",
       "HG00171                      1.0                    1.0  \n",
       "\n",
       "[5 rows x 31 columns]"
      ]
     },
     "execution_count": 22,
     "metadata": {},
     "output_type": "execute_result"
    }
   ],
   "source": [
    "pca_samples.head()"
   ]
  },
  {
   "cell_type": "code",
   "execution_count": 23,
   "metadata": {},
   "outputs": [],
   "source": [
    "def plot_pca_coords(coords, model, pc1, pc2, ax, sample_population, pops, pop_colors):\n",
    "    sns.despine(ax=ax, offset=5)\n",
    "    x = coords[:, pc1]\n",
    "    y = coords[:, pc2]\n",
    "    for pop,color in zip(pops, pop_colors):\n",
    "        flt = (sample_population == pop)\n",
    "        ax.plot(x[flt], y[flt], marker='o', linestyle=' ', color=color, \n",
    "                label=pop, markersize=6, mec='k', mew=.5)\n",
    "\n",
    "#        ax.scatter(x[flt], y[flt]) #, s=50) color=color\n",
    "\n",
    "    ax.set_xlabel('PC%s (%.1f%%)' % (pc1+1, model.explained_variance_ratio_[pc1]*100))\n",
    "    ax.set_ylabel('PC%s (%.1f%%)' % (pc2+1, model.explained_variance_ratio_[pc2]*100))\n",
    "    \n",
    "\n",
    "def fig_pca_cont(coords, model, title, sample_population=None):\n",
    "    if sample_population is None:\n",
    "        sample_population = pca_samples.Continental.values\n",
    "    # plot coords for PCs 1 vs 2, 3 vs 4\n",
    "    fig = plt.figure(figsize=(10, 5))\n",
    "    ax = fig.add_subplot(1, 2, 1)\n",
    "    plot_pca_coords(coords, model, 0, 1, ax, sample_population, continents, cont_colours)\n",
    "    ax = fig.add_subplot(1, 2, 2)\n",
    "    plot_pca_coords(coords, model, 2, 3, ax, sample_population, continents, cont_colours)\n",
    "    ax.legend(bbox_to_anchor=(1, 1), loc='upper left')\n",
    "    fig.suptitle(title, y=1.02)\n",
    "    fig.tight_layout()\n",
    "    "
   ]
  },
  {
   "cell_type": "code",
   "execution_count": 24,
   "metadata": {
    "collapsed": false,
    "jupyter": {
     "outputs_hidden": false
    }
   },
   "outputs": [
    {
     "data": {
      "image/png": "[encoded data removed]",
      "text/plain": [
       "<Figure size 1000x500 with 2 Axes>"
      ]
     },
     "metadata": {},
     "output_type": "display_data"
    }
   ],
   "source": [
    "fig_pca_cont(coords1, model1, 'Figure 4. Continental PCA.')"
   ]
  },
  {
   "cell_type": "code",
   "execution_count": 25,
   "metadata": {
    "collapsed": false,
    "jupyter": {
     "outputs_hidden": false
    }
   },
   "outputs": [],
   "source": [
    "def fig_pca_pop(coords, model, title, sample_population=None):\n",
    "    if sample_population is None:\n",
    "        sample_population = pca_samples.Population.values\n",
    "    # plot coords for PCs 1 vs 2, 3 vs 4\n",
    "    fig = plt.figure(figsize=(10, 5))\n",
    "    ax = fig.add_subplot(1, 2, 1)\n",
    "    plot_pca_coords(coords, model, 0, 1, ax, sample_population, populations, pop_colours)\n",
    "    ax = fig.add_subplot(1, 2, 2)\n",
    "    plot_pca_coords(coords, model, 2, 3, ax, sample_population, populations, pop_colours)\n",
    "    ax.legend(bbox_to_anchor=(1, 1), loc='upper left')\n",
    "    fig.suptitle(title, y=1.02)\n",
    "    fig.tight_layout()\n",
    "    "
   ]
  },
  {
   "cell_type": "code",
   "execution_count": 26,
   "metadata": {
    "collapsed": false,
    "jupyter": {
     "outputs_hidden": false
    },
    "scrolled": true
   },
   "outputs": [
    {
     "data": {
      "image/png": "[encoded data removed]",
      "text/plain": [
       "<Figure size 1000x500 with 2 Axes>"
      ]
     },
     "metadata": {},
     "output_type": "display_data"
    }
   ],
   "source": [
    "fig_pca_pop(coords1, model1, 'Figure 5. population PCA.')"
   ]
  },
  {
   "cell_type": "code",
   "execution_count": null,
   "metadata": {
    "collapsed": true,
    "jupyter": {
     "outputs_hidden": true
    }
   },
   "outputs": [],
   "source": []
  }
 ],
 "metadata": {
  "kernelspec": {
   "display_name": "Python 3 (ipykernel)",
   "language": "python",
   "name": "python3"
  },
  "language_info": {
   "codemirror_mode": {
    "name": "ipython",
    "version": 3
   },
   "file_extension": ".py",
   "mimetype": "text/x-python",
   "name": "python",
   "nbconvert_exporter": "python",
   "pygments_lexer": "ipython3",
   "version": "3.10.11"
  }
 },
 "nbformat": 4,
 "nbformat_minor": 4
}
