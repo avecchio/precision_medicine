{
 "cells": [
  {
   "cell_type": "code",
   "execution_count": 1,
   "metadata": {
    "collapsed": false,
    "jupyter": {
     "outputs_hidden": false
    }
   },
   "outputs": [
    {
     "name": "stdout",
     "output_type": "stream",
     "text": [
      "1.3.6\n"
     ]
    }
   ],
   "source": [
    "# import scikit-allel\n",
    "import allel\n",
    "# check which version is installed\n",
    "print(allel.__version__)"
   ]
  },
  {
   "cell_type": "code",
   "execution_count": 2,
   "metadata": {
    "collapsed": false,
    "jupyter": {
     "outputs_hidden": false
    }
   },
   "outputs": [],
   "source": [
    "#callset = allel.read_vcf('sel4.chr22.phase3_shapegenotypes.vcf.gz.recode.vcf.gz')\n",
    "callset = allel.read_vcf('public_avatar_merged.vcf.gz')"
   ]
  },
  {
   "cell_type": "code",
   "execution_count": 3,
   "metadata": {
    "collapsed": false,
    "jupyter": {
     "outputs_hidden": false
    }
   },
   "outputs": [
    {
     "data": {
      "text/plain": [
       "['calldata/GT',\n",
       " 'samples',\n",
       " 'variants/ALT',\n",
       " 'variants/CHROM',\n",
       " 'variants/FILTER_PASS',\n",
       " 'variants/ID',\n",
       " 'variants/POS',\n",
       " 'variants/QUAL',\n",
       " 'variants/REF']"
      ]
     },
     "execution_count": 3,
     "metadata": {},
     "output_type": "execute_result"
    }
   ],
   "source": [
    "sorted(callset.keys())"
   ]
  },
  {
   "cell_type": "code",
   "execution_count": 4,
   "metadata": {
    "collapsed": false,
    "jupyter": {
     "outputs_hidden": false
    }
   },
   "outputs": [
    {
     "data": {
      "text/plain": [
       "array(['HG00096', 'HG00097', 'HG00099', 'HG00100', 'HG00171', 'HG00173',\n",
       "       'HG00174', 'HG00176', 'HG00403', 'HG00404', 'HG00406', 'HG00407',\n",
       "       'HG00551', 'HG00553', 'HG00554', 'HG00637', 'HG00759', 'HG00766',\n",
       "       'HG00844', 'HG00851', 'HG01112', 'HG01113', 'HG01119', 'HG01121',\n",
       "       'HG01500', 'HG01501', 'HG01503', 'HG01504', 'HG01565', 'HG01566',\n",
       "       'HG01571', 'HG01572', 'HG01583', 'HG01586', 'HG01589', 'HG01593',\n",
       "       'HG01595', 'HG01596', 'HG01597', 'HG01598', 'HG01879', 'HG01880',\n",
       "       'HG01882', 'HG01883', 'HG02461', 'HG02462', 'HG02464', 'HG02465',\n",
       "       'HG02922', 'HG02923', 'HG02938', 'HG02941', 'HG03006', 'HG03007',\n",
       "       'HG03009', 'HG03012', 'HG03052', 'HG03054', 'HG03055', 'HG03057',\n",
       "       'HG03642', 'HG03643', 'HG03644', 'HG03645', 'HG03713', 'HG03714',\n",
       "       'HG03716', 'HG03717', 'NA06984', 'NA06985', 'NA06986', 'NA06989',\n",
       "       'NA18486', 'NA18488', 'NA18489', 'NA18498', 'NA18525', 'NA18526',\n",
       "       'NA18528', 'NA18530', 'NA18939', 'NA18940', 'NA18941', 'NA18942',\n",
       "       'NA19017', 'NA19019', 'NA19020', 'NA19023', 'NA19625', 'NA19648',\n",
       "       'NA19649', 'NA19651', 'NA19652', 'NA19700', 'NA19701', 'NA19703',\n",
       "       'NA20502', 'NA20503', 'NA20504', 'NA20505', 'NA20845', 'NA20846',\n",
       "       'NA20847', 'NA20849', 'HG00638'], dtype=object)"
      ]
     },
     "execution_count": 4,
     "metadata": {},
     "output_type": "execute_result"
    }
   ],
   "source": [
    "callset['samples']"
   ]
  },
  {
   "cell_type": "code",
   "execution_count": 5,
   "metadata": {
    "collapsed": false,
    "jupyter": {
     "outputs_hidden": false
    }
   },
   "outputs": [
    {
     "data": {
      "text/plain": [
       "array([16050075, 16050115, 16050213, ..., 51244163, 51244205, 51244237],\n",
       "      dtype=int32)"
      ]
     },
     "execution_count": 5,
     "metadata": {},
     "output_type": "execute_result"
    }
   ],
   "source": [
    "callset['variants/POS']"
   ]
  },
  {
   "cell_type": "code",
   "execution_count": 6,
   "metadata": {
    "collapsed": false,
    "jupyter": {
     "outputs_hidden": false
    }
   },
   "outputs": [
    {
     "data": {
      "text/html": [
       "<div class=\"allel allel-DisplayAs2D\"><span>&lt;GenotypeArray shape=(1103547, 105, 2) dtype=int8&gt;</span><table><thead><tr><th></th><th style=\"text-align: center\">0</th><th style=\"text-align: center\">1</th><th style=\"text-align: center\">2</th><th style=\"text-align: center\">3</th><th style=\"text-align: center\">4</th><th style=\"text-align: center\">...</th><th style=\"text-align: center\">100</th><th style=\"text-align: center\">101</th><th style=\"text-align: center\">102</th><th style=\"text-align: center\">103</th><th style=\"text-align: center\">104</th></tr></thead><tbody><tr><th style=\"text-align: center; background-color: white; border-right: 1px solid black; \">0</th><td style=\"text-align: center\">0/0</td><td style=\"text-align: center\">0/0</td><td style=\"text-align: center\">0/0</td><td style=\"text-align: center\">0/0</td><td style=\"text-align: center\">0/0</td><td style=\"text-align: center\">...</td><td style=\"text-align: center\">0/0</td><td style=\"text-align: center\">0/0</td><td style=\"text-align: center\">0/0</td><td style=\"text-align: center\">0/0</td><td style=\"text-align: center\">0/0</td></tr><tr><th style=\"text-align: center; background-color: white; border-right: 1px solid black; \">1</th><td style=\"text-align: center\">0/0</td><td style=\"text-align: center\">0/0</td><td style=\"text-align: center\">0/0</td><td style=\"text-align: center\">0/0</td><td style=\"text-align: center\">0/0</td><td style=\"text-align: center\">...</td><td style=\"text-align: center\">0/0</td><td style=\"text-align: center\">0/0</td><td style=\"text-align: center\">0/0</td><td style=\"text-align: center\">0/0</td><td style=\"text-align: center\">0/0</td></tr><tr><th style=\"text-align: center; background-color: white; border-right: 1px solid black; \">2</th><td style=\"text-align: center\">0/0</td><td style=\"text-align: center\">0/0</td><td style=\"text-align: center\">0/0</td><td style=\"text-align: center\">0/0</td><td style=\"text-align: center\">0/0</td><td style=\"text-align: center\">...</td><td style=\"text-align: center\">0/0</td><td style=\"text-align: center\">0/0</td><td style=\"text-align: center\">0/0</td><td style=\"text-align: center\">0/0</td><td style=\"text-align: center\">0/0</td></tr><tr><th style=\"text-align: center; background-color: white; border-right: 1px solid black; \">...</th><td style=\"text-align: center\" colspan=\"12\">...</td></tr><tr><th style=\"text-align: center; background-color: white; border-right: 1px solid black; \">1103544</th><td style=\"text-align: center\">0/0</td><td style=\"text-align: center\">0/0</td><td style=\"text-align: center\">0/0</td><td style=\"text-align: center\">0/0</td><td style=\"text-align: center\">0/0</td><td style=\"text-align: center\">...</td><td style=\"text-align: center\">0/0</td><td style=\"text-align: center\">0/0</td><td style=\"text-align: center\">0/0</td><td style=\"text-align: center\">0/0</td><td style=\"text-align: center\">0/0</td></tr><tr><th style=\"text-align: center; background-color: white; border-right: 1px solid black; \">1103545</th><td style=\"text-align: center\">0/0</td><td style=\"text-align: center\">0/0</td><td style=\"text-align: center\">0/0</td><td style=\"text-align: center\">0/0</td><td style=\"text-align: center\">0/0</td><td style=\"text-align: center\">...</td><td style=\"text-align: center\">0/0</td><td style=\"text-align: center\">0/0</td><td style=\"text-align: center\">0/0</td><td style=\"text-align: center\">0/0</td><td style=\"text-align: center\">0/0</td></tr><tr><th style=\"text-align: center; background-color: white; border-right: 1px solid black; \">1103546</th><td style=\"text-align: center\">0/0</td><td style=\"text-align: center\">0/0</td><td style=\"text-align: center\">0/0</td><td style=\"text-align: center\">0/0</td><td style=\"text-align: center\">0/0</td><td style=\"text-align: center\">...</td><td style=\"text-align: center\">0/0</td><td style=\"text-align: center\">0/0</td><td style=\"text-align: center\">0/0</td><td style=\"text-align: center\">0/0</td><td style=\"text-align: center\">0/0</td></tr></tbody></table></div>"
      ],
      "text/plain": [
       "<GenotypeArray shape=(1103547, 105, 2) dtype=int8>\n",
       "0/0 0/0 0/0 0/0 0/0 ... 0/0 0/0 0/0 0/0 0/0\n",
       "0/0 0/0 0/0 0/0 0/0 ... 0/0 0/0 0/0 0/0 0/0\n",
       "0/0 0/0 0/0 0/0 0/0 ... 0/0 0/0 0/0 0/0 0/0\n",
       "...\n",
       "0/0 0/0 0/0 0/0 0/0 ... 0/0 0/0 0/0 0/0 0/0\n",
       "0/0 0/0 0/0 0/0 0/0 ... 0/0 0/0 0/0 0/0 0/0\n",
       "0/0 0/0 0/0 0/0 0/0 ... 0/0 0/0 0/0 0/0 0/0"
      ]
     },
     "execution_count": 6,
     "metadata": {},
     "output_type": "execute_result"
    }
   ],
   "source": [
    "gt = allel.GenotypeArray(callset['calldata/GT'])\n",
    "gt"
   ]
  },
  {
   "cell_type": "code",
   "execution_count": 7,
   "metadata": {
    "collapsed": false,
    "jupyter": {
     "outputs_hidden": false
    }
   },
   "outputs": [
    {
     "data": {
      "text/html": [
       "<div class=\"allel allel-DisplayAs2D\"><span>&lt;AlleleCountsArray shape=(1103547, 9) dtype=int32&gt;</span><table><thead><tr><th></th><th style=\"text-align: center\">0</th><th style=\"text-align: center\">1</th><th style=\"text-align: center\">2</th><th style=\"text-align: center\">3</th><th style=\"text-align: center\">4</th><th style=\"text-align: center\">5</th><th style=\"text-align: center\">6</th><th style=\"text-align: center\">7</th><th style=\"text-align: center\">8</th></tr></thead><tbody><tr><th style=\"text-align: center; background-color: white; border-right: 1px solid black; \">0</th><td style=\"text-align: center\">210</td><td style=\"text-align: center\">  0</td><td style=\"text-align: center\">  0</td><td style=\"text-align: center\">  0</td><td style=\"text-align: center\">  0</td><td style=\"text-align: center\">  0</td><td style=\"text-align: center\">  0</td><td style=\"text-align: center\">  0</td><td style=\"text-align: center\">  0</td></tr><tr><th style=\"text-align: center; background-color: white; border-right: 1px solid black; \">1</th><td style=\"text-align: center\">209</td><td style=\"text-align: center\">  1</td><td style=\"text-align: center\">  0</td><td style=\"text-align: center\">  0</td><td style=\"text-align: center\">  0</td><td style=\"text-align: center\">  0</td><td style=\"text-align: center\">  0</td><td style=\"text-align: center\">  0</td><td style=\"text-align: center\">  0</td></tr><tr><th style=\"text-align: center; background-color: white; border-right: 1px solid black; \">2</th><td style=\"text-align: center\">209</td><td style=\"text-align: center\">  1</td><td style=\"text-align: center\">  0</td><td style=\"text-align: center\">  0</td><td style=\"text-align: center\">  0</td><td style=\"text-align: center\">  0</td><td style=\"text-align: center\">  0</td><td style=\"text-align: center\">  0</td><td style=\"text-align: center\">  0</td></tr><tr><th style=\"text-align: center; background-color: white; border-right: 1px solid black; \">...</th><td style=\"text-align: center\" colspan=\"10\">...</td></tr><tr><th style=\"text-align: center; background-color: white; border-right: 1px solid black; \">1103544</th><td style=\"text-align: center\">207</td><td style=\"text-align: center\">  3</td><td style=\"text-align: center\">  0</td><td style=\"text-align: center\">  0</td><td style=\"text-align: center\">  0</td><td style=\"text-align: center\">  0</td><td style=\"text-align: center\">  0</td><td style=\"text-align: center\">  0</td><td style=\"text-align: center\">  0</td></tr><tr><th style=\"text-align: center; background-color: white; border-right: 1px solid black; \">1103545</th><td style=\"text-align: center\">210</td><td style=\"text-align: center\">  0</td><td style=\"text-align: center\">  0</td><td style=\"text-align: center\">  0</td><td style=\"text-align: center\">  0</td><td style=\"text-align: center\">  0</td><td style=\"text-align: center\">  0</td><td style=\"text-align: center\">  0</td><td style=\"text-align: center\">  0</td></tr><tr><th style=\"text-align: center; background-color: white; border-right: 1px solid black; \">1103546</th><td style=\"text-align: center\">209</td><td style=\"text-align: center\">  1</td><td style=\"text-align: center\">  0</td><td style=\"text-align: center\">  0</td><td style=\"text-align: center\">  0</td><td style=\"text-align: center\">  0</td><td style=\"text-align: center\">  0</td><td style=\"text-align: center\">  0</td><td style=\"text-align: center\">  0</td></tr></tbody></table></div>"
      ],
      "text/plain": [
       "<AlleleCountsArray shape=(1103547, 9) dtype=int32>\n",
       "210   0   0   0   0   0   0   0   0\n",
       "209   1   0   0   0   0   0   0   0\n",
       "209   1   0   0   0   0   0   0   0\n",
       "...\n",
       "207   3   0   0   0   0   0   0   0\n",
       "210   0   0   0   0   0   0   0   0\n",
       "209   1   0   0   0   0   0   0   0"
      ]
     },
     "execution_count": 7,
     "metadata": {},
     "output_type": "execute_result"
    }
   ],
   "source": [
    "ac = gt.count_alleles()\n",
    "ac"
   ]
  },
  {
   "cell_type": "code",
   "execution_count": 8,
   "metadata": {
    "collapsed": false,
    "jupyter": {
     "outputs_hidden": false
    }
   },
   "outputs": [
    {
     "name": "stdout",
     "output_type": "stream",
     "text": [
      "scikit-allel 1.3.6\n"
     ]
    }
   ],
   "source": [
    "import random\n",
    "random.seed(42)\n",
    "import time\n",
    "import numpy as np\n",
    "np.random.seed(42)\n",
    "import h5py\n",
    "import matplotlib.pyplot as plt\n",
    "%matplotlib inline\n",
    "import seaborn as sns\n",
    "sns.set_style('white')\n",
    "sns.set_style('ticks')\n",
    "#import bcolz => package not necessary and could not be installed\n",
    "import pandas\n",
    "import allel; print('scikit-allel', allel.__version__)\n",
    "# %reload_ext memory_profiler"
   ]
  },
  {
   "cell_type": "code",
   "execution_count": 9,
   "metadata": {
    "collapsed": false,
    "jupyter": {
     "outputs_hidden": false
    }
   },
   "outputs": [
    {
     "data": {
      "text/html": [
       "<div class=\"allel allel-DisplayAs2D\"><span>&lt;GenotypeArray shape=(1103547, 105, 2) dtype=int8&gt;</span><table><thead><tr><th></th><th style=\"text-align: center\">0</th><th style=\"text-align: center\">1</th><th style=\"text-align: center\">2</th><th style=\"text-align: center\">3</th><th style=\"text-align: center\">4</th><th style=\"text-align: center\">...</th><th style=\"text-align: center\">100</th><th style=\"text-align: center\">101</th><th style=\"text-align: center\">102</th><th style=\"text-align: center\">103</th><th style=\"text-align: center\">104</th></tr></thead><tbody><tr><th style=\"text-align: center; background-color: white; border-right: 1px solid black; \">0</th><td style=\"text-align: center\">0/0</td><td style=\"text-align: center\">0/0</td><td style=\"text-align: center\">0/0</td><td style=\"text-align: center\">0/0</td><td style=\"text-align: center\">0/0</td><td style=\"text-align: center\">...</td><td style=\"text-align: center\">0/0</td><td style=\"text-align: center\">0/0</td><td style=\"text-align: center\">0/0</td><td style=\"text-align: center\">0/0</td><td style=\"text-align: center\">0/0</td></tr><tr><th style=\"text-align: center; background-color: white; border-right: 1px solid black; \">1</th><td style=\"text-align: center\">0/0</td><td style=\"text-align: center\">0/0</td><td style=\"text-align: center\">0/0</td><td style=\"text-align: center\">0/0</td><td style=\"text-align: center\">0/0</td><td style=\"text-align: center\">...</td><td style=\"text-align: center\">0/0</td><td style=\"text-align: center\">0/0</td><td style=\"text-align: center\">0/0</td><td style=\"text-align: center\">0/0</td><td style=\"text-align: center\">0/0</td></tr><tr><th style=\"text-align: center; background-color: white; border-right: 1px solid black; \">2</th><td style=\"text-align: center\">0/0</td><td style=\"text-align: center\">0/0</td><td style=\"text-align: center\">0/0</td><td style=\"text-align: center\">0/0</td><td style=\"text-align: center\">0/0</td><td style=\"text-align: center\">...</td><td style=\"text-align: center\">0/0</td><td style=\"text-align: center\">0/0</td><td style=\"text-align: center\">0/0</td><td style=\"text-align: center\">0/0</td><td style=\"text-align: center\">0/0</td></tr><tr><th style=\"text-align: center; background-color: white; border-right: 1px solid black; \">...</th><td style=\"text-align: center\" colspan=\"12\">...</td></tr><tr><th style=\"text-align: center; background-color: white; border-right: 1px solid black; \">1103544</th><td style=\"text-align: center\">0/0</td><td style=\"text-align: center\">0/0</td><td style=\"text-align: center\">0/0</td><td style=\"text-align: center\">0/0</td><td style=\"text-align: center\">0/0</td><td style=\"text-align: center\">...</td><td style=\"text-align: center\">0/0</td><td style=\"text-align: center\">0/0</td><td style=\"text-align: center\">0/0</td><td style=\"text-align: center\">0/0</td><td style=\"text-align: center\">0/0</td></tr><tr><th style=\"text-align: center; background-color: white; border-right: 1px solid black; \">1103545</th><td style=\"text-align: center\">0/0</td><td style=\"text-align: center\">0/0</td><td style=\"text-align: center\">0/0</td><td style=\"text-align: center\">0/0</td><td style=\"text-align: center\">0/0</td><td style=\"text-align: center\">...</td><td style=\"text-align: center\">0/0</td><td style=\"text-align: center\">0/0</td><td style=\"text-align: center\">0/0</td><td style=\"text-align: center\">0/0</td><td style=\"text-align: center\">0/0</td></tr><tr><th style=\"text-align: center; background-color: white; border-right: 1px solid black; \">1103546</th><td style=\"text-align: center\">0/0</td><td style=\"text-align: center\">0/0</td><td style=\"text-align: center\">0/0</td><td style=\"text-align: center\">0/0</td><td style=\"text-align: center\">0/0</td><td style=\"text-align: center\">...</td><td style=\"text-align: center\">0/0</td><td style=\"text-align: center\">0/0</td><td style=\"text-align: center\">0/0</td><td style=\"text-align: center\">0/0</td><td style=\"text-align: center\">0/0</td></tr></tbody></table></div>"
      ],
      "text/plain": [
       "<GenotypeArray shape=(1103547, 105, 2) dtype=int8>\n",
       "0/0 0/0 0/0 0/0 0/0 ... 0/0 0/0 0/0 0/0 0/0\n",
       "0/0 0/0 0/0 0/0 0/0 ... 0/0 0/0 0/0 0/0 0/0\n",
       "0/0 0/0 0/0 0/0 0/0 ... 0/0 0/0 0/0 0/0 0/0\n",
       "...\n",
       "0/0 0/0 0/0 0/0 0/0 ... 0/0 0/0 0/0 0/0 0/0\n",
       "0/0 0/0 0/0 0/0 0/0 ... 0/0 0/0 0/0 0/0 0/0\n",
       "0/0 0/0 0/0 0/0 0/0 ... 0/0 0/0 0/0 0/0 0/0"
      ]
     },
     "execution_count": 9,
     "metadata": {},
     "output_type": "execute_result"
    }
   ],
   "source": [
    "gt"
   ]
  },
  {
   "cell_type": "code",
   "execution_count": 10,
   "metadata": {},
   "outputs": [],
   "source": [
    "ac = gt.count_alleles()[:]"
   ]
  },
  {
   "cell_type": "code",
   "execution_count": 11,
   "metadata": {
    "collapsed": false,
    "jupyter": {
     "outputs_hidden": false
    }
   },
   "outputs": [
    {
     "data": {
      "text/html": [
       "<div class=\"allel allel-DisplayAs2D\"><span>&lt;AlleleCountsArray shape=(1103547, 9) dtype=int32&gt;</span><table><thead><tr><th></th><th style=\"text-align: center\">0</th><th style=\"text-align: center\">1</th><th style=\"text-align: center\">2</th><th style=\"text-align: center\">3</th><th style=\"text-align: center\">4</th><th style=\"text-align: center\">5</th><th style=\"text-align: center\">6</th><th style=\"text-align: center\">7</th><th style=\"text-align: center\">8</th></tr></thead><tbody><tr><th style=\"text-align: center; background-color: white; border-right: 1px solid black; \">0</th><td style=\"text-align: center\">210</td><td style=\"text-align: center\">  0</td><td style=\"text-align: center\">  0</td><td style=\"text-align: center\">  0</td><td style=\"text-align: center\">  0</td><td style=\"text-align: center\">  0</td><td style=\"text-align: center\">  0</td><td style=\"text-align: center\">  0</td><td style=\"text-align: center\">  0</td></tr><tr><th style=\"text-align: center; background-color: white; border-right: 1px solid black; \">1</th><td style=\"text-align: center\">209</td><td style=\"text-align: center\">  1</td><td style=\"text-align: center\">  0</td><td style=\"text-align: center\">  0</td><td style=\"text-align: center\">  0</td><td style=\"text-align: center\">  0</td><td style=\"text-align: center\">  0</td><td style=\"text-align: center\">  0</td><td style=\"text-align: center\">  0</td></tr><tr><th style=\"text-align: center; background-color: white; border-right: 1px solid black; \">2</th><td style=\"text-align: center\">209</td><td style=\"text-align: center\">  1</td><td style=\"text-align: center\">  0</td><td style=\"text-align: center\">  0</td><td style=\"text-align: center\">  0</td><td style=\"text-align: center\">  0</td><td style=\"text-align: center\">  0</td><td style=\"text-align: center\">  0</td><td style=\"text-align: center\">  0</td></tr><tr><th style=\"text-align: center; background-color: white; border-right: 1px solid black; \">...</th><td style=\"text-align: center\" colspan=\"10\">...</td></tr><tr><th style=\"text-align: center; background-color: white; border-right: 1px solid black; \">1103544</th><td style=\"text-align: center\">207</td><td style=\"text-align: center\">  3</td><td style=\"text-align: center\">  0</td><td style=\"text-align: center\">  0</td><td style=\"text-align: center\">  0</td><td style=\"text-align: center\">  0</td><td style=\"text-align: center\">  0</td><td style=\"text-align: center\">  0</td><td style=\"text-align: center\">  0</td></tr><tr><th style=\"text-align: center; background-color: white; border-right: 1px solid black; \">1103545</th><td style=\"text-align: center\">210</td><td style=\"text-align: center\">  0</td><td style=\"text-align: center\">  0</td><td style=\"text-align: center\">  0</td><td style=\"text-align: center\">  0</td><td style=\"text-align: center\">  0</td><td style=\"text-align: center\">  0</td><td style=\"text-align: center\">  0</td><td style=\"text-align: center\">  0</td></tr><tr><th style=\"text-align: center; background-color: white; border-right: 1px solid black; \">1103546</th><td style=\"text-align: center\">209</td><td style=\"text-align: center\">  1</td><td style=\"text-align: center\">  0</td><td style=\"text-align: center\">  0</td><td style=\"text-align: center\">  0</td><td style=\"text-align: center\">  0</td><td style=\"text-align: center\">  0</td><td style=\"text-align: center\">  0</td><td style=\"text-align: center\">  0</td></tr></tbody></table></div>"
      ],
      "text/plain": [
       "<AlleleCountsArray shape=(1103547, 9) dtype=int32>\n",
       "210   0   0   0   0   0   0   0   0\n",
       "209   1   0   0   0   0   0   0   0\n",
       "209   1   0   0   0   0   0   0   0\n",
       "...\n",
       "207   3   0   0   0   0   0   0   0\n",
       "210   0   0   0   0   0   0   0   0\n",
       "209   1   0   0   0   0   0   0   0"
      ]
     },
     "execution_count": 11,
     "metadata": {},
     "output_type": "execute_result"
    }
   ],
   "source": [
    "ac"
   ]
  },
  {
   "cell_type": "code",
   "execution_count": 12,
   "metadata": {
    "collapsed": false,
    "jupyter": {
     "outputs_hidden": false
    }
   },
   "outputs": [
    {
     "data": {
      "text/html": [
       "<div class=\"allel allel-DisplayAs2D\"><span>&lt;GenotypeArray shape=(139294, 105, 2) dtype=int8&gt;</span><table><thead><tr><th></th><th style=\"text-align: center\">0</th><th style=\"text-align: center\">1</th><th style=\"text-align: center\">2</th><th style=\"text-align: center\">3</th><th style=\"text-align: center\">4</th><th style=\"text-align: center\">...</th><th style=\"text-align: center\">100</th><th style=\"text-align: center\">101</th><th style=\"text-align: center\">102</th><th style=\"text-align: center\">103</th><th style=\"text-align: center\">104</th></tr></thead><tbody><tr><th style=\"text-align: center; background-color: white; border-right: 1px solid black; \">0</th><td style=\"text-align: center\">0/0</td><td style=\"text-align: center\">0/0</td><td style=\"text-align: center\">0/0</td><td style=\"text-align: center\">0/0</td><td style=\"text-align: center\">0/0</td><td style=\"text-align: center\">...</td><td style=\"text-align: center\">0/0</td><td style=\"text-align: center\">0/0</td><td style=\"text-align: center\">0/0</td><td style=\"text-align: center\">0/0</td><td style=\"text-align: center\">0/0</td></tr><tr><th style=\"text-align: center; background-color: white; border-right: 1px solid black; \">1</th><td style=\"text-align: center\">0/0</td><td style=\"text-align: center\">1/0</td><td style=\"text-align: center\">1/0</td><td style=\"text-align: center\">0/0</td><td style=\"text-align: center\">0/0</td><td style=\"text-align: center\">...</td><td style=\"text-align: center\">0/1</td><td style=\"text-align: center\">0/0</td><td style=\"text-align: center\">0/0</td><td style=\"text-align: center\">0/0</td><td style=\"text-align: center\">0/0</td></tr><tr><th style=\"text-align: center; background-color: white; border-right: 1px solid black; \">2</th><td style=\"text-align: center\">0/1</td><td style=\"text-align: center\">0/0</td><td style=\"text-align: center\">0/0</td><td style=\"text-align: center\">0/0</td><td style=\"text-align: center\">1/0</td><td style=\"text-align: center\">...</td><td style=\"text-align: center\">0/0</td><td style=\"text-align: center\">0/0</td><td style=\"text-align: center\">0/0</td><td style=\"text-align: center\">0/0</td><td style=\"text-align: center\">0/0</td></tr><tr><th style=\"text-align: center; background-color: white; border-right: 1px solid black; \">...</th><td style=\"text-align: center\" colspan=\"12\">...</td></tr><tr><th style=\"text-align: center; background-color: white; border-right: 1px solid black; \">139291</th><td style=\"text-align: center\">0/0</td><td style=\"text-align: center\">0/0</td><td style=\"text-align: center\">0/0</td><td style=\"text-align: center\">0/0</td><td style=\"text-align: center\">0/0</td><td style=\"text-align: center\">...</td><td style=\"text-align: center\">0/0</td><td style=\"text-align: center\">0/0</td><td style=\"text-align: center\">0/0</td><td style=\"text-align: center\">0/0</td><td style=\"text-align: center\">0/0</td></tr><tr><th style=\"text-align: center; background-color: white; border-right: 1px solid black; \">139292</th><td style=\"text-align: center\">0/0</td><td style=\"text-align: center\">0/0</td><td style=\"text-align: center\">0/0</td><td style=\"text-align: center\">0/0</td><td style=\"text-align: center\">0/0</td><td style=\"text-align: center\">...</td><td style=\"text-align: center\">0/0</td><td style=\"text-align: center\">0/0</td><td style=\"text-align: center\">0/0</td><td style=\"text-align: center\">0/0</td><td style=\"text-align: center\">0/0</td></tr><tr><th style=\"text-align: center; background-color: white; border-right: 1px solid black; \">139293</th><td style=\"text-align: center\">0/0</td><td style=\"text-align: center\">0/0</td><td style=\"text-align: center\">0/0</td><td style=\"text-align: center\">0/0</td><td style=\"text-align: center\">0/0</td><td style=\"text-align: center\">...</td><td style=\"text-align: center\">0/0</td><td style=\"text-align: center\">0/0</td><td style=\"text-align: center\">0/0</td><td style=\"text-align: center\">0/0</td><td style=\"text-align: center\">0/0</td></tr></tbody></table></div>"
      ],
      "text/plain": [
       "<GenotypeArray shape=(139294, 105, 2) dtype=int8>\n",
       "0/0 0/0 0/0 0/0 0/0 ... 0/0 0/0 0/0 0/0 0/0\n",
       "0/0 1/0 1/0 0/0 0/0 ... 0/1 0/0 0/0 0/0 0/0\n",
       "0/1 0/0 0/0 0/0 1/0 ... 0/0 0/0 0/0 0/0 0/0\n",
       "...\n",
       "0/0 0/0 0/0 0/0 0/0 ... 0/0 0/0 0/0 0/0 0/0\n",
       "0/0 0/0 0/0 0/0 0/0 ... 0/0 0/0 0/0 0/0 0/0\n",
       "0/0 0/0 0/0 0/0 0/0 ... 0/0 0/0 0/0 0/0 0/0"
      ]
     },
     "execution_count": 12,
     "metadata": {},
     "output_type": "execute_result"
    }
   ],
   "source": [
    "#flt = (ac.max_allele() == 1) & (ac[:, :2].min(axis=1) > 1) # This is remove singleton\n",
    "flt = (ac.max_allele() == 1) & (ac[:, :2].min(axis=1) > 5) # This is for more strict MAF cutoff\n",
    "\n",
    "\n",
    "gf = gt.compress(flt, axis=0)\n",
    "gf"
   ]
  },
  {
   "cell_type": "code",
   "execution_count": 13,
   "metadata": {
    "collapsed": false,
    "jupyter": {
     "outputs_hidden": false
    }
   },
   "outputs": [
    {
     "data": {
      "text/plain": [
       "array([[0, 0, 0, ..., 0, 0, 0],\n",
       "       [0, 1, 1, ..., 0, 0, 0],\n",
       "       [1, 0, 0, ..., 0, 0, 0],\n",
       "       ...,\n",
       "       [0, 0, 0, ..., 0, 0, 0],\n",
       "       [0, 0, 0, ..., 0, 0, 0],\n",
       "       [0, 0, 0, ..., 0, 0, 0]], dtype=int8)"
      ]
     },
     "execution_count": 13,
     "metadata": {},
     "output_type": "execute_result"
    }
   ],
   "source": [
    "gn = gf.to_n_alt()\n",
    "gn"
   ]
  },
  {
   "cell_type": "code",
   "execution_count": 14,
   "metadata": {
    "collapsed": false,
    "jupyter": {
     "outputs_hidden": false
    }
   },
   "outputs": [
    {
     "data": {
      "text/plain": [
       "array([[0, 0, 0, ..., 0, 0, 0],\n",
       "       [0, 1, 1, ..., 0, 0, 0],\n",
       "       [1, 0, 0, ..., 0, 0, 0],\n",
       "       ...,\n",
       "       [1, 1, 0, ..., 0, 0, 0],\n",
       "       [0, 0, 0, ..., 0, 0, 0],\n",
       "       [0, 0, 0, ..., 0, 0, 0]], dtype=int8)"
      ]
     },
     "execution_count": 14,
     "metadata": {},
     "output_type": "execute_result"
    }
   ],
   "source": [
    "n = 100000  # number of SNPs to choose randomly\n",
    "#n = 10000\n",
    "#n = 1000\n",
    "vidx = np.random.choice(gn.shape[0], n, replace=False)\n",
    "vidx.sort()\n",
    "gnr = gn.take(vidx, axis=0)\n",
    "gnr"
   ]
  },
  {
   "cell_type": "code",
   "execution_count": 15,
   "metadata": {},
   "outputs": [
    {
     "name": "stdout",
     "output_type": "stream",
     "text": [
      "[0.1034116  0.04082178 0.0185409  0.01685901 0.01511698 0.01430466\n",
      " 0.01391242 0.01378697 0.01349845 0.01309875]\n",
      "[0.1034116  0.04082178 0.0185409  0.01685901 0.01511698 0.01430466]\n",
      "[0.1034116  0.04082178 0.0185409  0.01685901]\n",
      "[0.10239684 0.05000737 0.02130299 0.01938763 0.01414445 0.01386177\n",
      " 0.01324054 0.01264187 0.01227303 0.01198912]\n"
     ]
    }
   ],
   "source": [
    "coords1, model1 = allel.pca(gnr, n_components=10, scaler='patterson')\n",
    "coords2, model2 = allel.pca(gnr, n_components=6, scaler='patterson')\n",
    "coords3, model3 = allel.pca(gnr, n_components=4, scaler='patterson')\n",
    "coords4, model4 = allel.pca(gnr, n_components=10, scaler=None)\n",
    "\n",
    "print(model1.explained_variance_ratio_)\n",
    "print(model2.explained_variance_ratio_)\n",
    "print(model3.explained_variance_ratio_)\n",
    "print(model4.explained_variance_ratio_)\n"
   ]
  },
  {
   "cell_type": "code",
   "execution_count": 16,
   "metadata": {
    "collapsed": false,
    "jupyter": {
     "outputs_hidden": false
    }
   },
   "outputs": [
    {
     "data": {
      "text/html": [
       "<div>\n",
       "<style scoped>\n",
       "    .dataframe tbody tr th:only-of-type {\n",
       "        vertical-align: middle;\n",
       "    }\n",
       "\n",
       "    .dataframe tbody tr th {\n",
       "        vertical-align: top;\n",
       "    }\n",
       "\n",
       "    .dataframe thead th {\n",
       "        text-align: right;\n",
       "    }\n",
       "</style>\n",
       "<table border=\"1\" class=\"dataframe\">\n",
       "  <thead>\n",
       "    <tr style=\"text-align: right;\">\n",
       "      <th></th>\n",
       "      <th>Population Description</th>\n",
       "      <th>Continental</th>\n",
       "      <th>Sequence Data Available</th>\n",
       "      <th>Alignment Data Available</th>\n",
       "      <th>Variant Data Available</th>\n",
       "    </tr>\n",
       "    <tr>\n",
       "      <th>Population</th>\n",
       "      <th></th>\n",
       "      <th></th>\n",
       "      <th></th>\n",
       "      <th></th>\n",
       "      <th></th>\n",
       "    </tr>\n",
       "  </thead>\n",
       "  <tbody>\n",
       "    <tr>\n",
       "      <th>CHB</th>\n",
       "      <td>Han Chinese in Beijing, China</td>\n",
       "      <td>EAS</td>\n",
       "      <td>1</td>\n",
       "      <td>1</td>\n",
       "      <td>1</td>\n",
       "    </tr>\n",
       "    <tr>\n",
       "      <th>JPT</th>\n",
       "      <td>Japanese in Tokyo, Japan</td>\n",
       "      <td>EAS</td>\n",
       "      <td>1</td>\n",
       "      <td>1</td>\n",
       "      <td>1</td>\n",
       "    </tr>\n",
       "    <tr>\n",
       "      <th>CHS</th>\n",
       "      <td>Southern Han Chinese</td>\n",
       "      <td>EAS</td>\n",
       "      <td>1</td>\n",
       "      <td>1</td>\n",
       "      <td>1</td>\n",
       "    </tr>\n",
       "    <tr>\n",
       "      <th>CDX</th>\n",
       "      <td>Chinese Dai in Xishuangbanna, China</td>\n",
       "      <td>EAS</td>\n",
       "      <td>1</td>\n",
       "      <td>1</td>\n",
       "      <td>1</td>\n",
       "    </tr>\n",
       "    <tr>\n",
       "      <th>KHV</th>\n",
       "      <td>Kinh in Ho Chi Minh City, Vietnam</td>\n",
       "      <td>EAS</td>\n",
       "      <td>1</td>\n",
       "      <td>1</td>\n",
       "      <td>1</td>\n",
       "    </tr>\n",
       "  </tbody>\n",
       "</table>\n",
       "</div>"
      ],
      "text/plain": [
       "                         Population Description Continental  \\\n",
       "Population                                                    \n",
       "CHB               Han Chinese in Beijing, China         EAS   \n",
       "JPT                    Japanese in Tokyo, Japan         EAS   \n",
       "CHS                        Southern Han Chinese         EAS   \n",
       "CDX         Chinese Dai in Xishuangbanna, China         EAS   \n",
       "KHV           Kinh in Ho Chi Minh City, Vietnam         EAS   \n",
       "\n",
       "            Sequence Data Available  Alignment Data Available  \\\n",
       "Population                                                      \n",
       "CHB                               1                         1   \n",
       "JPT                               1                         1   \n",
       "CHS                               1                         1   \n",
       "CDX                               1                         1   \n",
       "KHV                               1                         1   \n",
       "\n",
       "            Variant Data Available  \n",
       "Population                          \n",
       "CHB                              1  \n",
       "JPT                              1  \n",
       "CHS                              1  \n",
       "CDX                              1  \n",
       "KHV                              1  "
      ]
     },
     "execution_count": 16,
     "metadata": {},
     "output_type": "execute_result"
    }
   ],
   "source": [
    "# cont labels\n",
    "df_cont = pandas.read_csv('continental.txt', delimiter='\\t', index_col='Population')\n",
    "df_cont.head()"
   ]
  },
  {
   "cell_type": "code",
   "execution_count": 17,
   "metadata": {
    "collapsed": false,
    "jupyter": {
     "outputs_hidden": false
    }
   },
   "outputs": [],
   "source": [
    "# pop labels\n",
    "df_samples = pandas.read_csv('integrated_call_samples_v2.20130502.ALL.ped.txt', delimiter='\\t', index_col='Individual ID')\n",
    "df_samples = df_samples.join(df_cont, on='Population')\n",
    "# df_samples.tail(10)"
   ]
  },
  {
   "cell_type": "code",
   "execution_count": 18,
   "metadata": {
    "collapsed": false,
    "jupyter": {
     "outputs_hidden": false
    }
   },
   "outputs": [
    {
     "data": {
      "text/html": [
       "<div>\n",
       "<style scoped>\n",
       "    .dataframe tbody tr th:only-of-type {\n",
       "        vertical-align: middle;\n",
       "    }\n",
       "\n",
       "    .dataframe tbody tr th {\n",
       "        vertical-align: top;\n",
       "    }\n",
       "\n",
       "    .dataframe thead th {\n",
       "        text-align: right;\n",
       "    }\n",
       "</style>\n",
       "<table border=\"1\" class=\"dataframe\">\n",
       "  <thead>\n",
       "    <tr style=\"text-align: right;\">\n",
       "      <th></th>\n",
       "      <th>0</th>\n",
       "      <th>1</th>\n",
       "      <th>2</th>\n",
       "      <th>3</th>\n",
       "      <th>4</th>\n",
       "      <th>5</th>\n",
       "      <th>6</th>\n",
       "      <th>7</th>\n",
       "      <th>8</th>\n",
       "      <th>9</th>\n",
       "    </tr>\n",
       "  </thead>\n",
       "  <tbody>\n",
       "    <tr>\n",
       "      <th>HG00096</th>\n",
       "      <td>-76.811653</td>\n",
       "      <td>139.376114</td>\n",
       "      <td>119.586967</td>\n",
       "      <td>-28.628712</td>\n",
       "      <td>-24.626738</td>\n",
       "      <td>60.829365</td>\n",
       "      <td>-90.373367</td>\n",
       "      <td>5.823133</td>\n",
       "      <td>23.111525</td>\n",
       "      <td>-96.682053</td>\n",
       "    </tr>\n",
       "    <tr>\n",
       "      <th>HG00097</th>\n",
       "      <td>-89.260231</td>\n",
       "      <td>101.762726</td>\n",
       "      <td>55.298019</td>\n",
       "      <td>-76.634125</td>\n",
       "      <td>7.805068</td>\n",
       "      <td>0.197462</td>\n",
       "      <td>9.402221</td>\n",
       "      <td>-18.025694</td>\n",
       "      <td>8.004932</td>\n",
       "      <td>-10.891384</td>\n",
       "    </tr>\n",
       "    <tr>\n",
       "      <th>HG00099</th>\n",
       "      <td>-79.242455</td>\n",
       "      <td>115.796234</td>\n",
       "      <td>41.925098</td>\n",
       "      <td>-35.908398</td>\n",
       "      <td>-13.494594</td>\n",
       "      <td>7.187465</td>\n",
       "      <td>-18.110716</td>\n",
       "      <td>21.577297</td>\n",
       "      <td>9.745396</td>\n",
       "      <td>-24.580605</td>\n",
       "    </tr>\n",
       "    <tr>\n",
       "      <th>HG00100</th>\n",
       "      <td>-72.472282</td>\n",
       "      <td>128.679169</td>\n",
       "      <td>78.301216</td>\n",
       "      <td>-57.909233</td>\n",
       "      <td>-1.149531</td>\n",
       "      <td>12.349135</td>\n",
       "      <td>-24.980774</td>\n",
       "      <td>30.135498</td>\n",
       "      <td>-4.605790</td>\n",
       "      <td>-9.036454</td>\n",
       "    </tr>\n",
       "    <tr>\n",
       "      <th>HG00171</th>\n",
       "      <td>-99.670921</td>\n",
       "      <td>84.896156</td>\n",
       "      <td>55.139874</td>\n",
       "      <td>-18.900536</td>\n",
       "      <td>-3.386601</td>\n",
       "      <td>12.346075</td>\n",
       "      <td>-7.904860</td>\n",
       "      <td>-5.027943</td>\n",
       "      <td>-11.046386</td>\n",
       "      <td>4.146145</td>\n",
       "    </tr>\n",
       "    <tr>\n",
       "      <th>...</th>\n",
       "      <td>...</td>\n",
       "      <td>...</td>\n",
       "      <td>...</td>\n",
       "      <td>...</td>\n",
       "      <td>...</td>\n",
       "      <td>...</td>\n",
       "      <td>...</td>\n",
       "      <td>...</td>\n",
       "      <td>...</td>\n",
       "      <td>...</td>\n",
       "    </tr>\n",
       "    <tr>\n",
       "      <th>NA20845</th>\n",
       "      <td>-82.632614</td>\n",
       "      <td>24.868097</td>\n",
       "      <td>-143.902725</td>\n",
       "      <td>6.810176</td>\n",
       "      <td>11.407437</td>\n",
       "      <td>-16.959602</td>\n",
       "      <td>23.151068</td>\n",
       "      <td>-8.074821</td>\n",
       "      <td>-1.461397</td>\n",
       "      <td>-11.475471</td>\n",
       "    </tr>\n",
       "    <tr>\n",
       "      <th>NA20846</th>\n",
       "      <td>-83.305679</td>\n",
       "      <td>44.441460</td>\n",
       "      <td>-85.557228</td>\n",
       "      <td>-3.860818</td>\n",
       "      <td>21.990305</td>\n",
       "      <td>11.925923</td>\n",
       "      <td>-0.817148</td>\n",
       "      <td>1.014987</td>\n",
       "      <td>-22.167700</td>\n",
       "      <td>-13.532815</td>\n",
       "    </tr>\n",
       "    <tr>\n",
       "      <th>NA20847</th>\n",
       "      <td>-86.654343</td>\n",
       "      <td>34.142235</td>\n",
       "      <td>-104.143242</td>\n",
       "      <td>-51.575047</td>\n",
       "      <td>8.492846</td>\n",
       "      <td>-28.782743</td>\n",
       "      <td>-15.172232</td>\n",
       "      <td>-20.112886</td>\n",
       "      <td>10.076681</td>\n",
       "      <td>-16.270899</td>\n",
       "    </tr>\n",
       "    <tr>\n",
       "      <th>NA20849</th>\n",
       "      <td>-69.129486</td>\n",
       "      <td>13.818551</td>\n",
       "      <td>-106.599686</td>\n",
       "      <td>-2.573889</td>\n",
       "      <td>6.676627</td>\n",
       "      <td>-19.460863</td>\n",
       "      <td>15.063910</td>\n",
       "      <td>-33.382038</td>\n",
       "      <td>28.842199</td>\n",
       "      <td>-33.493111</td>\n",
       "    </tr>\n",
       "    <tr>\n",
       "      <th>HG00638</th>\n",
       "      <td>-8.676319</td>\n",
       "      <td>43.093758</td>\n",
       "      <td>25.535553</td>\n",
       "      <td>158.282257</td>\n",
       "      <td>-23.817650</td>\n",
       "      <td>39.644569</td>\n",
       "      <td>-54.019764</td>\n",
       "      <td>13.110234</td>\n",
       "      <td>-47.640915</td>\n",
       "      <td>-14.692207</td>\n",
       "    </tr>\n",
       "  </tbody>\n",
       "</table>\n",
       "<p>105 rows × 10 columns</p>\n",
       "</div>"
      ],
      "text/plain": [
       "                 0           1           2           3          4          5  \\\n",
       "HG00096 -76.811653  139.376114  119.586967  -28.628712 -24.626738  60.829365   \n",
       "HG00097 -89.260231  101.762726   55.298019  -76.634125   7.805068   0.197462   \n",
       "HG00099 -79.242455  115.796234   41.925098  -35.908398 -13.494594   7.187465   \n",
       "HG00100 -72.472282  128.679169   78.301216  -57.909233  -1.149531  12.349135   \n",
       "HG00171 -99.670921   84.896156   55.139874  -18.900536  -3.386601  12.346075   \n",
       "...            ...         ...         ...         ...        ...        ...   \n",
       "NA20845 -82.632614   24.868097 -143.902725    6.810176  11.407437 -16.959602   \n",
       "NA20846 -83.305679   44.441460  -85.557228   -3.860818  21.990305  11.925923   \n",
       "NA20847 -86.654343   34.142235 -104.143242  -51.575047   8.492846 -28.782743   \n",
       "NA20849 -69.129486   13.818551 -106.599686   -2.573889   6.676627 -19.460863   \n",
       "HG00638  -8.676319   43.093758   25.535553  158.282257 -23.817650  39.644569   \n",
       "\n",
       "                 6          7          8          9  \n",
       "HG00096 -90.373367   5.823133  23.111525 -96.682053  \n",
       "HG00097   9.402221 -18.025694   8.004932 -10.891384  \n",
       "HG00099 -18.110716  21.577297   9.745396 -24.580605  \n",
       "HG00100 -24.980774  30.135498  -4.605790  -9.036454  \n",
       "HG00171  -7.904860  -5.027943 -11.046386   4.146145  \n",
       "...            ...        ...        ...        ...  \n",
       "NA20845  23.151068  -8.074821  -1.461397 -11.475471  \n",
       "NA20846  -0.817148   1.014987 -22.167700 -13.532815  \n",
       "NA20847 -15.172232 -20.112886  10.076681 -16.270899  \n",
       "NA20849  15.063910 -33.382038  28.842199 -33.493111  \n",
       "HG00638 -54.019764  13.110234 -47.640915 -14.692207  \n",
       "\n",
       "[105 rows x 10 columns]"
      ]
     },
     "execution_count": 18,
     "metadata": {},
     "output_type": "execute_result"
    }
   ],
   "source": [
    "# mydf = pandas.merge(df_samples, df_samples)\n",
    "df_gnu = pandas.DataFrame(data=coords1, index=callset['samples'])\n",
    "df_gnu"
   ]
  },
  {
   "cell_type": "code",
   "execution_count": 19,
   "metadata": {},
   "outputs": [],
   "source": [
    "pca_samples = df_gnu.join(df_samples)"
   ]
  },
  {
   "cell_type": "code",
   "execution_count": 20,
   "metadata": {
    "collapsed": false,
    "jupyter": {
     "outputs_hidden": false
    }
   },
   "outputs": [],
   "source": [
    "# pops = pandas.merge(df_gnu, df_samples, on=['']) \n",
    "continents = pca_samples.Continental.unique()\n",
    "cont_colours = plt.cm.rainbow(np.linspace(0, 1, len(continents)))\n"
   ]
  },
  {
   "cell_type": "code",
   "execution_count": 21,
   "metadata": {},
   "outputs": [
    {
     "data": {
      "text/html": [
       "<div>\n",
       "<style scoped>\n",
       "    .dataframe tbody tr th:only-of-type {\n",
       "        vertical-align: middle;\n",
       "    }\n",
       "\n",
       "    .dataframe tbody tr th {\n",
       "        vertical-align: top;\n",
       "    }\n",
       "\n",
       "    .dataframe thead th {\n",
       "        text-align: right;\n",
       "    }\n",
       "</style>\n",
       "<table border=\"1\" class=\"dataframe\">\n",
       "  <thead>\n",
       "    <tr style=\"text-align: right;\">\n",
       "      <th></th>\n",
       "      <th>0</th>\n",
       "      <th>1</th>\n",
       "      <th>2</th>\n",
       "      <th>3</th>\n",
       "      <th>4</th>\n",
       "      <th>5</th>\n",
       "      <th>6</th>\n",
       "      <th>7</th>\n",
       "      <th>8</th>\n",
       "      <th>9</th>\n",
       "      <th>...</th>\n",
       "      <th>Other Comments</th>\n",
       "      <th>phase 3 genotypes</th>\n",
       "      <th>related genotypes</th>\n",
       "      <th>omni genotypes</th>\n",
       "      <th>affy_genotypes</th>\n",
       "      <th>Population Description</th>\n",
       "      <th>Continental</th>\n",
       "      <th>Sequence Data Available</th>\n",
       "      <th>Alignment Data Available</th>\n",
       "      <th>Variant Data Available</th>\n",
       "    </tr>\n",
       "  </thead>\n",
       "  <tbody>\n",
       "    <tr>\n",
       "      <th>HG00551</th>\n",
       "      <td>-67.678116</td>\n",
       "      <td>103.137115</td>\n",
       "      <td>66.826393</td>\n",
       "      <td>-6.568776</td>\n",
       "      <td>-4.392508</td>\n",
       "      <td>10.366468</td>\n",
       "      <td>-19.891747</td>\n",
       "      <td>-23.571762</td>\n",
       "      <td>34.876137</td>\n",
       "      <td>-3.982480</td>\n",
       "      <td>...</td>\n",
       "      <td>0</td>\n",
       "      <td>1</td>\n",
       "      <td>0</td>\n",
       "      <td>1</td>\n",
       "      <td>1</td>\n",
       "      <td>Puerto Ricans from Puerto Rico</td>\n",
       "      <td>AMR</td>\n",
       "      <td>1.0</td>\n",
       "      <td>1.0</td>\n",
       "      <td>1.0</td>\n",
       "    </tr>\n",
       "    <tr>\n",
       "      <th>HG00553</th>\n",
       "      <td>43.348198</td>\n",
       "      <td>57.861443</td>\n",
       "      <td>22.996080</td>\n",
       "      <td>78.031357</td>\n",
       "      <td>-79.732208</td>\n",
       "      <td>-14.262753</td>\n",
       "      <td>25.691278</td>\n",
       "      <td>3.992856</td>\n",
       "      <td>56.554901</td>\n",
       "      <td>29.296753</td>\n",
       "      <td>...</td>\n",
       "      <td>0</td>\n",
       "      <td>1</td>\n",
       "      <td>0</td>\n",
       "      <td>1</td>\n",
       "      <td>1</td>\n",
       "      <td>Puerto Ricans from Puerto Rico</td>\n",
       "      <td>AMR</td>\n",
       "      <td>1.0</td>\n",
       "      <td>1.0</td>\n",
       "      <td>1.0</td>\n",
       "    </tr>\n",
       "    <tr>\n",
       "      <th>HG00554</th>\n",
       "      <td>-72.983704</td>\n",
       "      <td>103.689232</td>\n",
       "      <td>59.480778</td>\n",
       "      <td>5.627817</td>\n",
       "      <td>-7.199296</td>\n",
       "      <td>9.763540</td>\n",
       "      <td>-15.261311</td>\n",
       "      <td>15.591911</td>\n",
       "      <td>-13.474539</td>\n",
       "      <td>-3.839196</td>\n",
       "      <td>...</td>\n",
       "      <td>0</td>\n",
       "      <td>1</td>\n",
       "      <td>0</td>\n",
       "      <td>1</td>\n",
       "      <td>1</td>\n",
       "      <td>Puerto Ricans from Puerto Rico</td>\n",
       "      <td>AMR</td>\n",
       "      <td>1.0</td>\n",
       "      <td>1.0</td>\n",
       "      <td>1.0</td>\n",
       "    </tr>\n",
       "    <tr>\n",
       "      <th>HG00637</th>\n",
       "      <td>-39.766575</td>\n",
       "      <td>66.001160</td>\n",
       "      <td>50.084808</td>\n",
       "      <td>37.103386</td>\n",
       "      <td>-13.755093</td>\n",
       "      <td>-4.331111</td>\n",
       "      <td>20.142345</td>\n",
       "      <td>-10.224022</td>\n",
       "      <td>0.289908</td>\n",
       "      <td>13.295321</td>\n",
       "      <td>...</td>\n",
       "      <td>0</td>\n",
       "      <td>1</td>\n",
       "      <td>0</td>\n",
       "      <td>1</td>\n",
       "      <td>1</td>\n",
       "      <td>Puerto Ricans from Puerto Rico</td>\n",
       "      <td>AMR</td>\n",
       "      <td>1.0</td>\n",
       "      <td>1.0</td>\n",
       "      <td>1.0</td>\n",
       "    </tr>\n",
       "    <tr>\n",
       "      <th>HG01112</th>\n",
       "      <td>-67.278961</td>\n",
       "      <td>97.540939</td>\n",
       "      <td>38.515446</td>\n",
       "      <td>-33.632431</td>\n",
       "      <td>11.307245</td>\n",
       "      <td>-11.435837</td>\n",
       "      <td>-12.964475</td>\n",
       "      <td>-10.164637</td>\n",
       "      <td>14.133110</td>\n",
       "      <td>-6.391838</td>\n",
       "      <td>...</td>\n",
       "      <td>0</td>\n",
       "      <td>1</td>\n",
       "      <td>0</td>\n",
       "      <td>1</td>\n",
       "      <td>1</td>\n",
       "      <td>Colombians from Medellin, Colombia</td>\n",
       "      <td>AMR</td>\n",
       "      <td>1.0</td>\n",
       "      <td>1.0</td>\n",
       "      <td>1.0</td>\n",
       "    </tr>\n",
       "  </tbody>\n",
       "</table>\n",
       "<p>5 rows × 31 columns</p>\n",
       "</div>"
      ],
      "text/plain": [
       "                 0           1          2          3          4          5  \\\n",
       "HG00551 -67.678116  103.137115  66.826393  -6.568776  -4.392508  10.366468   \n",
       "HG00553  43.348198   57.861443  22.996080  78.031357 -79.732208 -14.262753   \n",
       "HG00554 -72.983704  103.689232  59.480778   5.627817  -7.199296   9.763540   \n",
       "HG00637 -39.766575   66.001160  50.084808  37.103386 -13.755093  -4.331111   \n",
       "HG01112 -67.278961   97.540939  38.515446 -33.632431  11.307245 -11.435837   \n",
       "\n",
       "                 6          7          8          9  ... Other Comments  \\\n",
       "HG00551 -19.891747 -23.571762  34.876137  -3.982480  ...              0   \n",
       "HG00553  25.691278   3.992856  56.554901  29.296753  ...              0   \n",
       "HG00554 -15.261311  15.591911 -13.474539  -3.839196  ...              0   \n",
       "HG00637  20.142345 -10.224022   0.289908  13.295321  ...              0   \n",
       "HG01112 -12.964475 -10.164637  14.133110  -6.391838  ...              0   \n",
       "\n",
       "        phase 3 genotypes related genotypes  omni genotypes  affy_genotypes  \\\n",
       "HG00551                 1                 0               1               1   \n",
       "HG00553                 1                 0               1               1   \n",
       "HG00554                 1                 0               1               1   \n",
       "HG00637                 1                 0               1               1   \n",
       "HG01112                 1                 0               1               1   \n",
       "\n",
       "                     Population Description Continental  \\\n",
       "HG00551      Puerto Ricans from Puerto Rico         AMR   \n",
       "HG00553      Puerto Ricans from Puerto Rico         AMR   \n",
       "HG00554      Puerto Ricans from Puerto Rico         AMR   \n",
       "HG00637      Puerto Ricans from Puerto Rico         AMR   \n",
       "HG01112  Colombians from Medellin, Colombia         AMR   \n",
       "\n",
       "        Sequence Data Available Alignment Data Available  \\\n",
       "HG00551                     1.0                      1.0   \n",
       "HG00553                     1.0                      1.0   \n",
       "HG00554                     1.0                      1.0   \n",
       "HG00637                     1.0                      1.0   \n",
       "HG01112                     1.0                      1.0   \n",
       "\n",
       "        Variant Data Available  \n",
       "HG00551                    1.0  \n",
       "HG00553                    1.0  \n",
       "HG00554                    1.0  \n",
       "HG00637                    1.0  \n",
       "HG01112                    1.0  \n",
       "\n",
       "[5 rows x 31 columns]"
      ]
     },
     "execution_count": 21,
     "metadata": {},
     "output_type": "execute_result"
    }
   ],
   "source": [
    "# playing with filtering\n",
    "continents\n",
    "pca_samples_cont_filtered = pca_samples[pca_samples['Continental'] == 'AMR']\n",
    "pca_samples_cont_filtered.head()"
   ]
  },
  {
   "cell_type": "code",
   "execution_count": 22,
   "metadata": {
    "collapsed": false,
    "jupyter": {
     "outputs_hidden": false
    }
   },
   "outputs": [],
   "source": [
    "populations = pca_samples_cont_filtered.Population.unique()\n",
    "pop_colours = plt.cm.rainbow(np.linspace(0, 1, len(populations)))"
   ]
  },
  {
   "cell_type": "code",
   "execution_count": 23,
   "metadata": {
    "collapsed": false,
    "jupyter": {
     "outputs_hidden": false
    }
   },
   "outputs": [
    {
     "data": {
      "text/html": [
       "<div>\n",
       "<style scoped>\n",
       "    .dataframe tbody tr th:only-of-type {\n",
       "        vertical-align: middle;\n",
       "    }\n",
       "\n",
       "    .dataframe tbody tr th {\n",
       "        vertical-align: top;\n",
       "    }\n",
       "\n",
       "    .dataframe thead th {\n",
       "        text-align: right;\n",
       "    }\n",
       "</style>\n",
       "<table border=\"1\" class=\"dataframe\">\n",
       "  <thead>\n",
       "    <tr style=\"text-align: right;\">\n",
       "      <th></th>\n",
       "      <th>0</th>\n",
       "      <th>1</th>\n",
       "      <th>2</th>\n",
       "      <th>3</th>\n",
       "      <th>4</th>\n",
       "      <th>5</th>\n",
       "      <th>6</th>\n",
       "      <th>7</th>\n",
       "      <th>8</th>\n",
       "      <th>9</th>\n",
       "      <th>...</th>\n",
       "      <th>Other Comments</th>\n",
       "      <th>phase 3 genotypes</th>\n",
       "      <th>related genotypes</th>\n",
       "      <th>omni genotypes</th>\n",
       "      <th>affy_genotypes</th>\n",
       "      <th>Population Description</th>\n",
       "      <th>Continental</th>\n",
       "      <th>Sequence Data Available</th>\n",
       "      <th>Alignment Data Available</th>\n",
       "      <th>Variant Data Available</th>\n",
       "    </tr>\n",
       "  </thead>\n",
       "  <tbody>\n",
       "    <tr>\n",
       "      <th>HG00096</th>\n",
       "      <td>-76.811653</td>\n",
       "      <td>139.376114</td>\n",
       "      <td>119.586967</td>\n",
       "      <td>-28.628712</td>\n",
       "      <td>-24.626738</td>\n",
       "      <td>60.829365</td>\n",
       "      <td>-90.373367</td>\n",
       "      <td>5.823133</td>\n",
       "      <td>23.111525</td>\n",
       "      <td>-96.682053</td>\n",
       "      <td>...</td>\n",
       "      <td>0</td>\n",
       "      <td>1</td>\n",
       "      <td>0</td>\n",
       "      <td>1</td>\n",
       "      <td>1</td>\n",
       "      <td>British in England and Scotland</td>\n",
       "      <td>EUR</td>\n",
       "      <td>1.0</td>\n",
       "      <td>1.0</td>\n",
       "      <td>1.0</td>\n",
       "    </tr>\n",
       "    <tr>\n",
       "      <th>HG00097</th>\n",
       "      <td>-89.260231</td>\n",
       "      <td>101.762726</td>\n",
       "      <td>55.298019</td>\n",
       "      <td>-76.634125</td>\n",
       "      <td>7.805068</td>\n",
       "      <td>0.197462</td>\n",
       "      <td>9.402221</td>\n",
       "      <td>-18.025694</td>\n",
       "      <td>8.004932</td>\n",
       "      <td>-10.891384</td>\n",
       "      <td>...</td>\n",
       "      <td>0</td>\n",
       "      <td>1</td>\n",
       "      <td>0</td>\n",
       "      <td>1</td>\n",
       "      <td>1</td>\n",
       "      <td>British in England and Scotland</td>\n",
       "      <td>EUR</td>\n",
       "      <td>1.0</td>\n",
       "      <td>1.0</td>\n",
       "      <td>1.0</td>\n",
       "    </tr>\n",
       "    <tr>\n",
       "      <th>HG00099</th>\n",
       "      <td>-79.242455</td>\n",
       "      <td>115.796234</td>\n",
       "      <td>41.925098</td>\n",
       "      <td>-35.908398</td>\n",
       "      <td>-13.494594</td>\n",
       "      <td>7.187465</td>\n",
       "      <td>-18.110716</td>\n",
       "      <td>21.577297</td>\n",
       "      <td>9.745396</td>\n",
       "      <td>-24.580605</td>\n",
       "      <td>...</td>\n",
       "      <td>0</td>\n",
       "      <td>1</td>\n",
       "      <td>0</td>\n",
       "      <td>1</td>\n",
       "      <td>1</td>\n",
       "      <td>British in England and Scotland</td>\n",
       "      <td>EUR</td>\n",
       "      <td>1.0</td>\n",
       "      <td>1.0</td>\n",
       "      <td>1.0</td>\n",
       "    </tr>\n",
       "    <tr>\n",
       "      <th>HG00100</th>\n",
       "      <td>-72.472282</td>\n",
       "      <td>128.679169</td>\n",
       "      <td>78.301216</td>\n",
       "      <td>-57.909233</td>\n",
       "      <td>-1.149531</td>\n",
       "      <td>12.349135</td>\n",
       "      <td>-24.980774</td>\n",
       "      <td>30.135498</td>\n",
       "      <td>-4.605790</td>\n",
       "      <td>-9.036454</td>\n",
       "      <td>...</td>\n",
       "      <td>0</td>\n",
       "      <td>1</td>\n",
       "      <td>0</td>\n",
       "      <td>1</td>\n",
       "      <td>1</td>\n",
       "      <td>British in England and Scotland</td>\n",
       "      <td>EUR</td>\n",
       "      <td>1.0</td>\n",
       "      <td>1.0</td>\n",
       "      <td>1.0</td>\n",
       "    </tr>\n",
       "    <tr>\n",
       "      <th>HG00171</th>\n",
       "      <td>-99.670921</td>\n",
       "      <td>84.896156</td>\n",
       "      <td>55.139874</td>\n",
       "      <td>-18.900536</td>\n",
       "      <td>-3.386601</td>\n",
       "      <td>12.346075</td>\n",
       "      <td>-7.904860</td>\n",
       "      <td>-5.027943</td>\n",
       "      <td>-11.046386</td>\n",
       "      <td>4.146145</td>\n",
       "      <td>...</td>\n",
       "      <td>0</td>\n",
       "      <td>1</td>\n",
       "      <td>0</td>\n",
       "      <td>1</td>\n",
       "      <td>1</td>\n",
       "      <td>Finnish in Finland</td>\n",
       "      <td>EUR</td>\n",
       "      <td>1.0</td>\n",
       "      <td>1.0</td>\n",
       "      <td>1.0</td>\n",
       "    </tr>\n",
       "  </tbody>\n",
       "</table>\n",
       "<p>5 rows × 31 columns</p>\n",
       "</div>"
      ],
      "text/plain": [
       "                 0           1           2          3          4          5  \\\n",
       "HG00096 -76.811653  139.376114  119.586967 -28.628712 -24.626738  60.829365   \n",
       "HG00097 -89.260231  101.762726   55.298019 -76.634125   7.805068   0.197462   \n",
       "HG00099 -79.242455  115.796234   41.925098 -35.908398 -13.494594   7.187465   \n",
       "HG00100 -72.472282  128.679169   78.301216 -57.909233  -1.149531  12.349135   \n",
       "HG00171 -99.670921   84.896156   55.139874 -18.900536  -3.386601  12.346075   \n",
       "\n",
       "                 6          7          8          9  ... Other Comments  \\\n",
       "HG00096 -90.373367   5.823133  23.111525 -96.682053  ...              0   \n",
       "HG00097   9.402221 -18.025694   8.004932 -10.891384  ...              0   \n",
       "HG00099 -18.110716  21.577297   9.745396 -24.580605  ...              0   \n",
       "HG00100 -24.980774  30.135498  -4.605790  -9.036454  ...              0   \n",
       "HG00171  -7.904860  -5.027943 -11.046386   4.146145  ...              0   \n",
       "\n",
       "        phase 3 genotypes related genotypes  omni genotypes  affy_genotypes  \\\n",
       "HG00096                 1                 0               1               1   \n",
       "HG00097                 1                 0               1               1   \n",
       "HG00099                 1                 0               1               1   \n",
       "HG00100                 1                 0               1               1   \n",
       "HG00171                 1                 0               1               1   \n",
       "\n",
       "                  Population Description Continental Sequence Data Available  \\\n",
       "HG00096  British in England and Scotland         EUR                     1.0   \n",
       "HG00097  British in England and Scotland         EUR                     1.0   \n",
       "HG00099  British in England and Scotland         EUR                     1.0   \n",
       "HG00100  British in England and Scotland         EUR                     1.0   \n",
       "HG00171               Finnish in Finland         EUR                     1.0   \n",
       "\n",
       "        Alignment Data Available Variant Data Available  \n",
       "HG00096                      1.0                    1.0  \n",
       "HG00097                      1.0                    1.0  \n",
       "HG00099                      1.0                    1.0  \n",
       "HG00100                      1.0                    1.0  \n",
       "HG00171                      1.0                    1.0  \n",
       "\n",
       "[5 rows x 31 columns]"
      ]
     },
     "execution_count": 23,
     "metadata": {},
     "output_type": "execute_result"
    }
   ],
   "source": [
    "pca_samples.head()"
   ]
  },
  {
   "cell_type": "code",
   "execution_count": 24,
   "metadata": {},
   "outputs": [],
   "source": [
    "def plot_pca_coords(coords, model, pc1, pc2, ax, sample_population, pops, pop_colors):\n",
    "    sns.despine(ax=ax, offset=5)\n",
    "    x = coords[:, pc1]\n",
    "    y = coords[:, pc2]\n",
    "    for pop,color in zip(pops, pop_colors):\n",
    "        flt = (sample_population == pop)\n",
    "        ax.plot(x[flt], y[flt], marker='o', linestyle=' ', color=color, \n",
    "                label=pop, markersize=6, mec='k', mew=.5)\n",
    "\n",
    "#        ax.scatter(x[flt], y[flt]) #, s=50) color=color\n",
    "\n",
    "    ax.set_xlabel('PC%s (%.1f%%)' % (pc1+1, model.explained_variance_ratio_[pc1]*100))\n",
    "    ax.set_ylabel('PC%s (%.1f%%)' % (pc2+1, model.explained_variance_ratio_[pc2]*100))\n",
    "    \n",
    "\n",
    "def fig_pca_cont(ax1, ax2, coords, model, title, sample_population=None):\n",
    "    if sample_population is None:\n",
    "        sample_population = pca_samples.Continental.values\n",
    "    # plot coords for PCs 1 vs 2, 3 vs 4\n",
    "    plot_pca_coords(coords, model, 0, 1, ax1, sample_population, continents, cont_colours)\n",
    "    #plot_pca_coords(coords, model, 2, 3, ax2, sample_population, continents, cont_colours)\n",
    "    fig.suptitle(title)\n",
    "    fig.tight_layout()\n"
   ]
  },
  {
   "cell_type": "code",
   "execution_count": 25,
   "metadata": {
    "collapsed": false,
    "jupyter": {
     "outputs_hidden": false
    }
   },
   "outputs": [
    {
     "data": {
      "image/png": "[encoded data removed]",
      "text/plain": [
       "<Figure size 600x500 with 1 Axes>"
      ]
     },
     "metadata": {},
     "output_type": "display_data"
    }
   ],
   "source": [
    "fig = plt.figure(figsize=(6, 5))\n",
    "ax1 = fig.add_subplot(1, 1, 1)\n",
    "#ax2 = fig.add_subplot(1, 2, 2)\n",
    "ax2=None\n",
    "fig_pca_cont(ax1, ax2, coords1, model1, 'Figure 4. Continental PCA analysis of Chr22')\n",
    "\n",
    "ax1.plot(coords1[104,0], coords1[104,1], marker='*', linestyle=' ', color='0.8', label='NA', markersize=10, mec='k', mew=0.5)\n",
    "#ax2.plot(coords1[104,2], coords1[104,3], marker='*', linestyle=' ', color='0.8', label='NA', markersize=10, mec='k', mew=0.5)\n",
    "#ax1.invert_xaxis()\n",
    "#ax1.invert_yaxis()\n",
    "\n",
    "ax1.legend(bbox_to_anchor=(0.8,1), loc='upper left')\n",
    "fig.savefig(\"continental_plot.png\")"
   ]
  },
  {
   "cell_type": "code",
   "execution_count": 26,
   "metadata": {
    "collapsed": false,
    "jupyter": {
     "outputs_hidden": false
    }
   },
   "outputs": [],
   "source": [
    "def fig_pca_pop(ax1, ax2, coords, model, title, sample_population=None):\n",
    "    if sample_population is None:\n",
    "        sample_population = pca_samples.Population.values\n",
    "    # plot coords for PCs 1 vs 2, 3 vs 4\n",
    "    plot_pca_coords(coords, model, 0, 1, ax1, sample_population, populations, pop_colours)\n",
    "    #plot_pca_coords(coords, model, 2, 3, ax2, sample_population, populations, pop_colours)\n",
    "    fig.suptitle(title)\n",
    "    fig.tight_layout()\n",
    "    "
   ]
  },
  {
   "cell_type": "code",
   "execution_count": 27,
   "metadata": {
    "collapsed": false,
    "jupyter": {
     "outputs_hidden": false
    },
    "scrolled": true
   },
   "outputs": [
    {
     "data": {
      "image/png": "[encoded data removed]",
      "text/plain": [
       "<Figure size 600x500 with 1 Axes>"
      ]
     },
     "metadata": {},
     "output_type": "display_data"
    }
   ],
   "source": [
    "\n",
    "\n",
    "fig = plt.figure(figsize=(6, 5))\n",
    "ax1 = fig.add_subplot(1, 1, 1)\n",
    "ax2=None\n",
    "#ax2 = fig.add_subplot(1, 2, 2)\n",
    "\n",
    "fig_pca_pop(ax1, ax2, coords1, model1, 'Figure 5. population PCA  analysis of Chr22')\n",
    "\n",
    "ax1.plot(coords1[104,0], coords1[104,1], marker='*', linestyle=' ', color='0.8', label='NA', markersize=10, mec='k', mew=0.5)\n",
    "#ax2.plot(coords1[104,3], coords1[104,4], marker='*', linestyle=' ', color='0.8', label='NA', markersize=10, mec='k', mew=0.5)\n",
    "#ax1.invert_xaxis()\n",
    "#ax1.invert_yaxis()\n",
    "ax1.legend(bbox_to_anchor=(0.8,1), loc='upper left')\n",
    "\n",
    "fig.savefig(\"population_plot.png\")"
   ]
  },
  {
   "cell_type": "code",
   "execution_count": null,
   "metadata": {
    "collapsed": true,
    "jupyter": {
     "outputs_hidden": true
    }
   },
   "outputs": [],
   "source": []
  }
 ],
 "metadata": {
  "kernelspec": {
   "display_name": "Python 3 (ipykernel)",
   "language": "python",
   "name": "python3"
  },
  "language_info": {
   "codemirror_mode": {
    "name": "ipython",
    "version": 3
   },
   "file_extension": ".py",
   "mimetype": "text/x-python",
   "name": "python",
   "nbconvert_exporter": "python",
   "pygments_lexer": "ipython3",
   "version": "3.10.11"
  }
 },
 "nbformat": 4,
 "nbformat_minor": 4
}
