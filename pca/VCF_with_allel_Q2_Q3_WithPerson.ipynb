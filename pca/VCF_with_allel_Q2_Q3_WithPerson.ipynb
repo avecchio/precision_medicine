{
 "cells": [
  {
   "cell_type": "code",
   "execution_count": 1,
   "metadata": {
    "collapsed": false,
    "jupyter": {
     "outputs_hidden": false
    }
   },
   "outputs": [
    {
     "name": "stdout",
     "output_type": "stream",
     "text": [
      "1.3.6\n"
     ]
    }
   ],
   "source": [
    "# import scikit-allel\n",
    "import allel\n",
    "# check which version is installed\n",
    "print(allel.__version__)"
   ]
  },
  {
   "cell_type": "code",
   "execution_count": 2,
   "metadata": {
    "collapsed": false,
    "jupyter": {
     "outputs_hidden": false
    }
   },
   "outputs": [],
   "source": [
    "#callset = allel.read_vcf('sel4.chr22.phase3_shapegenotypes.vcf.gz.recode.vcf.gz')\n",
    "callset = allel.read_vcf('bcf_avatar_sample_merge.vcf')"
   ]
  },
  {
   "cell_type": "code",
   "execution_count": 3,
   "metadata": {
    "collapsed": false,
    "jupyter": {
     "outputs_hidden": false
    }
   },
   "outputs": [
    {
     "data": {
      "text/plain": [
       "['calldata/GT',\n",
       " 'samples',\n",
       " 'variants/ALT',\n",
       " 'variants/CHROM',\n",
       " 'variants/FILTER_PASS',\n",
       " 'variants/ID',\n",
       " 'variants/POS',\n",
       " 'variants/QUAL',\n",
       " 'variants/REF']"
      ]
     },
     "execution_count": 3,
     "metadata": {},
     "output_type": "execute_result"
    }
   ],
   "source": [
    "sorted(callset.keys())"
   ]
  },
  {
   "cell_type": "code",
   "execution_count": 4,
   "metadata": {
    "collapsed": false,
    "jupyter": {
     "outputs_hidden": false
    }
   },
   "outputs": [
    {
     "data": {
      "text/plain": [
       "array(['HG00096', 'HG00097', 'HG00099', 'HG00100', 'HG00171', 'HG00173',\n",
       "       'HG00174', 'HG00176', 'HG00403', 'HG00404', 'HG00406', 'HG00407',\n",
       "       'HG00551', 'HG00553', 'HG00554', 'HG00637', 'HG00759', 'HG00766',\n",
       "       'HG00844', 'HG00851', 'HG01112', 'HG01113', 'HG01119', 'HG01121',\n",
       "       'HG01500', 'HG01501', 'HG01503', 'HG01504', 'HG01565', 'HG01566',\n",
       "       'HG01571', 'HG01572', 'HG01583', 'HG01586', 'HG01589', 'HG01593',\n",
       "       'HG01595', 'HG01596', 'HG01597', 'HG01598', 'HG01879', 'HG01880',\n",
       "       'HG01882', 'HG01883', 'HG02461', 'HG02462', 'HG02464', 'HG02465',\n",
       "       'HG02922', 'HG02923', 'HG02938', 'HG02941', 'HG03006', 'HG03007',\n",
       "       'HG03009', 'HG03012', 'HG03052', 'HG03054', 'HG03055', 'HG03057',\n",
       "       'HG03642', 'HG03643', 'HG03644', 'HG03645', 'HG03713', 'HG03714',\n",
       "       'HG03716', 'HG03717', 'NA06984', 'NA06985', 'NA06986', 'NA06989',\n",
       "       'NA18486', 'NA18488', 'NA18489', 'NA18498', 'NA18525', 'NA18526',\n",
       "       'NA18528', 'NA18530', 'NA18939', 'NA18940', 'NA18941', 'NA18942',\n",
       "       'NA19017', 'NA19019', 'NA19020', 'NA19023', 'NA19625', 'NA19648',\n",
       "       'NA19649', 'NA19651', 'NA19652', 'NA19700', 'NA19701', 'NA19703',\n",
       "       'NA20502', 'NA20503', 'NA20504', 'NA20505', 'NA20845', 'NA20846',\n",
       "       'NA20847', 'NA20849', 'GENOTYPE'], dtype=object)"
      ]
     },
     "execution_count": 4,
     "metadata": {},
     "output_type": "execute_result"
    }
   ],
   "source": [
    "callset['samples']"
   ]
  },
  {
   "cell_type": "code",
   "execution_count": 5,
   "metadata": {
    "collapsed": false,
    "jupyter": {
     "outputs_hidden": false
    }
   },
   "outputs": [
    {
     "data": {
      "text/plain": [
       "array([16050075, 16050115, 16050213, ...,    16525,    16526,    16526],\n",
       "      dtype=int32)"
      ]
     },
     "execution_count": 5,
     "metadata": {},
     "output_type": "execute_result"
    }
   ],
   "source": [
    "callset['variants/POS']"
   ]
  },
  {
   "cell_type": "code",
   "execution_count": 6,
   "metadata": {
    "collapsed": false,
    "jupyter": {
     "outputs_hidden": false
    }
   },
   "outputs": [
    {
     "data": {
      "text/html": [
       "<div class=\"allel allel-DisplayAs2D\"><span>&lt;GenotypeArray shape=(1721677, 105, 2) dtype=int8&gt;</span><table><thead><tr><th></th><th style=\"text-align: center\">0</th><th style=\"text-align: center\">1</th><th style=\"text-align: center\">2</th><th style=\"text-align: center\">3</th><th style=\"text-align: center\">4</th><th style=\"text-align: center\">...</th><th style=\"text-align: center\">100</th><th style=\"text-align: center\">101</th><th style=\"text-align: center\">102</th><th style=\"text-align: center\">103</th><th style=\"text-align: center\">104</th></tr></thead><tbody><tr><th style=\"text-align: center; background-color: white; border-right: 1px solid black; \">0</th><td style=\"text-align: center\">0/0</td><td style=\"text-align: center\">0/0</td><td style=\"text-align: center\">0/0</td><td style=\"text-align: center\">0/0</td><td style=\"text-align: center\">0/0</td><td style=\"text-align: center\">...</td><td style=\"text-align: center\">0/0</td><td style=\"text-align: center\">0/0</td><td style=\"text-align: center\">0/0</td><td style=\"text-align: center\">0/0</td><td style=\"text-align: center\">./.</td></tr><tr><th style=\"text-align: center; background-color: white; border-right: 1px solid black; \">1</th><td style=\"text-align: center\">0/0</td><td style=\"text-align: center\">0/0</td><td style=\"text-align: center\">0/0</td><td style=\"text-align: center\">0/0</td><td style=\"text-align: center\">0/0</td><td style=\"text-align: center\">...</td><td style=\"text-align: center\">0/0</td><td style=\"text-align: center\">0/0</td><td style=\"text-align: center\">0/0</td><td style=\"text-align: center\">0/0</td><td style=\"text-align: center\">./.</td></tr><tr><th style=\"text-align: center; background-color: white; border-right: 1px solid black; \">2</th><td style=\"text-align: center\">0/0</td><td style=\"text-align: center\">0/0</td><td style=\"text-align: center\">0/0</td><td style=\"text-align: center\">0/0</td><td style=\"text-align: center\">0/0</td><td style=\"text-align: center\">...</td><td style=\"text-align: center\">0/0</td><td style=\"text-align: center\">0/0</td><td style=\"text-align: center\">0/0</td><td style=\"text-align: center\">0/0</td><td style=\"text-align: center\">./.</td></tr><tr><th style=\"text-align: center; background-color: white; border-right: 1px solid black; \">...</th><td style=\"text-align: center\" colspan=\"12\">...</td></tr><tr><th style=\"text-align: center; background-color: white; border-right: 1px solid black; \">1721674</th><td style=\"text-align: center\">./.</td><td style=\"text-align: center\">./.</td><td style=\"text-align: center\">./.</td><td style=\"text-align: center\">./.</td><td style=\"text-align: center\">./.</td><td style=\"text-align: center\">...</td><td style=\"text-align: center\">./.</td><td style=\"text-align: center\">./.</td><td style=\"text-align: center\">./.</td><td style=\"text-align: center\">./.</td><td style=\"text-align: center\">0/.</td></tr><tr><th style=\"text-align: center; background-color: white; border-right: 1px solid black; \">1721675</th><td style=\"text-align: center\">./.</td><td style=\"text-align: center\">./.</td><td style=\"text-align: center\">./.</td><td style=\"text-align: center\">./.</td><td style=\"text-align: center\">./.</td><td style=\"text-align: center\">...</td><td style=\"text-align: center\">./.</td><td style=\"text-align: center\">./.</td><td style=\"text-align: center\">./.</td><td style=\"text-align: center\">./.</td><td style=\"text-align: center\">0/.</td></tr><tr><th style=\"text-align: center; background-color: white; border-right: 1px solid black; \">1721676</th><td style=\"text-align: center\">./.</td><td style=\"text-align: center\">./.</td><td style=\"text-align: center\">./.</td><td style=\"text-align: center\">./.</td><td style=\"text-align: center\">./.</td><td style=\"text-align: center\">...</td><td style=\"text-align: center\">./.</td><td style=\"text-align: center\">./.</td><td style=\"text-align: center\">./.</td><td style=\"text-align: center\">./.</td><td style=\"text-align: center\">0/.</td></tr></tbody></table></div>"
      ],
      "text/plain": [
       "<GenotypeArray shape=(1721677, 105, 2) dtype=int8>\n",
       "0/0 0/0 0/0 0/0 0/0 ... 0/0 0/0 0/0 0/0 ./.\n",
       "0/0 0/0 0/0 0/0 0/0 ... 0/0 0/0 0/0 0/0 ./.\n",
       "0/0 0/0 0/0 0/0 0/0 ... 0/0 0/0 0/0 0/0 ./.\n",
       "...\n",
       "./. ./. ./. ./. ./. ... ./. ./. ./. ./. 0/.\n",
       "./. ./. ./. ./. ./. ... ./. ./. ./. ./. 0/.\n",
       "./. ./. ./. ./. ./. ... ./. ./. ./. ./. 0/."
      ]
     },
     "execution_count": 6,
     "metadata": {},
     "output_type": "execute_result"
    }
   ],
   "source": [
    "gt = allel.GenotypeArray(callset['calldata/GT'])\n",
    "gt"
   ]
  },
  {
   "cell_type": "code",
   "execution_count": 7,
   "metadata": {
    "collapsed": false,
    "jupyter": {
     "outputs_hidden": false
    }
   },
   "outputs": [
    {
     "data": {
      "text/html": [
       "<div class=\"allel allel-DisplayAs2D\"><span>&lt;AlleleCountsArray shape=(1721677, 9) dtype=int32&gt;</span><table><thead><tr><th></th><th style=\"text-align: center\">0</th><th style=\"text-align: center\">1</th><th style=\"text-align: center\">2</th><th style=\"text-align: center\">3</th><th style=\"text-align: center\">4</th><th style=\"text-align: center\">5</th><th style=\"text-align: center\">6</th><th style=\"text-align: center\">7</th><th style=\"text-align: center\">8</th></tr></thead><tbody><tr><th style=\"text-align: center; background-color: white; border-right: 1px solid black; \">0</th><td style=\"text-align: center\">208</td><td style=\"text-align: center\">  0</td><td style=\"text-align: center\">  0</td><td style=\"text-align: center\">  0</td><td style=\"text-align: center\">  0</td><td style=\"text-align: center\">  0</td><td style=\"text-align: center\">  0</td><td style=\"text-align: center\">  0</td><td style=\"text-align: center\">  0</td></tr><tr><th style=\"text-align: center; background-color: white; border-right: 1px solid black; \">1</th><td style=\"text-align: center\">207</td><td style=\"text-align: center\">  1</td><td style=\"text-align: center\">  0</td><td style=\"text-align: center\">  0</td><td style=\"text-align: center\">  0</td><td style=\"text-align: center\">  0</td><td style=\"text-align: center\">  0</td><td style=\"text-align: center\">  0</td><td style=\"text-align: center\">  0</td></tr><tr><th style=\"text-align: center; background-color: white; border-right: 1px solid black; \">2</th><td style=\"text-align: center\">207</td><td style=\"text-align: center\">  1</td><td style=\"text-align: center\">  0</td><td style=\"text-align: center\">  0</td><td style=\"text-align: center\">  0</td><td style=\"text-align: center\">  0</td><td style=\"text-align: center\">  0</td><td style=\"text-align: center\">  0</td><td style=\"text-align: center\">  0</td></tr><tr><th style=\"text-align: center; background-color: white; border-right: 1px solid black; \">...</th><td style=\"text-align: center\" colspan=\"10\">...</td></tr><tr><th style=\"text-align: center; background-color: white; border-right: 1px solid black; \">1721674</th><td style=\"text-align: center\">1</td><td style=\"text-align: center\">0</td><td style=\"text-align: center\">0</td><td style=\"text-align: center\">0</td><td style=\"text-align: center\">0</td><td style=\"text-align: center\">0</td><td style=\"text-align: center\">0</td><td style=\"text-align: center\">0</td><td style=\"text-align: center\">0</td></tr><tr><th style=\"text-align: center; background-color: white; border-right: 1px solid black; \">1721675</th><td style=\"text-align: center\">1</td><td style=\"text-align: center\">0</td><td style=\"text-align: center\">0</td><td style=\"text-align: center\">0</td><td style=\"text-align: center\">0</td><td style=\"text-align: center\">0</td><td style=\"text-align: center\">0</td><td style=\"text-align: center\">0</td><td style=\"text-align: center\">0</td></tr><tr><th style=\"text-align: center; background-color: white; border-right: 1px solid black; \">1721676</th><td style=\"text-align: center\">1</td><td style=\"text-align: center\">0</td><td style=\"text-align: center\">0</td><td style=\"text-align: center\">0</td><td style=\"text-align: center\">0</td><td style=\"text-align: center\">0</td><td style=\"text-align: center\">0</td><td style=\"text-align: center\">0</td><td style=\"text-align: center\">0</td></tr></tbody></table></div>"
      ],
      "text/plain": [
       "<AlleleCountsArray shape=(1721677, 9) dtype=int32>\n",
       "208   0   0   0   0   0   0   0   0\n",
       "207   1   0   0   0   0   0   0   0\n",
       "207   1   0   0   0   0   0   0   0\n",
       "...\n",
       "1 0 0 0 0 0 0 0 0\n",
       "1 0 0 0 0 0 0 0 0\n",
       "1 0 0 0 0 0 0 0 0"
      ]
     },
     "execution_count": 7,
     "metadata": {},
     "output_type": "execute_result"
    }
   ],
   "source": [
    "ac = gt.count_alleles()\n",
    "ac"
   ]
  },
  {
   "cell_type": "code",
   "execution_count": 8,
   "metadata": {
    "collapsed": false,
    "jupyter": {
     "outputs_hidden": false
    }
   },
   "outputs": [
    {
     "name": "stdout",
     "output_type": "stream",
     "text": [
      "scikit-allel 1.3.6\n"
     ]
    }
   ],
   "source": [
    "import random\n",
    "random.seed(42)\n",
    "import time\n",
    "import numpy as np\n",
    "np.random.seed(42)\n",
    "import h5py\n",
    "import matplotlib.pyplot as plt\n",
    "%matplotlib inline\n",
    "import seaborn as sns\n",
    "sns.set_style('white')\n",
    "sns.set_style('ticks')\n",
    "#import bcolz => package not necessary and could not be installed\n",
    "import pandas\n",
    "import allel; print('scikit-allel', allel.__version__)\n",
    "# %reload_ext memory_profiler"
   ]
  },
  {
   "cell_type": "code",
   "execution_count": 9,
   "metadata": {
    "collapsed": false,
    "jupyter": {
     "outputs_hidden": false
    }
   },
   "outputs": [
    {
     "data": {
      "text/html": [
       "<div class=\"allel allel-DisplayAs2D\"><span>&lt;GenotypeArray shape=(1721677, 105, 2) dtype=int8&gt;</span><table><thead><tr><th></th><th style=\"text-align: center\">0</th><th style=\"text-align: center\">1</th><th style=\"text-align: center\">2</th><th style=\"text-align: center\">3</th><th style=\"text-align: center\">4</th><th style=\"text-align: center\">...</th><th style=\"text-align: center\">100</th><th style=\"text-align: center\">101</th><th style=\"text-align: center\">102</th><th style=\"text-align: center\">103</th><th style=\"text-align: center\">104</th></tr></thead><tbody><tr><th style=\"text-align: center; background-color: white; border-right: 1px solid black; \">0</th><td style=\"text-align: center\">0/0</td><td style=\"text-align: center\">0/0</td><td style=\"text-align: center\">0/0</td><td style=\"text-align: center\">0/0</td><td style=\"text-align: center\">0/0</td><td style=\"text-align: center\">...</td><td style=\"text-align: center\">0/0</td><td style=\"text-align: center\">0/0</td><td style=\"text-align: center\">0/0</td><td style=\"text-align: center\">0/0</td><td style=\"text-align: center\">./.</td></tr><tr><th style=\"text-align: center; background-color: white; border-right: 1px solid black; \">1</th><td style=\"text-align: center\">0/0</td><td style=\"text-align: center\">0/0</td><td style=\"text-align: center\">0/0</td><td style=\"text-align: center\">0/0</td><td style=\"text-align: center\">0/0</td><td style=\"text-align: center\">...</td><td style=\"text-align: center\">0/0</td><td style=\"text-align: center\">0/0</td><td style=\"text-align: center\">0/0</td><td style=\"text-align: center\">0/0</td><td style=\"text-align: center\">./.</td></tr><tr><th style=\"text-align: center; background-color: white; border-right: 1px solid black; \">2</th><td style=\"text-align: center\">0/0</td><td style=\"text-align: center\">0/0</td><td style=\"text-align: center\">0/0</td><td style=\"text-align: center\">0/0</td><td style=\"text-align: center\">0/0</td><td style=\"text-align: center\">...</td><td style=\"text-align: center\">0/0</td><td style=\"text-align: center\">0/0</td><td style=\"text-align: center\">0/0</td><td style=\"text-align: center\">0/0</td><td style=\"text-align: center\">./.</td></tr><tr><th style=\"text-align: center; background-color: white; border-right: 1px solid black; \">...</th><td style=\"text-align: center\" colspan=\"12\">...</td></tr><tr><th style=\"text-align: center; background-color: white; border-right: 1px solid black; \">1721674</th><td style=\"text-align: center\">./.</td><td style=\"text-align: center\">./.</td><td style=\"text-align: center\">./.</td><td style=\"text-align: center\">./.</td><td style=\"text-align: center\">./.</td><td style=\"text-align: center\">...</td><td style=\"text-align: center\">./.</td><td style=\"text-align: center\">./.</td><td style=\"text-align: center\">./.</td><td style=\"text-align: center\">./.</td><td style=\"text-align: center\">0/.</td></tr><tr><th style=\"text-align: center; background-color: white; border-right: 1px solid black; \">1721675</th><td style=\"text-align: center\">./.</td><td style=\"text-align: center\">./.</td><td style=\"text-align: center\">./.</td><td style=\"text-align: center\">./.</td><td style=\"text-align: center\">./.</td><td style=\"text-align: center\">...</td><td style=\"text-align: center\">./.</td><td style=\"text-align: center\">./.</td><td style=\"text-align: center\">./.</td><td style=\"text-align: center\">./.</td><td style=\"text-align: center\">0/.</td></tr><tr><th style=\"text-align: center; background-color: white; border-right: 1px solid black; \">1721676</th><td style=\"text-align: center\">./.</td><td style=\"text-align: center\">./.</td><td style=\"text-align: center\">./.</td><td style=\"text-align: center\">./.</td><td style=\"text-align: center\">./.</td><td style=\"text-align: center\">...</td><td style=\"text-align: center\">./.</td><td style=\"text-align: center\">./.</td><td style=\"text-align: center\">./.</td><td style=\"text-align: center\">./.</td><td style=\"text-align: center\">0/.</td></tr></tbody></table></div>"
      ],
      "text/plain": [
       "<GenotypeArray shape=(1721677, 105, 2) dtype=int8>\n",
       "0/0 0/0 0/0 0/0 0/0 ... 0/0 0/0 0/0 0/0 ./.\n",
       "0/0 0/0 0/0 0/0 0/0 ... 0/0 0/0 0/0 0/0 ./.\n",
       "0/0 0/0 0/0 0/0 0/0 ... 0/0 0/0 0/0 0/0 ./.\n",
       "...\n",
       "./. ./. ./. ./. ./. ... ./. ./. ./. ./. 0/.\n",
       "./. ./. ./. ./. ./. ... ./. ./. ./. ./. 0/.\n",
       "./. ./. ./. ./. ./. ... ./. ./. ./. ./. 0/."
      ]
     },
     "execution_count": 9,
     "metadata": {},
     "output_type": "execute_result"
    }
   ],
   "source": [
    "gt"
   ]
  },
  {
   "cell_type": "code",
   "execution_count": 10,
   "metadata": {},
   "outputs": [],
   "source": [
    "ac = gt.count_alleles()[:]"
   ]
  },
  {
   "cell_type": "code",
   "execution_count": 11,
   "metadata": {
    "collapsed": false,
    "jupyter": {
     "outputs_hidden": false
    }
   },
   "outputs": [
    {
     "data": {
      "text/html": [
       "<div class=\"allel allel-DisplayAs2D\"><span>&lt;AlleleCountsArray shape=(1721677, 9) dtype=int32&gt;</span><table><thead><tr><th></th><th style=\"text-align: center\">0</th><th style=\"text-align: center\">1</th><th style=\"text-align: center\">2</th><th style=\"text-align: center\">3</th><th style=\"text-align: center\">4</th><th style=\"text-align: center\">5</th><th style=\"text-align: center\">6</th><th style=\"text-align: center\">7</th><th style=\"text-align: center\">8</th></tr></thead><tbody><tr><th style=\"text-align: center; background-color: white; border-right: 1px solid black; \">0</th><td style=\"text-align: center\">208</td><td style=\"text-align: center\">  0</td><td style=\"text-align: center\">  0</td><td style=\"text-align: center\">  0</td><td style=\"text-align: center\">  0</td><td style=\"text-align: center\">  0</td><td style=\"text-align: center\">  0</td><td style=\"text-align: center\">  0</td><td style=\"text-align: center\">  0</td></tr><tr><th style=\"text-align: center; background-color: white; border-right: 1px solid black; \">1</th><td style=\"text-align: center\">207</td><td style=\"text-align: center\">  1</td><td style=\"text-align: center\">  0</td><td style=\"text-align: center\">  0</td><td style=\"text-align: center\">  0</td><td style=\"text-align: center\">  0</td><td style=\"text-align: center\">  0</td><td style=\"text-align: center\">  0</td><td style=\"text-align: center\">  0</td></tr><tr><th style=\"text-align: center; background-color: white; border-right: 1px solid black; \">2</th><td style=\"text-align: center\">207</td><td style=\"text-align: center\">  1</td><td style=\"text-align: center\">  0</td><td style=\"text-align: center\">  0</td><td style=\"text-align: center\">  0</td><td style=\"text-align: center\">  0</td><td style=\"text-align: center\">  0</td><td style=\"text-align: center\">  0</td><td style=\"text-align: center\">  0</td></tr><tr><th style=\"text-align: center; background-color: white; border-right: 1px solid black; \">...</th><td style=\"text-align: center\" colspan=\"10\">...</td></tr><tr><th style=\"text-align: center; background-color: white; border-right: 1px solid black; \">1721674</th><td style=\"text-align: center\">1</td><td style=\"text-align: center\">0</td><td style=\"text-align: center\">0</td><td style=\"text-align: center\">0</td><td style=\"text-align: center\">0</td><td style=\"text-align: center\">0</td><td style=\"text-align: center\">0</td><td style=\"text-align: center\">0</td><td style=\"text-align: center\">0</td></tr><tr><th style=\"text-align: center; background-color: white; border-right: 1px solid black; \">1721675</th><td style=\"text-align: center\">1</td><td style=\"text-align: center\">0</td><td style=\"text-align: center\">0</td><td style=\"text-align: center\">0</td><td style=\"text-align: center\">0</td><td style=\"text-align: center\">0</td><td style=\"text-align: center\">0</td><td style=\"text-align: center\">0</td><td style=\"text-align: center\">0</td></tr><tr><th style=\"text-align: center; background-color: white; border-right: 1px solid black; \">1721676</th><td style=\"text-align: center\">1</td><td style=\"text-align: center\">0</td><td style=\"text-align: center\">0</td><td style=\"text-align: center\">0</td><td style=\"text-align: center\">0</td><td style=\"text-align: center\">0</td><td style=\"text-align: center\">0</td><td style=\"text-align: center\">0</td><td style=\"text-align: center\">0</td></tr></tbody></table></div>"
      ],
      "text/plain": [
       "<AlleleCountsArray shape=(1721677, 9) dtype=int32>\n",
       "208   0   0   0   0   0   0   0   0\n",
       "207   1   0   0   0   0   0   0   0\n",
       "207   1   0   0   0   0   0   0   0\n",
       "...\n",
       "1 0 0 0 0 0 0 0 0\n",
       "1 0 0 0 0 0 0 0 0\n",
       "1 0 0 0 0 0 0 0 0"
      ]
     },
     "execution_count": 11,
     "metadata": {},
     "output_type": "execute_result"
    }
   ],
   "source": [
    "ac"
   ]
  },
  {
   "cell_type": "code",
   "execution_count": 12,
   "metadata": {
    "collapsed": false,
    "jupyter": {
     "outputs_hidden": false
    }
   },
   "outputs": [
    {
     "data": {
      "text/html": [
       "<div class=\"allel allel-DisplayAs2D\"><span>&lt;GenotypeArray shape=(138928, 105, 2) dtype=int8&gt;</span><table><thead><tr><th></th><th style=\"text-align: center\">0</th><th style=\"text-align: center\">1</th><th style=\"text-align: center\">2</th><th style=\"text-align: center\">3</th><th style=\"text-align: center\">4</th><th style=\"text-align: center\">...</th><th style=\"text-align: center\">100</th><th style=\"text-align: center\">101</th><th style=\"text-align: center\">102</th><th style=\"text-align: center\">103</th><th style=\"text-align: center\">104</th></tr></thead><tbody><tr><th style=\"text-align: center; background-color: white; border-right: 1px solid black; \">0</th><td style=\"text-align: center\">0/0</td><td style=\"text-align: center\">0/0</td><td style=\"text-align: center\">0/0</td><td style=\"text-align: center\">0/0</td><td style=\"text-align: center\">0/0</td><td style=\"text-align: center\">...</td><td style=\"text-align: center\">0/0</td><td style=\"text-align: center\">0/0</td><td style=\"text-align: center\">0/0</td><td style=\"text-align: center\">0/0</td><td style=\"text-align: center\">./.</td></tr><tr><th style=\"text-align: center; background-color: white; border-right: 1px solid black; \">1</th><td style=\"text-align: center\">0/0</td><td style=\"text-align: center\">1/0</td><td style=\"text-align: center\">1/0</td><td style=\"text-align: center\">0/0</td><td style=\"text-align: center\">0/0</td><td style=\"text-align: center\">...</td><td style=\"text-align: center\">0/1</td><td style=\"text-align: center\">0/0</td><td style=\"text-align: center\">0/0</td><td style=\"text-align: center\">0/0</td><td style=\"text-align: center\">./.</td></tr><tr><th style=\"text-align: center; background-color: white; border-right: 1px solid black; \">2</th><td style=\"text-align: center\">0/1</td><td style=\"text-align: center\">0/0</td><td style=\"text-align: center\">0/0</td><td style=\"text-align: center\">0/0</td><td style=\"text-align: center\">1/0</td><td style=\"text-align: center\">...</td><td style=\"text-align: center\">0/0</td><td style=\"text-align: center\">0/0</td><td style=\"text-align: center\">0/0</td><td style=\"text-align: center\">0/0</td><td style=\"text-align: center\">./.</td></tr><tr><th style=\"text-align: center; background-color: white; border-right: 1px solid black; \">...</th><td style=\"text-align: center\" colspan=\"12\">...</td></tr><tr><th style=\"text-align: center; background-color: white; border-right: 1px solid black; \">138925</th><td style=\"text-align: center\">0/0</td><td style=\"text-align: center\">0/0</td><td style=\"text-align: center\">0/0</td><td style=\"text-align: center\">0/0</td><td style=\"text-align: center\">0/0</td><td style=\"text-align: center\">...</td><td style=\"text-align: center\">0/0</td><td style=\"text-align: center\">0/0</td><td style=\"text-align: center\">0/0</td><td style=\"text-align: center\">0/0</td><td style=\"text-align: center\">./.</td></tr><tr><th style=\"text-align: center; background-color: white; border-right: 1px solid black; \">138926</th><td style=\"text-align: center\">0/0</td><td style=\"text-align: center\">0/0</td><td style=\"text-align: center\">0/0</td><td style=\"text-align: center\">0/0</td><td style=\"text-align: center\">0/0</td><td style=\"text-align: center\">...</td><td style=\"text-align: center\">0/0</td><td style=\"text-align: center\">0/0</td><td style=\"text-align: center\">0/0</td><td style=\"text-align: center\">0/0</td><td style=\"text-align: center\">./.</td></tr><tr><th style=\"text-align: center; background-color: white; border-right: 1px solid black; \">138927</th><td style=\"text-align: center\">0/0</td><td style=\"text-align: center\">0/0</td><td style=\"text-align: center\">0/0</td><td style=\"text-align: center\">0/0</td><td style=\"text-align: center\">0/0</td><td style=\"text-align: center\">...</td><td style=\"text-align: center\">0/0</td><td style=\"text-align: center\">0/0</td><td style=\"text-align: center\">0/0</td><td style=\"text-align: center\">0/0</td><td style=\"text-align: center\">./.</td></tr></tbody></table></div>"
      ],
      "text/plain": [
       "<GenotypeArray shape=(138928, 105, 2) dtype=int8>\n",
       "0/0 0/0 0/0 0/0 0/0 ... 0/0 0/0 0/0 0/0 ./.\n",
       "0/0 1/0 1/0 0/0 0/0 ... 0/1 0/0 0/0 0/0 ./.\n",
       "0/1 0/0 0/0 0/0 1/0 ... 0/0 0/0 0/0 0/0 ./.\n",
       "...\n",
       "0/0 0/0 0/0 0/0 0/0 ... 0/0 0/0 0/0 0/0 ./.\n",
       "0/0 0/0 0/0 0/0 0/0 ... 0/0 0/0 0/0 0/0 ./.\n",
       "0/0 0/0 0/0 0/0 0/0 ... 0/0 0/0 0/0 0/0 ./."
      ]
     },
     "execution_count": 12,
     "metadata": {},
     "output_type": "execute_result"
    }
   ],
   "source": [
    "#flt = (ac.max_allele() == 1) & (ac[:, :2].min(axis=1) > 1) # This is remove singleton\n",
    "flt = (ac.max_allele() == 1) & (ac[:, :2].min(axis=1) > 5) # This is for more strict MAF cutoff\n",
    "\n",
    "\n",
    "gf = gt.compress(flt, axis=0)\n",
    "gf"
   ]
  },
  {
   "cell_type": "code",
   "execution_count": 13,
   "metadata": {
    "collapsed": false,
    "jupyter": {
     "outputs_hidden": false
    }
   },
   "outputs": [
    {
     "data": {
      "text/plain": [
       "array([[0, 0, 0, ..., 0, 0, 0],\n",
       "       [0, 1, 1, ..., 0, 0, 0],\n",
       "       [1, 0, 0, ..., 0, 0, 0],\n",
       "       ...,\n",
       "       [0, 0, 0, ..., 0, 0, 0],\n",
       "       [0, 0, 0, ..., 0, 0, 0],\n",
       "       [0, 0, 0, ..., 0, 0, 0]], dtype=int8)"
      ]
     },
     "execution_count": 13,
     "metadata": {},
     "output_type": "execute_result"
    }
   ],
   "source": [
    "gn = gf.to_n_alt()\n",
    "gn"
   ]
  },
  {
   "cell_type": "code",
   "execution_count": 14,
   "metadata": {
    "collapsed": false,
    "jupyter": {
     "outputs_hidden": false
    }
   },
   "outputs": [
    {
     "data": {
      "text/plain": [
       "array([[0, 0, 0, ..., 0, 0, 0],\n",
       "       [0, 1, 1, ..., 0, 0, 0],\n",
       "       [1, 0, 0, ..., 0, 0, 0],\n",
       "       ...,\n",
       "       [0, 0, 0, ..., 0, 0, 0],\n",
       "       [0, 0, 0, ..., 0, 0, 0],\n",
       "       [0, 0, 0, ..., 0, 0, 0]], dtype=int8)"
      ]
     },
     "execution_count": 14,
     "metadata": {},
     "output_type": "execute_result"
    }
   ],
   "source": [
    "n = 100000  # number of SNPs to choose randomly\n",
    "#n = 10000\n",
    "#n = 1000\n",
    "vidx = np.random.choice(gn.shape[0], n, replace=False)\n",
    "vidx.sort()\n",
    "gnr = gn.take(vidx, axis=0)\n",
    "gnr"
   ]
  },
  {
   "cell_type": "code",
   "execution_count": 15,
   "metadata": {},
   "outputs": [
    {
     "name": "stdout",
     "output_type": "stream",
     "text": [
      "[0.10273416 0.04067545 0.01856972 0.0162084  0.01541674 0.01480289\n",
      " 0.01422068 0.01390978 0.01375086 0.01337339]\n",
      "[0.10273416 0.04067545 0.01856972 0.0162084  0.01541674 0.01480289]\n",
      "[0.10273416 0.04067545 0.01856972 0.0162084 ]\n",
      "[0.10117988 0.04961295 0.02122195 0.01867496 0.01750199 0.01406097\n",
      " 0.01367887 0.01309347 0.01259372 0.01217345]\n"
     ]
    }
   ],
   "source": [
    "coords1, model1 = allel.pca(gnr, n_components=10, scaler='patterson')\n",
    "coords2, model2 = allel.pca(gnr, n_components=6, scaler='patterson')\n",
    "coords3, model3 = allel.pca(gnr, n_components=4, scaler='patterson')\n",
    "coords4, model4 = allel.pca(gnr, n_components=10, scaler=None)\n",
    "\n",
    "print(model1.explained_variance_ratio_)\n",
    "print(model2.explained_variance_ratio_)\n",
    "print(model3.explained_variance_ratio_)\n",
    "print(model4.explained_variance_ratio_)\n"
   ]
  },
  {
   "cell_type": "code",
   "execution_count": 16,
   "metadata": {},
   "outputs": [
    {
     "name": "stdout",
     "output_type": "stream",
     "text": [
      "=============\n",
      "[-0.00372887  0.00299209  0.00211461 ... -0.00222984 -0.00310641\n",
      " -0.00396582]\n",
      "100000\n"
     ]
    }
   ],
   "source": [
    "print('=============')\n",
    "print(model1.components_[0])\n",
    "print(len(model1.components_[0]))"
   ]
  },
  {
   "cell_type": "code",
   "execution_count": 17,
   "metadata": {
    "collapsed": false,
    "jupyter": {
     "outputs_hidden": false
    }
   },
   "outputs": [
    {
     "data": {
      "text/html": [
       "<div>\n",
       "<style scoped>\n",
       "    .dataframe tbody tr th:only-of-type {\n",
       "        vertical-align: middle;\n",
       "    }\n",
       "\n",
       "    .dataframe tbody tr th {\n",
       "        vertical-align: top;\n",
       "    }\n",
       "\n",
       "    .dataframe thead th {\n",
       "        text-align: right;\n",
       "    }\n",
       "</style>\n",
       "<table border=\"1\" class=\"dataframe\">\n",
       "  <thead>\n",
       "    <tr style=\"text-align: right;\">\n",
       "      <th></th>\n",
       "      <th>Population Description</th>\n",
       "      <th>Continental</th>\n",
       "      <th>Sequence Data Available</th>\n",
       "      <th>Alignment Data Available</th>\n",
       "      <th>Variant Data Available</th>\n",
       "    </tr>\n",
       "    <tr>\n",
       "      <th>Population</th>\n",
       "      <th></th>\n",
       "      <th></th>\n",
       "      <th></th>\n",
       "      <th></th>\n",
       "      <th></th>\n",
       "    </tr>\n",
       "  </thead>\n",
       "  <tbody>\n",
       "    <tr>\n",
       "      <th>CHB</th>\n",
       "      <td>Han Chinese in Beijing, China</td>\n",
       "      <td>EAS</td>\n",
       "      <td>1</td>\n",
       "      <td>1</td>\n",
       "      <td>1</td>\n",
       "    </tr>\n",
       "    <tr>\n",
       "      <th>JPT</th>\n",
       "      <td>Japanese in Tokyo, Japan</td>\n",
       "      <td>EAS</td>\n",
       "      <td>1</td>\n",
       "      <td>1</td>\n",
       "      <td>1</td>\n",
       "    </tr>\n",
       "    <tr>\n",
       "      <th>CHS</th>\n",
       "      <td>Southern Han Chinese</td>\n",
       "      <td>EAS</td>\n",
       "      <td>1</td>\n",
       "      <td>1</td>\n",
       "      <td>1</td>\n",
       "    </tr>\n",
       "    <tr>\n",
       "      <th>CDX</th>\n",
       "      <td>Chinese Dai in Xishuangbanna, China</td>\n",
       "      <td>EAS</td>\n",
       "      <td>1</td>\n",
       "      <td>1</td>\n",
       "      <td>1</td>\n",
       "    </tr>\n",
       "    <tr>\n",
       "      <th>KHV</th>\n",
       "      <td>Kinh in Ho Chi Minh City, Vietnam</td>\n",
       "      <td>EAS</td>\n",
       "      <td>1</td>\n",
       "      <td>1</td>\n",
       "      <td>1</td>\n",
       "    </tr>\n",
       "  </tbody>\n",
       "</table>\n",
       "</div>"
      ],
      "text/plain": [
       "                         Population Description Continental  \\\n",
       "Population                                                    \n",
       "CHB               Han Chinese in Beijing, China         EAS   \n",
       "JPT                    Japanese in Tokyo, Japan         EAS   \n",
       "CHS                        Southern Han Chinese         EAS   \n",
       "CDX         Chinese Dai in Xishuangbanna, China         EAS   \n",
       "KHV           Kinh in Ho Chi Minh City, Vietnam         EAS   \n",
       "\n",
       "            Sequence Data Available  Alignment Data Available  \\\n",
       "Population                                                      \n",
       "CHB                               1                         1   \n",
       "JPT                               1                         1   \n",
       "CHS                               1                         1   \n",
       "CDX                               1                         1   \n",
       "KHV                               1                         1   \n",
       "\n",
       "            Variant Data Available  \n",
       "Population                          \n",
       "CHB                              1  \n",
       "JPT                              1  \n",
       "CHS                              1  \n",
       "CDX                              1  \n",
       "KHV                              1  "
      ]
     },
     "execution_count": 17,
     "metadata": {},
     "output_type": "execute_result"
    }
   ],
   "source": [
    "# cont labels\n",
    "df_cont = pandas.read_csv('continental.txt', delimiter='\\t', index_col='Population')\n",
    "df_cont.head()"
   ]
  },
  {
   "cell_type": "code",
   "execution_count": null,
   "metadata": {},
   "outputs": [],
   "source": []
  },
  {
   "cell_type": "code",
   "execution_count": 18,
   "metadata": {
    "collapsed": false,
    "jupyter": {
     "outputs_hidden": false
    }
   },
   "outputs": [],
   "source": [
    "# pop labels\n",
    "df_samples = pandas.read_csv('integrated_call_samples_v2.20130502.ALL.ped.txt', delimiter='\\t', index_col='Individual ID')\n",
    "df_samples = df_samples.join(df_cont, on='Population')\n",
    "# df_samples.tail(10)"
   ]
  },
  {
   "cell_type": "code",
   "execution_count": 19,
   "metadata": {
    "collapsed": false,
    "jupyter": {
     "outputs_hidden": false
    }
   },
   "outputs": [
    {
     "data": {
      "text/html": [
       "<div>\n",
       "<style scoped>\n",
       "    .dataframe tbody tr th:only-of-type {\n",
       "        vertical-align: middle;\n",
       "    }\n",
       "\n",
       "    .dataframe tbody tr th {\n",
       "        vertical-align: top;\n",
       "    }\n",
       "\n",
       "    .dataframe thead th {\n",
       "        text-align: right;\n",
       "    }\n",
       "</style>\n",
       "<table border=\"1\" class=\"dataframe\">\n",
       "  <thead>\n",
       "    <tr style=\"text-align: right;\">\n",
       "      <th></th>\n",
       "      <th>0</th>\n",
       "      <th>1</th>\n",
       "      <th>2</th>\n",
       "      <th>3</th>\n",
       "      <th>4</th>\n",
       "      <th>5</th>\n",
       "      <th>6</th>\n",
       "      <th>7</th>\n",
       "      <th>8</th>\n",
       "      <th>9</th>\n",
       "    </tr>\n",
       "  </thead>\n",
       "  <tbody>\n",
       "    <tr>\n",
       "      <th>HG00096</th>\n",
       "      <td>76.497116</td>\n",
       "      <td>-138.998520</td>\n",
       "      <td>-117.280594</td>\n",
       "      <td>36.365726</td>\n",
       "      <td>-48.789799</td>\n",
       "      <td>15.002202</td>\n",
       "      <td>-58.920826</td>\n",
       "      <td>85.298027</td>\n",
       "      <td>-25.198069</td>\n",
       "      <td>-45.940342</td>\n",
       "    </tr>\n",
       "    <tr>\n",
       "      <th>HG00097</th>\n",
       "      <td>87.050171</td>\n",
       "      <td>-99.744461</td>\n",
       "      <td>-54.968681</td>\n",
       "      <td>74.591003</td>\n",
       "      <td>1.720358</td>\n",
       "      <td>7.508880</td>\n",
       "      <td>0.426230</td>\n",
       "      <td>-11.574872</td>\n",
       "      <td>20.218428</td>\n",
       "      <td>-10.779680</td>\n",
       "    </tr>\n",
       "    <tr>\n",
       "      <th>HG00099</th>\n",
       "      <td>79.373650</td>\n",
       "      <td>-115.789757</td>\n",
       "      <td>-39.975815</td>\n",
       "      <td>41.511436</td>\n",
       "      <td>-14.426592</td>\n",
       "      <td>-5.903965</td>\n",
       "      <td>-8.630583</td>\n",
       "      <td>9.280060</td>\n",
       "      <td>-21.393614</td>\n",
       "      <td>-21.161434</td>\n",
       "    </tr>\n",
       "    <tr>\n",
       "      <th>HG00100</th>\n",
       "      <td>71.780014</td>\n",
       "      <td>-127.090370</td>\n",
       "      <td>-75.259132</td>\n",
       "      <td>55.650936</td>\n",
       "      <td>-15.404937</td>\n",
       "      <td>15.978599</td>\n",
       "      <td>-3.764585</td>\n",
       "      <td>11.094884</td>\n",
       "      <td>-33.660381</td>\n",
       "      <td>1.115142</td>\n",
       "    </tr>\n",
       "    <tr>\n",
       "      <th>HG00171</th>\n",
       "      <td>99.079369</td>\n",
       "      <td>-84.046814</td>\n",
       "      <td>-50.987396</td>\n",
       "      <td>17.407841</td>\n",
       "      <td>0.479848</td>\n",
       "      <td>-4.085378</td>\n",
       "      <td>-14.506476</td>\n",
       "      <td>6.486723</td>\n",
       "      <td>2.236361</td>\n",
       "      <td>13.306553</td>\n",
       "    </tr>\n",
       "    <tr>\n",
       "      <th>...</th>\n",
       "      <td>...</td>\n",
       "      <td>...</td>\n",
       "      <td>...</td>\n",
       "      <td>...</td>\n",
       "      <td>...</td>\n",
       "      <td>...</td>\n",
       "      <td>...</td>\n",
       "      <td>...</td>\n",
       "      <td>...</td>\n",
       "      <td>...</td>\n",
       "    </tr>\n",
       "    <tr>\n",
       "      <th>NA20845</th>\n",
       "      <td>82.351082</td>\n",
       "      <td>-24.166008</td>\n",
       "      <td>141.649338</td>\n",
       "      <td>-15.462114</td>\n",
       "      <td>29.582037</td>\n",
       "      <td>-8.162301</td>\n",
       "      <td>13.444261</td>\n",
       "      <td>-18.989628</td>\n",
       "      <td>14.763613</td>\n",
       "      <td>-1.979719</td>\n",
       "    </tr>\n",
       "    <tr>\n",
       "      <th>NA20846</th>\n",
       "      <td>82.898056</td>\n",
       "      <td>-43.862602</td>\n",
       "      <td>86.936867</td>\n",
       "      <td>0.830297</td>\n",
       "      <td>24.131624</td>\n",
       "      <td>12.787242</td>\n",
       "      <td>-11.718656</td>\n",
       "      <td>-4.530375</td>\n",
       "      <td>-5.666978</td>\n",
       "      <td>13.175793</td>\n",
       "    </tr>\n",
       "    <tr>\n",
       "      <th>NA20847</th>\n",
       "      <td>84.661774</td>\n",
       "      <td>-32.555290</td>\n",
       "      <td>102.173027</td>\n",
       "      <td>52.856155</td>\n",
       "      <td>28.060101</td>\n",
       "      <td>-7.547389</td>\n",
       "      <td>26.712831</td>\n",
       "      <td>13.091447</td>\n",
       "      <td>16.383205</td>\n",
       "      <td>-20.685888</td>\n",
       "    </tr>\n",
       "    <tr>\n",
       "      <th>NA20849</th>\n",
       "      <td>66.753967</td>\n",
       "      <td>-12.631242</td>\n",
       "      <td>109.059044</td>\n",
       "      <td>-3.810514</td>\n",
       "      <td>-3.477096</td>\n",
       "      <td>7.602980</td>\n",
       "      <td>19.474712</td>\n",
       "      <td>-4.524422</td>\n",
       "      <td>39.124668</td>\n",
       "      <td>-24.795589</td>\n",
       "    </tr>\n",
       "    <tr>\n",
       "      <th>GENOTYPE</th>\n",
       "      <td>55.304718</td>\n",
       "      <td>-101.054390</td>\n",
       "      <td>-81.619568</td>\n",
       "      <td>-47.534023</td>\n",
       "      <td>415.304962</td>\n",
       "      <td>-305.738434</td>\n",
       "      <td>-87.468391</td>\n",
       "      <td>11.409333</td>\n",
       "      <td>-27.229555</td>\n",
       "      <td>-85.384720</td>\n",
       "    </tr>\n",
       "  </tbody>\n",
       "</table>\n",
       "<p>105 rows × 10 columns</p>\n",
       "</div>"
      ],
      "text/plain": [
       "                  0           1           2          3           4  \\\n",
       "HG00096   76.497116 -138.998520 -117.280594  36.365726  -48.789799   \n",
       "HG00097   87.050171  -99.744461  -54.968681  74.591003    1.720358   \n",
       "HG00099   79.373650 -115.789757  -39.975815  41.511436  -14.426592   \n",
       "HG00100   71.780014 -127.090370  -75.259132  55.650936  -15.404937   \n",
       "HG00171   99.079369  -84.046814  -50.987396  17.407841    0.479848   \n",
       "...             ...         ...         ...        ...         ...   \n",
       "NA20845   82.351082  -24.166008  141.649338 -15.462114   29.582037   \n",
       "NA20846   82.898056  -43.862602   86.936867   0.830297   24.131624   \n",
       "NA20847   84.661774  -32.555290  102.173027  52.856155   28.060101   \n",
       "NA20849   66.753967  -12.631242  109.059044  -3.810514   -3.477096   \n",
       "GENOTYPE  55.304718 -101.054390  -81.619568 -47.534023  415.304962   \n",
       "\n",
       "                   5          6          7          8          9  \n",
       "HG00096    15.002202 -58.920826  85.298027 -25.198069 -45.940342  \n",
       "HG00097     7.508880   0.426230 -11.574872  20.218428 -10.779680  \n",
       "HG00099    -5.903965  -8.630583   9.280060 -21.393614 -21.161434  \n",
       "HG00100    15.978599  -3.764585  11.094884 -33.660381   1.115142  \n",
       "HG00171    -4.085378 -14.506476   6.486723   2.236361  13.306553  \n",
       "...              ...        ...        ...        ...        ...  \n",
       "NA20845    -8.162301  13.444261 -18.989628  14.763613  -1.979719  \n",
       "NA20846    12.787242 -11.718656  -4.530375  -5.666978  13.175793  \n",
       "NA20847    -7.547389  26.712831  13.091447  16.383205 -20.685888  \n",
       "NA20849     7.602980  19.474712  -4.524422  39.124668 -24.795589  \n",
       "GENOTYPE -305.738434 -87.468391  11.409333 -27.229555 -85.384720  \n",
       "\n",
       "[105 rows x 10 columns]"
      ]
     },
     "execution_count": 19,
     "metadata": {},
     "output_type": "execute_result"
    }
   ],
   "source": [
    "# mydf = pandas.merge(df_samples, df_samples)\n",
    "df_gnu = pandas.DataFrame(data=coords1, index=callset['samples'])\n",
    "df_gnu"
   ]
  },
  {
   "cell_type": "code",
   "execution_count": 20,
   "metadata": {},
   "outputs": [],
   "source": [
    "pca_samples = df_gnu.join(df_samples)"
   ]
  },
  {
   "cell_type": "code",
   "execution_count": 21,
   "metadata": {
    "collapsed": false,
    "jupyter": {
     "outputs_hidden": false
    }
   },
   "outputs": [],
   "source": [
    "# pops = pandas.merge(df_gnu, df_samples, on=['']) \n",
    "continents = pca_samples.Continental.unique()\n",
    "cont_colours = plt.cm.rainbow(np.linspace(0, 1, len(continents)))\n"
   ]
  },
  {
   "cell_type": "code",
   "execution_count": 22,
   "metadata": {},
   "outputs": [
    {
     "data": {
      "text/html": [
       "<div>\n",
       "<style scoped>\n",
       "    .dataframe tbody tr th:only-of-type {\n",
       "        vertical-align: middle;\n",
       "    }\n",
       "\n",
       "    .dataframe tbody tr th {\n",
       "        vertical-align: top;\n",
       "    }\n",
       "\n",
       "    .dataframe thead th {\n",
       "        text-align: right;\n",
       "    }\n",
       "</style>\n",
       "<table border=\"1\" class=\"dataframe\">\n",
       "  <thead>\n",
       "    <tr style=\"text-align: right;\">\n",
       "      <th></th>\n",
       "      <th>0</th>\n",
       "      <th>1</th>\n",
       "      <th>2</th>\n",
       "      <th>3</th>\n",
       "      <th>4</th>\n",
       "      <th>5</th>\n",
       "      <th>6</th>\n",
       "      <th>7</th>\n",
       "      <th>8</th>\n",
       "      <th>9</th>\n",
       "      <th>...</th>\n",
       "      <th>Other Comments</th>\n",
       "      <th>phase 3 genotypes</th>\n",
       "      <th>related genotypes</th>\n",
       "      <th>omni genotypes</th>\n",
       "      <th>affy_genotypes</th>\n",
       "      <th>Population Description</th>\n",
       "      <th>Continental</th>\n",
       "      <th>Sequence Data Available</th>\n",
       "      <th>Alignment Data Available</th>\n",
       "      <th>Variant Data Available</th>\n",
       "    </tr>\n",
       "  </thead>\n",
       "  <tbody>\n",
       "    <tr>\n",
       "      <th>HG00551</th>\n",
       "      <td>67.447319</td>\n",
       "      <td>-103.549599</td>\n",
       "      <td>-64.303085</td>\n",
       "      <td>9.860596</td>\n",
       "      <td>-21.983278</td>\n",
       "      <td>11.886654</td>\n",
       "      <td>-8.180879</td>\n",
       "      <td>26.427677</td>\n",
       "      <td>22.802696</td>\n",
       "      <td>-31.258419</td>\n",
       "      <td>...</td>\n",
       "      <td>0</td>\n",
       "      <td>1.0</td>\n",
       "      <td>0.0</td>\n",
       "      <td>1.0</td>\n",
       "      <td>1.0</td>\n",
       "      <td>Puerto Ricans from Puerto Rico</td>\n",
       "      <td>AMR</td>\n",
       "      <td>1.0</td>\n",
       "      <td>1.0</td>\n",
       "      <td>1.0</td>\n",
       "    </tr>\n",
       "    <tr>\n",
       "      <th>HG00553</th>\n",
       "      <td>-42.724495</td>\n",
       "      <td>-57.222389</td>\n",
       "      <td>-19.729828</td>\n",
       "      <td>-86.268661</td>\n",
       "      <td>-95.892120</td>\n",
       "      <td>-37.971329</td>\n",
       "      <td>12.416896</td>\n",
       "      <td>-0.124254</td>\n",
       "      <td>4.067615</td>\n",
       "      <td>-31.714033</td>\n",
       "      <td>...</td>\n",
       "      <td>0</td>\n",
       "      <td>1.0</td>\n",
       "      <td>0.0</td>\n",
       "      <td>1.0</td>\n",
       "      <td>1.0</td>\n",
       "      <td>Puerto Ricans from Puerto Rico</td>\n",
       "      <td>AMR</td>\n",
       "      <td>1.0</td>\n",
       "      <td>1.0</td>\n",
       "      <td>1.0</td>\n",
       "    </tr>\n",
       "    <tr>\n",
       "      <th>HG00554</th>\n",
       "      <td>72.824921</td>\n",
       "      <td>-101.413857</td>\n",
       "      <td>-57.644039</td>\n",
       "      <td>9.439429</td>\n",
       "      <td>-21.587681</td>\n",
       "      <td>7.428513</td>\n",
       "      <td>-4.237719</td>\n",
       "      <td>9.125296</td>\n",
       "      <td>-16.249289</td>\n",
       "      <td>0.381519</td>\n",
       "      <td>...</td>\n",
       "      <td>0</td>\n",
       "      <td>1.0</td>\n",
       "      <td>0.0</td>\n",
       "      <td>1.0</td>\n",
       "      <td>1.0</td>\n",
       "      <td>Puerto Ricans from Puerto Rico</td>\n",
       "      <td>AMR</td>\n",
       "      <td>1.0</td>\n",
       "      <td>1.0</td>\n",
       "      <td>1.0</td>\n",
       "    </tr>\n",
       "    <tr>\n",
       "      <th>HG00637</th>\n",
       "      <td>38.752457</td>\n",
       "      <td>-65.186928</td>\n",
       "      <td>-50.312145</td>\n",
       "      <td>-41.552959</td>\n",
       "      <td>-24.043499</td>\n",
       "      <td>-2.013079</td>\n",
       "      <td>-0.403144</td>\n",
       "      <td>-11.810657</td>\n",
       "      <td>15.867430</td>\n",
       "      <td>5.149922</td>\n",
       "      <td>...</td>\n",
       "      <td>0</td>\n",
       "      <td>1.0</td>\n",
       "      <td>0.0</td>\n",
       "      <td>1.0</td>\n",
       "      <td>1.0</td>\n",
       "      <td>Puerto Ricans from Puerto Rico</td>\n",
       "      <td>AMR</td>\n",
       "      <td>1.0</td>\n",
       "      <td>1.0</td>\n",
       "      <td>1.0</td>\n",
       "    </tr>\n",
       "    <tr>\n",
       "      <th>HG01112</th>\n",
       "      <td>66.692451</td>\n",
       "      <td>-97.012436</td>\n",
       "      <td>-36.598835</td>\n",
       "      <td>25.217669</td>\n",
       "      <td>10.593867</td>\n",
       "      <td>1.343070</td>\n",
       "      <td>7.928582</td>\n",
       "      <td>15.248785</td>\n",
       "      <td>2.514537</td>\n",
       "      <td>-12.733459</td>\n",
       "      <td>...</td>\n",
       "      <td>0</td>\n",
       "      <td>1.0</td>\n",
       "      <td>0.0</td>\n",
       "      <td>1.0</td>\n",
       "      <td>1.0</td>\n",
       "      <td>Colombians from Medellin, Colombia</td>\n",
       "      <td>AMR</td>\n",
       "      <td>1.0</td>\n",
       "      <td>1.0</td>\n",
       "      <td>1.0</td>\n",
       "    </tr>\n",
       "  </tbody>\n",
       "</table>\n",
       "<p>5 rows × 31 columns</p>\n",
       "</div>"
      ],
      "text/plain": [
       "                 0           1          2          3          4          5  \\\n",
       "HG00551  67.447319 -103.549599 -64.303085   9.860596 -21.983278  11.886654   \n",
       "HG00553 -42.724495  -57.222389 -19.729828 -86.268661 -95.892120 -37.971329   \n",
       "HG00554  72.824921 -101.413857 -57.644039   9.439429 -21.587681   7.428513   \n",
       "HG00637  38.752457  -65.186928 -50.312145 -41.552959 -24.043499  -2.013079   \n",
       "HG01112  66.692451  -97.012436 -36.598835  25.217669  10.593867   1.343070   \n",
       "\n",
       "                 6          7          8          9  ... Other Comments  \\\n",
       "HG00551  -8.180879  26.427677  22.802696 -31.258419  ...              0   \n",
       "HG00553  12.416896  -0.124254   4.067615 -31.714033  ...              0   \n",
       "HG00554  -4.237719   9.125296 -16.249289   0.381519  ...              0   \n",
       "HG00637  -0.403144 -11.810657  15.867430   5.149922  ...              0   \n",
       "HG01112   7.928582  15.248785   2.514537 -12.733459  ...              0   \n",
       "\n",
       "        phase 3 genotypes related genotypes  omni genotypes  affy_genotypes  \\\n",
       "HG00551               1.0               0.0             1.0             1.0   \n",
       "HG00553               1.0               0.0             1.0             1.0   \n",
       "HG00554               1.0               0.0             1.0             1.0   \n",
       "HG00637               1.0               0.0             1.0             1.0   \n",
       "HG01112               1.0               0.0             1.0             1.0   \n",
       "\n",
       "                     Population Description Continental  \\\n",
       "HG00551      Puerto Ricans from Puerto Rico         AMR   \n",
       "HG00553      Puerto Ricans from Puerto Rico         AMR   \n",
       "HG00554      Puerto Ricans from Puerto Rico         AMR   \n",
       "HG00637      Puerto Ricans from Puerto Rico         AMR   \n",
       "HG01112  Colombians from Medellin, Colombia         AMR   \n",
       "\n",
       "        Sequence Data Available Alignment Data Available  \\\n",
       "HG00551                     1.0                      1.0   \n",
       "HG00553                     1.0                      1.0   \n",
       "HG00554                     1.0                      1.0   \n",
       "HG00637                     1.0                      1.0   \n",
       "HG01112                     1.0                      1.0   \n",
       "\n",
       "        Variant Data Available  \n",
       "HG00551                    1.0  \n",
       "HG00553                    1.0  \n",
       "HG00554                    1.0  \n",
       "HG00637                    1.0  \n",
       "HG01112                    1.0  \n",
       "\n",
       "[5 rows x 31 columns]"
      ]
     },
     "execution_count": 22,
     "metadata": {},
     "output_type": "execute_result"
    }
   ],
   "source": [
    "# playing with filtering\n",
    "continents\n",
    "pca_samples_cont_filtered = pca_samples[pca_samples['Continental'] == 'AMR']\n",
    "pca_samples_cont_filtered.head()"
   ]
  },
  {
   "cell_type": "code",
   "execution_count": 23,
   "metadata": {
    "collapsed": false,
    "jupyter": {
     "outputs_hidden": false
    }
   },
   "outputs": [],
   "source": [
    "populations = pca_samples_cont_filtered.Population.unique()\n",
    "pop_colours = plt.cm.rainbow(np.linspace(0, 1, len(populations)))"
   ]
  },
  {
   "cell_type": "code",
   "execution_count": 24,
   "metadata": {
    "collapsed": false,
    "jupyter": {
     "outputs_hidden": false
    }
   },
   "outputs": [
    {
     "data": {
      "text/html": [
       "<div>\n",
       "<style scoped>\n",
       "    .dataframe tbody tr th:only-of-type {\n",
       "        vertical-align: middle;\n",
       "    }\n",
       "\n",
       "    .dataframe tbody tr th {\n",
       "        vertical-align: top;\n",
       "    }\n",
       "\n",
       "    .dataframe thead th {\n",
       "        text-align: right;\n",
       "    }\n",
       "</style>\n",
       "<table border=\"1\" class=\"dataframe\">\n",
       "  <thead>\n",
       "    <tr style=\"text-align: right;\">\n",
       "      <th></th>\n",
       "      <th>0</th>\n",
       "      <th>1</th>\n",
       "      <th>2</th>\n",
       "      <th>3</th>\n",
       "      <th>4</th>\n",
       "      <th>5</th>\n",
       "      <th>6</th>\n",
       "      <th>7</th>\n",
       "      <th>8</th>\n",
       "      <th>9</th>\n",
       "      <th>...</th>\n",
       "      <th>Other Comments</th>\n",
       "      <th>phase 3 genotypes</th>\n",
       "      <th>related genotypes</th>\n",
       "      <th>omni genotypes</th>\n",
       "      <th>affy_genotypes</th>\n",
       "      <th>Population Description</th>\n",
       "      <th>Continental</th>\n",
       "      <th>Sequence Data Available</th>\n",
       "      <th>Alignment Data Available</th>\n",
       "      <th>Variant Data Available</th>\n",
       "    </tr>\n",
       "  </thead>\n",
       "  <tbody>\n",
       "    <tr>\n",
       "      <th>HG00096</th>\n",
       "      <td>76.497116</td>\n",
       "      <td>-138.998520</td>\n",
       "      <td>-117.280594</td>\n",
       "      <td>36.365726</td>\n",
       "      <td>-48.789799</td>\n",
       "      <td>15.002202</td>\n",
       "      <td>-58.920826</td>\n",
       "      <td>85.298027</td>\n",
       "      <td>-25.198069</td>\n",
       "      <td>-45.940342</td>\n",
       "      <td>...</td>\n",
       "      <td>0</td>\n",
       "      <td>1.0</td>\n",
       "      <td>0.0</td>\n",
       "      <td>1.0</td>\n",
       "      <td>1.0</td>\n",
       "      <td>British in England and Scotland</td>\n",
       "      <td>EUR</td>\n",
       "      <td>1.0</td>\n",
       "      <td>1.0</td>\n",
       "      <td>1.0</td>\n",
       "    </tr>\n",
       "    <tr>\n",
       "      <th>HG00097</th>\n",
       "      <td>87.050171</td>\n",
       "      <td>-99.744461</td>\n",
       "      <td>-54.968681</td>\n",
       "      <td>74.591003</td>\n",
       "      <td>1.720358</td>\n",
       "      <td>7.508880</td>\n",
       "      <td>0.426230</td>\n",
       "      <td>-11.574872</td>\n",
       "      <td>20.218428</td>\n",
       "      <td>-10.779680</td>\n",
       "      <td>...</td>\n",
       "      <td>0</td>\n",
       "      <td>1.0</td>\n",
       "      <td>0.0</td>\n",
       "      <td>1.0</td>\n",
       "      <td>1.0</td>\n",
       "      <td>British in England and Scotland</td>\n",
       "      <td>EUR</td>\n",
       "      <td>1.0</td>\n",
       "      <td>1.0</td>\n",
       "      <td>1.0</td>\n",
       "    </tr>\n",
       "    <tr>\n",
       "      <th>HG00099</th>\n",
       "      <td>79.373650</td>\n",
       "      <td>-115.789757</td>\n",
       "      <td>-39.975815</td>\n",
       "      <td>41.511436</td>\n",
       "      <td>-14.426592</td>\n",
       "      <td>-5.903965</td>\n",
       "      <td>-8.630583</td>\n",
       "      <td>9.280060</td>\n",
       "      <td>-21.393614</td>\n",
       "      <td>-21.161434</td>\n",
       "      <td>...</td>\n",
       "      <td>0</td>\n",
       "      <td>1.0</td>\n",
       "      <td>0.0</td>\n",
       "      <td>1.0</td>\n",
       "      <td>1.0</td>\n",
       "      <td>British in England and Scotland</td>\n",
       "      <td>EUR</td>\n",
       "      <td>1.0</td>\n",
       "      <td>1.0</td>\n",
       "      <td>1.0</td>\n",
       "    </tr>\n",
       "    <tr>\n",
       "      <th>HG00100</th>\n",
       "      <td>71.780014</td>\n",
       "      <td>-127.090370</td>\n",
       "      <td>-75.259132</td>\n",
       "      <td>55.650936</td>\n",
       "      <td>-15.404937</td>\n",
       "      <td>15.978599</td>\n",
       "      <td>-3.764585</td>\n",
       "      <td>11.094884</td>\n",
       "      <td>-33.660381</td>\n",
       "      <td>1.115142</td>\n",
       "      <td>...</td>\n",
       "      <td>0</td>\n",
       "      <td>1.0</td>\n",
       "      <td>0.0</td>\n",
       "      <td>1.0</td>\n",
       "      <td>1.0</td>\n",
       "      <td>British in England and Scotland</td>\n",
       "      <td>EUR</td>\n",
       "      <td>1.0</td>\n",
       "      <td>1.0</td>\n",
       "      <td>1.0</td>\n",
       "    </tr>\n",
       "    <tr>\n",
       "      <th>HG00171</th>\n",
       "      <td>99.079369</td>\n",
       "      <td>-84.046814</td>\n",
       "      <td>-50.987396</td>\n",
       "      <td>17.407841</td>\n",
       "      <td>0.479848</td>\n",
       "      <td>-4.085378</td>\n",
       "      <td>-14.506476</td>\n",
       "      <td>6.486723</td>\n",
       "      <td>2.236361</td>\n",
       "      <td>13.306553</td>\n",
       "      <td>...</td>\n",
       "      <td>0</td>\n",
       "      <td>1.0</td>\n",
       "      <td>0.0</td>\n",
       "      <td>1.0</td>\n",
       "      <td>1.0</td>\n",
       "      <td>Finnish in Finland</td>\n",
       "      <td>EUR</td>\n",
       "      <td>1.0</td>\n",
       "      <td>1.0</td>\n",
       "      <td>1.0</td>\n",
       "    </tr>\n",
       "  </tbody>\n",
       "</table>\n",
       "<p>5 rows × 31 columns</p>\n",
       "</div>"
      ],
      "text/plain": [
       "                 0           1           2          3          4          5  \\\n",
       "HG00096  76.497116 -138.998520 -117.280594  36.365726 -48.789799  15.002202   \n",
       "HG00097  87.050171  -99.744461  -54.968681  74.591003   1.720358   7.508880   \n",
       "HG00099  79.373650 -115.789757  -39.975815  41.511436 -14.426592  -5.903965   \n",
       "HG00100  71.780014 -127.090370  -75.259132  55.650936 -15.404937  15.978599   \n",
       "HG00171  99.079369  -84.046814  -50.987396  17.407841   0.479848  -4.085378   \n",
       "\n",
       "                 6          7          8          9  ... Other Comments  \\\n",
       "HG00096 -58.920826  85.298027 -25.198069 -45.940342  ...              0   \n",
       "HG00097   0.426230 -11.574872  20.218428 -10.779680  ...              0   \n",
       "HG00099  -8.630583   9.280060 -21.393614 -21.161434  ...              0   \n",
       "HG00100  -3.764585  11.094884 -33.660381   1.115142  ...              0   \n",
       "HG00171 -14.506476   6.486723   2.236361  13.306553  ...              0   \n",
       "\n",
       "        phase 3 genotypes related genotypes  omni genotypes  affy_genotypes  \\\n",
       "HG00096               1.0               0.0             1.0             1.0   \n",
       "HG00097               1.0               0.0             1.0             1.0   \n",
       "HG00099               1.0               0.0             1.0             1.0   \n",
       "HG00100               1.0               0.0             1.0             1.0   \n",
       "HG00171               1.0               0.0             1.0             1.0   \n",
       "\n",
       "                  Population Description Continental Sequence Data Available  \\\n",
       "HG00096  British in England and Scotland         EUR                     1.0   \n",
       "HG00097  British in England and Scotland         EUR                     1.0   \n",
       "HG00099  British in England and Scotland         EUR                     1.0   \n",
       "HG00100  British in England and Scotland         EUR                     1.0   \n",
       "HG00171               Finnish in Finland         EUR                     1.0   \n",
       "\n",
       "        Alignment Data Available Variant Data Available  \n",
       "HG00096                      1.0                    1.0  \n",
       "HG00097                      1.0                    1.0  \n",
       "HG00099                      1.0                    1.0  \n",
       "HG00100                      1.0                    1.0  \n",
       "HG00171                      1.0                    1.0  \n",
       "\n",
       "[5 rows x 31 columns]"
      ]
     },
     "execution_count": 24,
     "metadata": {},
     "output_type": "execute_result"
    }
   ],
   "source": [
    "pca_samples.head()"
   ]
  },
  {
   "cell_type": "code",
   "execution_count": 25,
   "metadata": {},
   "outputs": [],
   "source": [
    "def plot_pca_coords(coords, model, pc1, pc2, ax, sample_population, pops, pop_colors):\n",
    "    sns.despine(ax=ax, offset=5)\n",
    "    x = coords[:, pc1]\n",
    "    y = coords[:, pc2]\n",
    "    for pop,color in zip(pops, pop_colors):\n",
    "        flt = (sample_population == pop)\n",
    "        ax.plot(x[flt], y[flt], marker='o', linestyle=' ', color=color, \n",
    "                label=pop, markersize=6, mec='k', mew=.5)\n",
    "\n",
    "#        ax.scatter(x[flt], y[flt]) #, s=50) color=color\n",
    "\n",
    "    ax.set_xlabel('PC%s (%.1f%%)' % (pc1+1, model.explained_variance_ratio_[pc1]*100))\n",
    "    ax.set_ylabel('PC%s (%.1f%%)' % (pc2+1, model.explained_variance_ratio_[pc2]*100))\n",
    "    \n",
    "\n",
    "def fig_pca_cont(ax1, ax2, coords, model, title, sample_population=None):\n",
    "    if sample_population is None:\n",
    "        sample_population = pca_samples.Continental.values\n",
    "    # plot coords for PCs 1 vs 2, 3 vs 4\n",
    "    plot_pca_coords(coords, model, 0, 1, ax1, sample_population, continents, cont_colours)\n",
    "    #plot_pca_coords(coords, model, 2, 3, ax2, sample_population, continents, cont_colours)\n",
    "    fig.suptitle(title, y=1.02)\n",
    "    fig.tight_layout()\n"
   ]
  },
  {
   "cell_type": "code",
   "execution_count": 26,
   "metadata": {
    "collapsed": false,
    "jupyter": {
     "outputs_hidden": false
    }
   },
   "outputs": [
    {
     "data": {
      "image/png": "[encoded data removed]",
      "text/plain": [
       "<Figure size 1000x1000 with 1 Axes>"
      ]
     },
     "metadata": {},
     "output_type": "display_data"
    }
   ],
   "source": [
    "fig = plt.figure(figsize=(10, 10))\n",
    "ax1 = fig.add_subplot(1, 1, 1)\n",
    "#ax2 = fig.add_subplot(1, 2, 2)\n",
    "ax2=None\n",
    "fig_pca_cont(ax1, ax2, coords1, model1, 'Figure 4. Continental PCA.')\n",
    "\n",
    "ax1.plot(coords1[104,0], coords1[104,1], marker='*', linestyle=' ', color='0.8', label='NA', markersize=10, mec='k', mew=0.5)\n",
    "#ax2.plot(coords1[104,2], coords1[104,3], marker='*', linestyle=' ', color='0.8', label='NA', markersize=10, mec='k', mew=0.5)\n",
    "#ax1.invert_xaxis()\n",
    "#ax1.invert_yaxis()\n",
    "\n",
    "ax1.legend(bbox_to_anchor=(1,1), loc='upper left')\n",
    "fig.savefig(\"continental_plot.png\")"
   ]
  },
  {
   "cell_type": "code",
   "execution_count": 27,
   "metadata": {
    "collapsed": false,
    "jupyter": {
     "outputs_hidden": false
    }
   },
   "outputs": [],
   "source": [
    "def fig_pca_pop(ax1, ax2, coords, model, title, sample_population=None):\n",
    "    if sample_population is None:\n",
    "        sample_population = pca_samples.Population.values\n",
    "    # plot coords for PCs 1 vs 2, 3 vs 4\n",
    "    plot_pca_coords(coords, model, 0, 1, ax1, sample_population, populations, pop_colours)\n",
    "    #plot_pca_coords(coords, model, 2, 3, ax2, sample_population, populations, pop_colours)\n",
    "    fig.suptitle(title, y=1.02)\n",
    "    fig.tight_layout()\n",
    "    "
   ]
  },
  {
   "cell_type": "code",
   "execution_count": 28,
   "metadata": {
    "collapsed": false,
    "jupyter": {
     "outputs_hidden": false
    },
    "scrolled": true
   },
   "outputs": [
    {
     "data": {
      "image/png": "[encoded data removed]",
      "text/plain": [
       "<Figure size 1000x1000 with 1 Axes>"
      ]
     },
     "metadata": {},
     "output_type": "display_data"
    }
   ],
   "source": [
    "\n",
    "\n",
    "fig = plt.figure(figsize=(10, 10))\n",
    "ax1 = fig.add_subplot(1, 1, 1)\n",
    "ax2=None\n",
    "#ax2 = fig.add_subplot(1, 2, 2)\n",
    "\n",
    "fig_pca_pop(ax1, ax2, coords1, model1, 'Figure 5. population PCA.')\n",
    "\n",
    "ax1.plot(coords1[104,0], coords1[104,1], marker='*', linestyle=' ', color='0.8', label='NA', markersize=10, mec='k', mew=0.5)\n",
    "#ax2.plot(coords1[104,3], coords1[104,4], marker='*', linestyle=' ', color='0.8', label='NA', markersize=10, mec='k', mew=0.5)\n",
    "#ax1.invert_xaxis()\n",
    "#ax1.invert_yaxis()\n",
    "ax1.legend(bbox_to_anchor=(1,1), loc='upper left')\n",
    "\n",
    "fig.savefig(\"population_plot.png\")"
   ]
  },
  {
   "cell_type": "code",
   "execution_count": null,
   "metadata": {
    "collapsed": true,
    "jupyter": {
     "outputs_hidden": true
    }
   },
   "outputs": [],
   "source": []
  }
 ],
 "metadata": {
  "kernelspec": {
   "display_name": "Python 3 (ipykernel)",
   "language": "python",
   "name": "python3"
  },
  "language_info": {
   "codemirror_mode": {
    "name": "ipython",
    "version": 3
   },
   "file_extension": ".py",
   "mimetype": "text/x-python",
   "name": "python",
   "nbconvert_exporter": "python",
   "pygments_lexer": "ipython3",
   "version": "3.10.11"
  }
 },
 "nbformat": 4,
 "nbformat_minor": 4
}
